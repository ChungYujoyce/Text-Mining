{
 "cells": [
  {
   "cell_type": "markdown",
   "metadata": {},
   "source": [
    "### Use TF-IDF technique to determine the spam messages"
   ]
  },
  {
   "cell_type": "code",
   "execution_count": 1,
   "metadata": {},
   "outputs": [],
   "source": [
    "import pandas as pd\n",
    "\n",
    "def load_data(filepath):\n",
    "    data = pd.read_csv(filepath, usecols = [0,1], encoding='latin-1')\n",
    "    data.columns = ['label', 'content']\n",
    "    return data\n",
    "\n",
    "file = r'C:\\\\Users\\USER\\\\Desktop\\\\Text-Mining\\\\spam_genuine_classification/spam.csv'\n",
    "data = load_data(file)\n"
   ]
  },
  {
   "cell_type": "code",
   "execution_count": 2,
   "metadata": {},
   "outputs": [],
   "source": [
    "# change the label for convenience\n",
    "for i in range(data.shape[0]):\n",
    "    if data.iloc[i].label == 'ham':\n",
    "        data.iloc[i].label = 'genuine'"
   ]
  },
  {
   "cell_type": "code",
   "execution_count": 3,
   "metadata": {},
   "outputs": [],
   "source": [
    "# split training / test set\n",
    "import numpy as np\n",
    "\n",
    "def split_data(data):\n",
    "    n = int(data.shape[0])\n",
    "    tmp_train = (np.random.rand(n) >= 0.5)\n",
    "    return data.iloc[np.where(tmp_train == True)[0]], data.iloc[np.where(tmp_train == False)[0]]\n",
    "\n",
    "train, test = split_data(data)"
   ]
  },
  {
   "cell_type": "markdown",
   "metadata": {},
   "source": [
    "#### calculate which terms are important from training set"
   ]
  },
  {
   "cell_type": "code",
   "execution_count": 4,
   "metadata": {},
   "outputs": [],
   "source": [
    "import re\n",
    "\n",
    "# size_table: feature matrix size\n",
    "# ignore: length of the characters less than it will be ignored\n",
    "\n",
    "def gen_key_list(data, size_table = 200, ignore = 3):\n",
    "    spam_raw = dict()\n",
    "    genuine_raw = dict()\n",
    "    IDF = dict()\n",
    "    \n",
    "    for i in range(data.shape[0]):\n",
    "        finds = re.findall('[A-Za-z]+', data.iloc[i].content)\n",
    "        if data.iloc[i].label == 'spam':\n",
    "            for find in finds:\n",
    "                if len(find) < ignore:\n",
    "                    continue\n",
    "                find = find.lower()\n",
    "                try:\n",
    "                    spam_raw[find] = spam_raw[find] + 1\n",
    "                except:\n",
    "                    spam_raw[find] = spam_raw.get(find, 1)\n",
    "                    genuine_raw[find] = genuine_raw.get(find, 0)\n",
    "        else:\n",
    "            for find in finds:\n",
    "                if len(finds) < ignore:\n",
    "                    continue\n",
    "                find = find.lower()\n",
    "                try:\n",
    "                    genuine_raw[find] = genuine_raw[find] + 1\n",
    "                except:\n",
    "                    genuine_raw[find] = genuine_raw.get(find, 1)\n",
    "                    spam_raw[find] = spam_raw.get(find, 0)\n",
    "        \n",
    "        word_set = set()\n",
    "        for find in finds:\n",
    "            if len(find) < ignore: continue\n",
    "            find = find.lower()\n",
    "            if not(find in word_set):\n",
    "                try:\n",
    "                    IDF[find] = IDF[find] + 1\n",
    "                except:\n",
    "                    IDF[find] = IDF.get(find, 1)\n",
    "            word_set.add(find)\n",
    "            \n",
    "    word = pd.DataFrame(list(zip(genuine_raw.keys(), genuine_raw.values(), spam_raw.values(), IDF.values())))\n",
    "    word.columns = ['keyword','genuine','spam','IDF']\n",
    "    word['genuine'] = word['genuine'].astype('float')/train[train['label']=='genuine'].shape[0]\n",
    "    word['spam'] = word['spam'].astype('float')/train[train['label']=='spam'].shape[0]\n",
    "    word['IDF'] = np.log10(word.shape[0]/word['IDF'].astype('float'))\n",
    "    word['genuine_IDF'] = word['genuine']* word['IDF']\n",
    "    word['spam_IDF'] = word['spam']* word['IDF']\n",
    "    word['diff'] = word['spam_IDF'] - word['genuine_IDF']\n",
    "    selected_spam_key = word.sort_values('diff', ascending= False)\n",
    "    keyword = dict()\n",
    "    i = 0\n",
    "    for word in selected_spam_key.head(size_table).keyword:\n",
    "        keyword.update({word.strip():i})\n",
    "        i += 1\n",
    "    return keyword\n",
    "        "
   ]
  },
  {
   "cell_type": "code",
   "execution_count": 5,
   "metadata": {},
   "outputs": [],
   "source": [
    "# build a tabu list based on the training data\n",
    "size_table = 300      # how many features are used to classify spam\n",
    "word_len_ignored = 3  # ignore those words shorter than this variable\n",
    "keyword = gen_key_list(data, size_table, word_len_ignored)"
   ]
  },
  {
   "cell_type": "markdown",
   "metadata": {},
   "source": [
    "#### Turn the training set and test set to feature vector"
   ]
  },
  {
   "cell_type": "code",
   "execution_count": 6,
   "metadata": {},
   "outputs": [],
   "source": [
    "def convert_content(content, keyword):\n",
    "    m = len(keyword)\n",
    "    res = np.int_(np.zeros(m))\n",
    "    finds = re.findall('[A-Za-z]+', content)\n",
    "    for find in finds:\n",
    "        find = find.lower()\n",
    "        try:\n",
    "            i = keyword[find]\n",
    "            res[i] = 1\n",
    "        except:\n",
    "            continue\n",
    "    return res"
   ]
  },
  {
   "cell_type": "code",
   "execution_count": 7,
   "metadata": {},
   "outputs": [],
   "source": [
    "def raw2feature(train, test, keyword):\n",
    "    n_train = train.shape[0]\n",
    "    n_test = test.shape[0]\n",
    "    m = len(keyword)\n",
    "    x_train = np.zeros((n_train, m))\n",
    "    x_test = np.zeros((n_test, m))\n",
    "    y_train = np.int_(train.label == 'spam')\n",
    "    y_test = np.int_(test.label == 'spam')\n",
    "    \n",
    "    for i in range(n_train):\n",
    "        x_train[i,:] = convert_content(train.iloc[i].content, keyword)\n",
    "    \n",
    "    for i in range(n_test):\n",
    "        x_test[i,:] = convert_content(test.iloc[i].content, keyword)\n",
    "    \n",
    "    return [x_train,y_train],[x_test,y_test]\n",
    "\n",
    "train, test = raw2feature(train, test, keyword)"
   ]
  },
  {
   "cell_type": "markdown",
   "metadata": {},
   "source": [
    "#### Train classifier by feature data"
   ]
  },
  {
   "cell_type": "code",
   "execution_count": 8,
   "metadata": {},
   "outputs": [],
   "source": [
    "from sklearn.ensemble import RandomForestClassifier\n",
    "from sklearn.naive_bayes import BernoulliNB \n",
    "\n",
    "def learn(train):\n",
    "    model_NB = BernoulliNB()\n",
    "    model_NB.fit(train[0], train[1])\n",
    "    Y_hat_NB = model_NB.predict(train[0])\n",
    "    \n",
    "    model_RF = RandomForestClassifier(n_estimators = 10, max_depth = None, min_samples_split = 2, random_state = 0)\n",
    "    model_RF.fit(train[0], train[1])\n",
    "    Y_hat_RF = model_RF.predict(train[0])\n",
    "    \n",
    "    n = np.size(train[1])\n",
    "    print('Training Accuarcy NBclassifier : {:.2f}％'.format(sum(np.int_(Y_hat_NB == train[1]))*100./n))\n",
    "    print('Training Accuarcy RF: {:.2f}％'.format(sum(np.int_(Y_hat_RF == train[1]))*100./n))\n",
    "    return model_NB, model_RF\n"
   ]
  },
  {
   "cell_type": "code",
   "execution_count": 9,
   "metadata": {},
   "outputs": [
    {
     "name": "stdout",
     "output_type": "stream",
     "text": [
      "Training Accuarcy NBclassifier : 98.12％\n",
      "Training Accuarcy RF: 99.64％\n"
     ]
    }
   ],
   "source": [
    "model_NB, model_RF = learn(train)"
   ]
  },
  {
   "cell_type": "markdown",
   "metadata": {},
   "source": [
    "#### Testing"
   ]
  },
  {
   "cell_type": "code",
   "execution_count": 13,
   "metadata": {
    "scrolled": true
   },
   "outputs": [
    {
     "name": "stdout",
     "output_type": "stream",
     "text": [
      "Testing Accuarcy: 97.97％ (sklearn.naive_bayes)\n",
      "Testing Accuarcy: 96.30％ (sklearn.ensemble.forest)\n"
     ]
    }
   ],
   "source": [
    "def Test(test, model):\n",
    "    Y_hat = model.predict(test[0])\n",
    "    n = np.size(test[1])\n",
    "    print ('Testing Accuarcy: {:.2f}％ ({})'.format(sum(np.int_(Y_hat == test[1]))*100./n,model.__module__))\n",
    "Test(test, model_NB)\n",
    "Test(test, model_RF)"
   ]
  },
  {
   "cell_type": "markdown",
   "metadata": {},
   "source": [
    "##### Radom forest has some overfitting, so that the testing result is worse"
   ]
  },
  {
   "cell_type": "markdown",
   "metadata": {},
   "source": [
    "Random Testing"
   ]
  },
  {
   "cell_type": "code",
   "execution_count": 16,
   "metadata": {},
   "outputs": [],
   "source": [
    "def predictSMS(SMS,model,keyword_dict):\n",
    "    X = convert_content(SMS, keyword_dict)\n",
    "    Y_hat = model.predict(X.reshape(1,-1))\n",
    "    if int(Y_hat) == 1:\n",
    "        print ('SPAM: {}'.format(SMS))\n",
    "    else:\n",
    "        print ('GENUINE: {}'.format(SMS))"
   ]
  },
  {
   "cell_type": "code",
   "execution_count": 19,
   "metadata": {},
   "outputs": [
    {
     "name": "stdout",
     "output_type": "stream",
     "text": [
      "SPAM: We know that many of your recruiting and interviewing cycles have been thrown out of order. We're offering a 15% discount to book additional coaching sessions with our\n",
      "\n",
      "\n",
      "GENUINE: This task is not strictly about getting the best submission score, since it involves data that changes in real-time. Instead, we’re looking for well-developed approaches to building a model on real-world data.\n"
     ]
    }
   ],
   "source": [
    "test1 = 'We know that many of your recruiting and interviewing cycles have been thrown out of order. We\\'re offering a 15% discount to book additional coaching sessions with our'\n",
    "test2 = 'This task is not strictly about getting the best submission score, since it involves data that changes in real-time. Instead, we’re looking for well-developed approaches to building a model on real-world data.'\n",
    "\n",
    "predictSMS(test1, model_NB, keyword)\n",
    "print('\\n')\n",
    "predictSMS(test2, model_RF, keyword)"
   ]
  },
  {
   "cell_type": "code",
   "execution_count": null,
   "metadata": {},
   "outputs": [],
   "source": []
  }
 ],
 "metadata": {
  "kernelspec": {
   "display_name": "Python 3",
   "language": "python",
   "name": "python3"
  },
  "language_info": {
   "codemirror_mode": {
    "name": "ipython",
    "version": 3
   },
   "file_extension": ".py",
   "mimetype": "text/x-python",
   "name": "python",
   "nbconvert_exporter": "python",
   "pygments_lexer": "ipython3",
   "version": "3.7.3"
  }
 },
 "nbformat": 4,
 "nbformat_minor": 2
}
