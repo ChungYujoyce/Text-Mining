{
 "cells": [
  {
   "cell_type": "markdown",
   "metadata": {},
   "source": [
    "### Use TF-IDF technique to determine the spam messages"
   ]
  },
  {
   "cell_type": "code",
   "execution_count": 20,
   "metadata": {},
   "outputs": [],
   "source": [
    "import pandas as pd\n",
    "\n",
    "def load_data(filepath):\n",
    "    data = pd.read_csv(filepath, usecols = [0,1], encoding='latin-1')\n",
    "    data.columns = ['label', 'content']\n",
    "    return data\n",
    "\n",
    "file = r'C:\\\\Users\\USER\\\\Desktop\\\\Text-Mining\\\\spam_genuine_classification/spam.csv'\n",
    "data = load_data(file)\n"
   ]
  },
  {
   "cell_type": "code",
   "execution_count": 21,
   "metadata": {},
   "outputs": [],
   "source": [
    "# change the label for convenience\n",
    "for i in range(data.shape[0]):\n",
    "    if data.iloc[i].label == 'ham':\n",
    "        data.iloc[i].label = 'genuine'"
   ]
  },
  {
   "cell_type": "code",
   "execution_count": 22,
   "metadata": {},
   "outputs": [],
   "source": [
    "# split training / test set\n",
    "import numpy as np\n",
    "\n",
    "def split_data(data):\n",
    "    n = int(data.shape[0])\n",
    "    tmp_train = (np.random.rand(n) >= 0.5)\n",
    "    return data.iloc[np.where(tmp_train == True)[0]], data.iloc[np.where(tmp_train == False)[0]]\n",
    "\n",
    "train, test = split_data(data)"
   ]
  },
  {
   "cell_type": "markdown",
   "metadata": {},
   "source": [
    "#### calculate which terms are important from training set"
   ]
  },
  {
   "cell_type": "code",
   "execution_count": 23,
   "metadata": {},
   "outputs": [],
   "source": [
    "import re\n",
    "\n",
    "# size_table: feature matrix size\n",
    "# ignore: length of the characters less than it will be ignored\n",
    "\n",
    "def gen_key_list(data, size_table = 200, ignore = 3):\n",
    "    spam_raw = dict()\n",
    "    genuine_raw = dict()\n",
    "    IDF = dict()\n",
    "    \n",
    "    for i in range(data.shape[0]):\n",
    "        finds = re.findall('[A-Za-z]+', data.iloc[i].content)\n",
    "        if data.iloc[i].label == 'spam':\n",
    "            for find in finds:\n",
    "                if len(find) < ignore:\n",
    "                    continue\n",
    "                find = find.lower()\n",
    "                try:\n",
    "                    spam_raw[find] = spam_raw[find] + 1\n",
    "                except:\n",
    "                    spam_raw[find] = spam_raw.get(find, 1)\n",
    "                    genuine_raw[find] = genuine_raw.get(find, 0)\n",
    "        else:\n",
    "            for find in finds:\n",
    "                if len(finds) < ignore:\n",
    "                    continue\n",
    "                find = find.lower()\n",
    "                try:\n",
    "                    genuine_raw[find] = genuine_raw[find] + 1\n",
    "                except:\n",
    "                    genuine_raw[find] = genuine_raw.get(find, 1)\n",
    "                    spam_raw[find] = spam_raw.get(find, 0)\n",
    "        \n",
    "        word_set = set()\n",
    "        for find in finds:\n",
    "            if len(find) < ignore: continue\n",
    "            find = find.lower()\n",
    "            if not(find in word_set):\n",
    "                try:\n",
    "                    IDF[find] = IDF[find] + 1\n",
    "                except:\n",
    "                    IDF[find] = IDF.get(find, 1)\n",
    "            word_set.add(find)\n",
    "            \n",
    "    word = pd.DataFrame(list(zip(genuine_raw.keys(), genuine_raw.values(), spam_raw.values(), IDF.values())))\n",
    "    word.columns = ['keyword','genuine','spam','IDF']\n",
    "    word['genuine'] = word['genuine'].astype('float')/train[train['label']=='genuine'].shape[0]\n",
    "    word['spam'] = word['spam'].astype('float')/train[train['label']=='spam'].shape[0]\n",
    "    word['IDF'] = np.log10(word.shape[0]/word['IDF'].astype('float'))\n",
    "    word['genuine_IDF'] = word['genuine']* word['IDF']\n",
    "    word['spam_IDF'] = word['spam']* word['IDF']\n",
    "    word['diff'] = word['spam_IDF'] - word['genuine_IDF']\n",
    "    selected_spam_key = word.sort_values('diff', ascending= False)\n",
    "    keyword = dict()\n",
    "    i = 0\n",
    "    for word in selected_spam_key.head(size_table).keyword:\n",
    "        keyword.update({word.strip():i})\n",
    "        i += 1\n",
    "    return keyword\n",
    "        "
   ]
  },
  {
   "cell_type": "code",
   "execution_count": 24,
   "metadata": {},
   "outputs": [],
   "source": [
    "# build a tabu list based on the training data\n",
    "size_table = 300      # how many features are used to classify spam\n",
    "word_len_ignored = 3  # ignore those words shorter than this variable\n",
    "keyword = gen_key_list(data, size_table, word_len_ignored)"
   ]
  },
  {
   "cell_type": "markdown",
   "metadata": {},
   "source": [
    "#### Turn the training set and test set to feature vector"
   ]
  },
  {
   "cell_type": "code",
   "execution_count": 29,
   "metadata": {},
   "outputs": [],
   "source": [
    "def convert_content(content, keyword):\n",
    "    m = len(keyword)\n",
    "    res = np.int_(np.zeros(m))\n",
    "    finds = re.findall('[A-Za-z]+', content)\n",
    "    for find in finds:\n",
    "        find = find.lower()\n",
    "        try:\n",
    "            i = keyword[find]\n",
    "            res[i] = 1\n",
    "        except:\n",
    "            continue\n",
    "    return res"
   ]
  },
  {
   "cell_type": "code",
   "execution_count": 30,
   "metadata": {},
   "outputs": [],
   "source": [
    "def raw2feature(train, test, keyword):\n",
    "    n_train = train.shape[0]\n",
    "    n_test = test.shape[0]\n",
    "    m = len(keyword)\n",
    "    x_train = np.zeros((n_train, m))\n",
    "    x_test = np.zeros((n_test, m))\n",
    "    y_train = np.int_(train.label == 'spam')\n",
    "    y_test = np.int_(test.label == 'spam')\n",
    "    \n",
    "    for i in range(n_train):\n",
    "        x_train[i,:] = convert_content(train.iloc[i].content, keyword)\n",
    "    \n",
    "    for i in range(n_test):\n",
    "        x_test[i,:] = convert_content(test.iloc[i].content, keyword)\n",
    "    \n",
    "    return [x_train,y_train],[x_test,y_test]\n",
    "\n",
    "train, test = raw2feature(train, test, keyword)"
   ]
  },
  {
   "cell_type": "markdown",
   "metadata": {},
   "source": [
    "#### Train classifier by feature data"
   ]
  },
  {
   "cell_type": "code",
   "execution_count": 31,
   "metadata": {},
   "outputs": [],
   "source": [
    "from sklearn.ensemble import RandomForestClassifier\n",
    "from sklearn.naive_bayes import BernoulliNB \n",
    "\n",
    "def learn(train):\n",
    "    model_NB = BernoulliNB()\n",
    "    model_NB.fit(train[0], train[1])\n",
    "    Y_hat_NB = model_NB.predict(train[0])\n",
    "    \n",
    "    model_RF = RandomForestClassifier(n_estimators = 10, max_depth = None, min_samples_split = 2, random_state = 0)\n",
    "    model_RF.fit(train[0], train[1])\n",
    "    Y_hat_RF = model_RF.predict(train[0])\n",
    "    \n",
    "    n = np.size(train[1])\n",
    "    print('Training Accuarcy NBclassifier : {:.2f}％'.format(sum(np.int_(Y_hat_NB==Train[1]))*100./n))\n",
    "    print('Training Accuarcy RF: {:.2f}％'.format(sum(np.int_(Y_hat_RF==Train[1]))*100./n))\n",
    "    return model_NB,model_RF\n"
   ]
  },
  {
   "cell_type": "code",
   "execution_count": 33,
   "metadata": {},
   "outputs": [
    {
     "ename": "NameError",
     "evalue": "name 'Train' is not defined",
     "output_type": "error",
     "traceback": [
      "\u001b[1;31m---------------------------------------------------------------------------\u001b[0m",
      "\u001b[1;31mNameError\u001b[0m                                 Traceback (most recent call last)",
      "\u001b[1;32m<ipython-input-33-886dcf04a6c4>\u001b[0m in \u001b[0;36m<module>\u001b[1;34m\u001b[0m\n\u001b[1;32m----> 1\u001b[1;33m \u001b[0mmodel_NB\u001b[0m\u001b[1;33m,\u001b[0m\u001b[0mmodel_RF\u001b[0m \u001b[1;33m=\u001b[0m \u001b[0mlearn\u001b[0m\u001b[1;33m(\u001b[0m\u001b[0mtrain\u001b[0m\u001b[1;33m)\u001b[0m\u001b[1;33m\u001b[0m\u001b[1;33m\u001b[0m\u001b[0m\n\u001b[0m",
      "\u001b[1;32m<ipython-input-31-0798ce5654be>\u001b[0m in \u001b[0;36mlearn\u001b[1;34m(train)\u001b[0m\n\u001b[0;32m     12\u001b[0m \u001b[1;33m\u001b[0m\u001b[0m\n\u001b[0;32m     13\u001b[0m     \u001b[0mn\u001b[0m \u001b[1;33m=\u001b[0m \u001b[0mnp\u001b[0m\u001b[1;33m.\u001b[0m\u001b[0msize\u001b[0m\u001b[1;33m(\u001b[0m\u001b[0mtrain\u001b[0m\u001b[1;33m[\u001b[0m\u001b[1;36m1\u001b[0m\u001b[1;33m]\u001b[0m\u001b[1;33m)\u001b[0m\u001b[1;33m\u001b[0m\u001b[1;33m\u001b[0m\u001b[0m\n\u001b[1;32m---> 14\u001b[1;33m     \u001b[0mprint\u001b[0m\u001b[1;33m(\u001b[0m\u001b[1;34m'Training Accuarcy NBclassifier : {:.2f}％'\u001b[0m\u001b[1;33m.\u001b[0m\u001b[0mformat\u001b[0m\u001b[1;33m(\u001b[0m\u001b[0msum\u001b[0m\u001b[1;33m(\u001b[0m\u001b[0mnp\u001b[0m\u001b[1;33m.\u001b[0m\u001b[0mint_\u001b[0m\u001b[1;33m(\u001b[0m\u001b[0mY_hat_NB\u001b[0m\u001b[1;33m==\u001b[0m\u001b[0mTrain\u001b[0m\u001b[1;33m[\u001b[0m\u001b[1;36m1\u001b[0m\u001b[1;33m]\u001b[0m\u001b[1;33m)\u001b[0m\u001b[1;33m)\u001b[0m\u001b[1;33m*\u001b[0m\u001b[1;36m100.\u001b[0m\u001b[1;33m/\u001b[0m\u001b[0mn\u001b[0m\u001b[1;33m)\u001b[0m\u001b[1;33m)\u001b[0m\u001b[1;33m\u001b[0m\u001b[1;33m\u001b[0m\u001b[0m\n\u001b[0m\u001b[0;32m     15\u001b[0m     \u001b[0mprint\u001b[0m\u001b[1;33m(\u001b[0m\u001b[1;34m'Training Accuarcy RF: {:.2f}％'\u001b[0m\u001b[1;33m.\u001b[0m\u001b[0mformat\u001b[0m\u001b[1;33m(\u001b[0m\u001b[0msum\u001b[0m\u001b[1;33m(\u001b[0m\u001b[0mnp\u001b[0m\u001b[1;33m.\u001b[0m\u001b[0mint_\u001b[0m\u001b[1;33m(\u001b[0m\u001b[0mY_hat_RF\u001b[0m\u001b[1;33m==\u001b[0m\u001b[0mTrain\u001b[0m\u001b[1;33m[\u001b[0m\u001b[1;36m1\u001b[0m\u001b[1;33m]\u001b[0m\u001b[1;33m)\u001b[0m\u001b[1;33m)\u001b[0m\u001b[1;33m*\u001b[0m\u001b[1;36m100.\u001b[0m\u001b[1;33m/\u001b[0m\u001b[0mn\u001b[0m\u001b[1;33m)\u001b[0m\u001b[1;33m)\u001b[0m\u001b[1;33m\u001b[0m\u001b[1;33m\u001b[0m\u001b[0m\n\u001b[0;32m     16\u001b[0m     \u001b[1;32mreturn\u001b[0m \u001b[0mmodel_NB\u001b[0m\u001b[1;33m,\u001b[0m\u001b[0mmodel_RF\u001b[0m\u001b[1;33m\u001b[0m\u001b[1;33m\u001b[0m\u001b[0m\n",
      "\u001b[1;31mNameError\u001b[0m: name 'Train' is not defined"
     ]
    }
   ],
   "source": [
    "model_NB,model_RF = learn(train)"
   ]
  },
  {
   "cell_type": "code",
   "execution_count": null,
   "metadata": {},
   "outputs": [],
   "source": []
  }
 ],
 "metadata": {
  "kernelspec": {
   "display_name": "Python 3",
   "language": "python",
   "name": "python3"
  },
  "language_info": {
   "codemirror_mode": {
    "name": "ipython",
    "version": 3
   },
   "file_extension": ".py",
   "mimetype": "text/x-python",
   "name": "python",
   "nbconvert_exporter": "python",
   "pygments_lexer": "ipython3",
   "version": "3.7.3"
  }
 },
 "nbformat": 4,
 "nbformat_minor": 2
}
