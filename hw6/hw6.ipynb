{
 "cells": [
  {
   "cell_type": "code",
   "execution_count": 1,
   "metadata": {},
   "outputs": [
    {
     "name": "stdout",
     "output_type": "stream",
     "text": [
      "Requirement already satisfied: beautifulsoup4 in c:\\users\\user\\anaconda3\\lib\\site-packages (4.7.1)\n",
      "Requirement already satisfied: soupsieve>=1.2 in c:\\users\\user\\anaconda3\\lib\\site-packages (from beautifulsoup4) (1.8)\n",
      "Requirement already satisfied: requests in c:\\users\\user\\anaconda3\\lib\\site-packages (2.21.0)\n",
      "Requirement already satisfied: urllib3<1.25,>=1.21.1 in c:\\users\\user\\anaconda3\\lib\\site-packages (from requests) (1.24.1)\n",
      "Requirement already satisfied: certifi>=2017.4.17 in c:\\users\\user\\anaconda3\\lib\\site-packages (from requests) (2019.3.9)\n",
      "Requirement already satisfied: chardet<3.1.0,>=3.0.2 in c:\\users\\user\\anaconda3\\lib\\site-packages (from requests) (3.0.4)\n",
      "Requirement already satisfied: idna<2.9,>=2.5 in c:\\users\\user\\anaconda3\\lib\\site-packages (from requests) (2.8)\n"
     ]
    }
   ],
   "source": [
    "!pip install beautifulsoup4\n",
    "!pip install requests"
   ]
  },
  {
   "cell_type": "code",
   "execution_count": 2,
   "metadata": {},
   "outputs": [],
   "source": [
    "import requests\n",
    "from bs4 import BeautifulSoup\n",
    "import re\n",
    "import pandas as pd"
   ]
  },
  {
   "cell_type": "markdown",
   "metadata": {},
   "source": [
    "### Load data on IMDb by BeautifulSoup"
   ]
  },
  {
   "cell_type": "code",
   "execution_count": 3,
   "metadata": {},
   "outputs": [],
   "source": [
    "# since movie title on IMDb would automatically convert my website title to chinese according to my web domain\n",
    "#so I need to check out ther website for movie titles\n",
    "url = \"http://filmcentrum.nl/imdb250/\"\n",
    "html = requests.get(url)\n",
    "soup = BeautifulSoup(html.text, 'html.parser')\n",
    "titles = soup.find_all('div',{'class':\"lijstenFilm\"})\n",
    "years = soup.find_all(\"div\", {'class': \"lijstenJaar\"})\n",
    "process_title = []\n",
    "count = 0\n",
    "#print(titles)\n",
    "# remove blank in titles\n",
    "for i in titles:\n",
    "    ii = i.get_text()\n",
    "    process_title.append(ii[6:-2] + \" (\"+ str(years[count].get_text()) +\")\")\n",
    "    count += 1\n",
    "    \n",
    "#print(process_title)"
   ]
  },
  {
   "cell_type": "code",
   "execution_count": 4,
   "metadata": {},
   "outputs": [
    {
     "name": "stdout",
     "output_type": "stream",
     "text": [
      "194\n"
     ]
    }
   ],
   "source": [
    "url = \"https://www.imdb.com/chart/top/?ref_=nv_mv_250\"\n",
    "html = requests.get(url)\n",
    "soup = BeautifulSoup(html.text, 'html.parser')\n",
    "links = soup.find_all(\"a\", href = re.compile(\"^/title/tt\\d\"))\n",
    "article = []\n",
    "#link = links\n",
    "for link in links[:200]:\n",
    "    url = \"https://www.imdb.com\" + str(link['href']) + \"plotsummary?ref_=tt_stry_pl#synopsis\"\n",
    "    html = requests.get(url)\n",
    "    soup = BeautifulSoup(html.text, 'html.parser')\n",
    "    text = soup.find('li', id=re.compile('^synopsis-py'))\n",
    "    # 'NoneType' object has no attribute 'get_text'\n",
    "    if text is None: \n",
    "        pass\n",
    "    else:\n",
    "        article.append(text.get_text())\n",
    "print(len(article))"
   ]
  },
  {
   "cell_type": "code",
   "execution_count": 5,
   "metadata": {},
   "outputs": [
    {
     "name": "stderr",
     "output_type": "stream",
     "text": [
      "[nltk_data] Downloading package punkt to\n",
      "[nltk_data]     C:\\Users\\USER\\AppData\\Roaming\\nltk_data...\n",
      "[nltk_data]   Package punkt is already up-to-date!\n"
     ]
    }
   ],
   "source": [
    "import nltk,os\n",
    "nltk.download('punkt')\n",
    "doc_all = {}\n",
    "i = 0\n",
    "#print(article[0])\n",
    "for title in process_title[:95]:\n",
    "    tokens = nltk.word_tokenize(article[i])\n",
    "    token_filtered = [w.lower() for w in tokens if w.isalpha()]\n",
    "    doc_all[title]=token_filtered\n",
    "    i += 1"
   ]
  },
  {
   "cell_type": "markdown",
   "metadata": {},
   "source": [
    "### convert all document to vector, use tfidf weighting"
   ]
  },
  {
   "cell_type": "code",
   "execution_count": 6,
   "metadata": {},
   "outputs": [],
   "source": [
    "import numpy as np\n",
    "\n",
    "def tf(term, token_doc):\n",
    "    tf = token_doc.count(term)/len(token_doc)\n",
    "    return tf\n",
    "\n",
    "# create function to calculate how many doc contain the term \n",
    "def numDocsContaining(word, token_doclist):\n",
    "    doccount = 0\n",
    "    for doc_token in token_doclist:\n",
    "        if doc_token.count(word) > 0:\n",
    "            doccount +=1\n",
    "    return doccount\n",
    "  \n",
    "import math\n",
    "# create function to calculate  Inverse Document Frequency in doclist - this list of all documents\n",
    "def idf(word, token_doclist):\n",
    "    n = len(token_doclist)\n",
    "    df = numDocsContaining(word, token_doclist)\n",
    "    if df==0:\n",
    "        return 0\n",
    "    else:\n",
    "        return math.log10(n/df)\n",
    "\n",
    "#define a function to do cosine normalization a data dictionary\n",
    "def cos_norm(dic): # dic is distionary data structure\n",
    "    dic_norm={}\n",
    "    factor=1.0/np.sqrt(sum([np.square(i) for i in dic.values()]))\n",
    "    for k in dic:\n",
    "        dic_norm[k] = dic[k]*factor\n",
    "    return dic_norm\n",
    "\n",
    "#create function to calculate normalize tfidf \n",
    "def compute_tfidf(token_doc,bag_words_idf):\n",
    "    tfidf_doc={}\n",
    "    for word in set(token_doc):\n",
    "        if word not in bag_words_idf.keys(): # may not find keys\n",
    "            pass\n",
    "        else:\n",
    "            tfidf_doc[word]= tf(word,token_doc) * bag_words_idf[word] \n",
    "    tfidf_norm = cos_norm(tfidf_doc)\n",
    "    return tfidf_norm\n",
    "\n",
    "# create normalize term frequency\n",
    "def tf_norm(token_doc):\n",
    "    tf_norm={}\n",
    "    for term in token_doc:\n",
    "        tf = token_doc.count(term)/len(token_doc)\n",
    "        tf_norm[term]=tf\n",
    "    tf_max = max(tf_norm.values())\n",
    "    for term, value in tf_norm.items():\n",
    "        tf_norm[term]= 0.5 + 0.5*value/tf_max\n",
    "    return tf_norm\n",
    "\n",
    "def compute_tfidf_query(query_token,bag_words_idf):\n",
    "    tfidf_query={}\n",
    "    tf_norm_query = tf_norm(query_token)\n",
    "    for term, value in tf_norm_query.items():\n",
    "        tfidf_query[term]=value*bag_words_idf[term]   \n",
    "    return tfidf_query"
   ]
  },
  {
   "cell_type": "code",
   "execution_count": 7,
   "metadata": {},
   "outputs": [
    {
     "name": "stdout",
     "output_type": "stream",
     "text": [
      "Start tfidf processing at 16:57:27\n",
      "the number of term in bag_word 11403\n",
      "Start idf processing\n",
      "finish 10% idf processing\n",
      "finish 20% idf processing\n",
      "finish 30% idf processing\n",
      "finish 40% idf processing\n",
      "finish 50% idf processing\n",
      "finish 60% idf processing\n",
      "finish 70% idf processing\n",
      "finish 80% idf processing\n",
      "finish 90% idf processing\n",
      "finish 100% idf processing\n",
      "finish idf processing\n",
      "finish tfidf processing\n"
     ]
    }
   ],
   "source": [
    "import os, time\n",
    "from datetime import datetime\n",
    "\n",
    "file = open(\"time_result.txt\",\"w\")#write mode \n",
    "now = datetime.now()\n",
    "current_time = now.strftime(\"%H:%M:%S\")\n",
    "start = time.time()\n",
    "file.write(\"-------------------No feature selection--------------------\")\n",
    "print(\"Start tfidf processing at\", current_time)\n",
    "file.write(\"\\nStart tfidf processing at \"+ str(current_time))\n",
    "\n",
    "#create bag words\n",
    "bag_words =[] # declare bag_words is a list\n",
    "for doc in doc_all.keys():\n",
    "    bag_words += doc_all[doc]\n",
    "bag_words=set(bag_words)\n",
    "\n",
    "#calculate idf for every word in bag_words\n",
    "bag_words_idf={}  \n",
    "bag_words_len = len(bag_words)\n",
    "bag_word_10 = round(bag_words_len/10,0)\n",
    "print(\"the number of term in bag_word\", bag_words_len)\n",
    "print(\"Start idf processing\")\n",
    "i=0\n",
    "for word in bag_words:\n",
    "    i+=1\n",
    "    if (i%bag_word_10==0):print(\"finish %s idf processing\" %(str(round(i*10/bag_word_10))+\"%\"))\n",
    "    bag_words_idf[word]= idf(word,doc_all.values())\n",
    "\n",
    "print(\"finish idf processing\")\n",
    "##calculate tfidf with cosine normalization\n",
    "tfidf={} # declare tfidf dictionary to store tfidf value\n",
    "for doc in doc_all.keys():\n",
    "    tfidf[doc]= compute_tfidf(doc_all[doc],bag_words_idf)\n",
    "    #print(tfidf[doc])\n",
    "print(\"finish tfidf processing\")"
   ]
  },
  {
   "cell_type": "markdown",
   "metadata": {},
   "source": [
    "### Input query text, and take similarity"
   ]
  },
  {
   "cell_type": "code",
   "execution_count": 8,
   "metadata": {},
   "outputs": [
    {
     "name": "stdout",
     "output_type": "stream",
     "text": [
      "{'encourage': 1.3756636139608853, 'hope': 0.5627502573180297}\n"
     ]
    }
   ],
   "source": [
    "query=\"encourage wise hope\"\n",
    "query_token_raw= nltk.word_tokenize(query)\n",
    "query_token = [term for term in query_token_raw if term in bag_words]\n",
    "\n",
    "tfidf_query =compute_tfidf_query(query_token,bag_words_idf) #calculate tfidf for query text\n",
    "print(tfidf_query)"
   ]
  },
  {
   "cell_type": "code",
   "execution_count": 9,
   "metadata": {},
   "outputs": [
    {
     "name": "stdout",
     "output_type": "stream",
     "text": [
      "{'Dangal (2016)': 0.030520229710914726, 'Eternal Sunshine of the Spotless Mind (2004)': 0.030520229710914726, 'Spider-Man: Into the Spider-Verse (2018)': 0.008663323061407158, 'Princess Mononoke (1997)': 0.008663323061407158, 'The Shawshank Redemption (1994)': 0.008284617989446463, 'The Godfather (1972)': 0.008284617989446463, 'Intouchables (2011)': 0.006230191727395695, 'The Departed (2006)': 0.006230191727395695, 'Dr. Strangelove or: How I Learned to Stop Worrying and Lo... (1964)': 0.00573119481565898, 'Oldboy (2003)': 0.00573119481565898}\n",
      "Finish tfidf processing at 16:57:27\n"
     ]
    },
    {
     "data": {
      "text/plain": [
       "39"
      ]
     },
     "execution_count": 9,
     "metadata": {},
     "output_type": "execute_result"
    }
   ],
   "source": [
    "# add tfidf of query text to tfidf of all doc and convert to dataframe\n",
    "tfidf[\"query\"] = tfidf_query\n",
    "\n",
    "tfidf_df = pd.DataFrame(tfidf).transpose()\n",
    "tfidf_df= tfidf_df.fillna(0) # replace all NaN by zero\n",
    "\n",
    "from scipy.spatial.distance import cosine\n",
    "cosine_sim ={}\n",
    "for row in tfidf_df.index:\n",
    "    if row != \"query\":\n",
    "        cosine_sim[row]= 1-cosine(tfidf_df.loc[row],tfidf_df.loc[\"query\"])\n",
    "\n",
    "# the top 10 relevant document\n",
    "cosine_sim_top10 = dict(sorted(cosine_sim.items(), key=lambda item: item[1],reverse=True)[:10])\n",
    "print(cosine_sim_top10)\n",
    "\n",
    "current_time = now.strftime(\"%H:%M:%S\")\n",
    "print(\"Finish tfidf processing at\", current_time)\n",
    "file.write(\"\\nFinish tfidf processing at \"+str(current_time))\n",
    "spent = time.time() - start\n",
    "file.write(\"\\nTotal spent time: \"+str(spent) +\"sec\\n\")"
   ]
  },
  {
   "cell_type": "code",
   "execution_count": 10,
   "metadata": {},
   "outputs": [
    {
     "data": {
      "text/plain": [
       "<Figure size 640x480 with 1 Axes>"
      ]
     },
     "metadata": {},
     "output_type": "display_data"
    }
   ],
   "source": [
    "#plot barchart\n",
    "import matplotlib.pyplot as plt\n",
    "data = cosine_sim_top10\n",
    "plt.barh(range(len(data)), list(data.values()), align='center', alpha=0.8)\n",
    "plt.yticks(range(len(data)), list(data.keys())) # label for y axis\n",
    "plt.xlabel('Smimilarity score')\n",
    "plt.ylabel('Course')\n",
    "\n",
    "# save graph\n",
    "path = r\"C:\\Users\\USER\\Desktop\\Text-Mining\\hw6\"\n",
    "plt.savefig(path+\"\\\\barchart.png\", bbox_inches='tight', dpi=600)\n",
    "plt.show()"
   ]
  },
  {
   "cell_type": "markdown",
   "metadata": {},
   "source": [
    "### With feature selection process"
   ]
  },
  {
   "cell_type": "code",
   "execution_count": 11,
   "metadata": {},
   "outputs": [
    {
     "name": "stderr",
     "output_type": "stream",
     "text": [
      "[nltk_data] Downloading package stopwords to\n",
      "[nltk_data]     C:\\Users\\USER\\AppData\\Roaming\\nltk_data...\n",
      "[nltk_data]   Package stopwords is already up-to-date!\n",
      "[nltk_data] Downloading package universal_tagset to\n",
      "[nltk_data]     C:\\Users\\USER\\AppData\\Roaming\\nltk_data...\n",
      "[nltk_data]   Package universal_tagset is already up-to-date!\n"
     ]
    }
   ],
   "source": [
    "from nltk.corpus import stopwords\n",
    "from nltk import FreqDist\n",
    "stopword = nltk.download('stopwords')\n",
    "nltk.download('universal_tagset')\n",
    "\n",
    "tokens_no_stop = [word for word in bag_words if not word in stopwords.words()]\n",
    "pos_tokens = nltk.pos_tag(tokens_no_stop, tagset='universal')"
   ]
  },
  {
   "cell_type": "code",
   "execution_count": 12,
   "metadata": {},
   "outputs": [],
   "source": [
    "def extract_terms(tokens):\n",
    "    NVA_tokens =[] \n",
    "    for token in tokens:\n",
    "        if token[1] == \"NOUN\":\n",
    "            NVA_tokens += [token[0]]\n",
    "        elif token[1] == \"VERB\":\n",
    "            NVA_tokens += [token[0]]\n",
    "        elif token[1] == \"ADJ\":\n",
    "            NVA_tokens += [token[0]]\n",
    "    return NVA_tokens\n",
    "\n",
    "new_tokens = extract_terms(pos_tokens)"
   ]
  },
  {
   "cell_type": "code",
   "execution_count": 13,
   "metadata": {},
   "outputs": [
    {
     "name": "stderr",
     "output_type": "stream",
     "text": [
      "[nltk_data] Downloading package wordnet to\n",
      "[nltk_data]     C:\\Users\\USER\\AppData\\Roaming\\nltk_data...\n",
      "[nltk_data]   Package wordnet is already up-to-date!\n",
      "[nltk_data] Downloading package punkt to\n",
      "[nltk_data]     C:\\Users\\USER\\AppData\\Roaming\\nltk_data...\n",
      "[nltk_data]   Package punkt is already up-to-date!\n",
      "[nltk_data] Downloading package maxent_treebank_pos_tagger to\n",
      "[nltk_data]     C:\\Users\\USER\\AppData\\Roaming\\nltk_data...\n",
      "[nltk_data]   Package maxent_treebank_pos_tagger is already up-to-\n",
      "[nltk_data]       date!\n",
      "[nltk_data] Downloading package averaged_perceptron_tagger to\n",
      "[nltk_data]     C:\\Users\\USER\\AppData\\Roaming\\nltk_data...\n",
      "[nltk_data]   Package averaged_perceptron_tagger is already up-to-\n",
      "[nltk_data]       date!\n"
     ]
    }
   ],
   "source": [
    "from nltk.stem import PorterStemmer\n",
    "ps = PorterStemmer()\n",
    "movies_porter = []\n",
    "for words in new_tokens:\n",
    "    movies_porter.append(ps.stem(words))\n",
    "    \n",
    "from nltk.corpus import wordnet\n",
    "from nltk import pos_tag\n",
    "from nltk.stem import WordNetLemmatizer\n",
    "nltk.download('wordnet')\n",
    "nltk.download(\"punkt\")\n",
    "nltk.download(\"maxent_treebank_pos_tagger\")\n",
    "nltk.download('averaged_perceptron_tagger')\n",
    "def get_wordnet_pos(treebank_tag):\n",
    "    if treebank_tag.startswith('J'):\n",
    "        return wordnet.ADJ\n",
    "    elif treebank_tag.startswith('V'):\n",
    "        return wordnet.VERB\n",
    "    elif treebank_tag.startswith('N'):\n",
    "        return wordnet.NOUN\n",
    "    elif treebank_tag.startswith('R'):\n",
    "        return wordnet.ADV\n",
    "    else:\n",
    "        return None\n",
    "    \n",
    "def lemmatize_sentence(words):\n",
    "    res = []\n",
    "    lemmatizer = WordNetLemmatizer()\n",
    "    for word, pos in pos_tag(words):\n",
    "        wordnet_pos = get_wordnet_pos(pos) or wordnet.NOUN\n",
    "        res.append(lemmatizer.lemmatize(word, pos=wordnet_pos))\n",
    "\n",
    "    return res\n",
    "\n",
    "lem = WordNetLemmatizer()\n",
    "lem_and_porter = lemmatize_sentence(movies_porter)"
   ]
  },
  {
   "cell_type": "code",
   "execution_count": 14,
   "metadata": {
    "scrolled": true
   },
   "outputs": [
    {
     "name": "stdout",
     "output_type": "stream",
     "text": [
      "[('command', 8), ('oper', 8), ('gener', 8), ('investig', 8), ('perform', 8), ('confront', 7), ('attend', 7), ('impress', 7), ('commun', 7), ('inform', 7)]\n",
      "Before extract: 11403\n",
      "After extract: 10444\n"
     ]
    }
   ],
   "source": [
    "freq_dist = FreqDist(lem_and_porter)\n",
    "print(freq_dist.most_common(10))\n",
    "print(\"Before extract:\",len(bag_words))\n",
    "print(\"After extract:\",len(lem_and_porter))\n",
    "\n",
    "top1500words = []\n",
    "count = []\n",
    "# get 5000 top frequent words\n",
    "for words, count in freq_dist.most_common(1500):\n",
    "    top1500words.append(words)"
   ]
  },
  {
   "cell_type": "code",
   "execution_count": 15,
   "metadata": {},
   "outputs": [
    {
     "name": "stdout",
     "output_type": "stream",
     "text": [
      "Start tfidf processing at 17:00:18\n",
      "the number of term after doing feature selection 1500\n",
      "Start idf processing\n",
      "finish 10% idf processing\n",
      "finish 20% idf processing\n",
      "finish 30% idf processing\n",
      "finish 40% idf processing\n",
      "finish 50% idf processing\n",
      "finish 60% idf processing\n",
      "finish 70% idf processing\n",
      "finish 80% idf processing\n",
      "finish 90% idf processing\n",
      "finish 100% idf processing\n",
      "finish idf processing\n",
      "finish tfidf processing\n"
     ]
    }
   ],
   "source": [
    "#calculate idf for every word in bag_words\n",
    "\n",
    "now = datetime.now()\n",
    "current_time = now.strftime(\"%H:%M:%S\")\n",
    "start = time.time()\n",
    "file.write(\"\\n-------------------With feature selection--------------------\")\n",
    "print(\"Start tfidf processing at\", current_time)\n",
    "file.write(\"\\nStart tfidf processing at \"+ str(current_time))\n",
    "#new_tokens = set(lem_and_porter)\n",
    "new_tokens = set(top1500words)\n",
    "bag_words_idf={}  \n",
    "bag_words_len = len(new_tokens)\n",
    "bag_word_10 = round(bag_words_len/10,0)\n",
    "print(\"the number of term after doing feature selection\", bag_words_len)\n",
    "print(\"Start idf processing\")\n",
    "i=0\n",
    "for word in new_tokens:\n",
    "    i+=1\n",
    "    if (i%bag_word_10==0):print(\"finish %s idf processing\" %(str(round(i*10/bag_word_10))+\"%\"))\n",
    "    bag_words_idf[word]= idf(word,doc_all.values())\n",
    "\n",
    "print(\"finish idf processing\")\n",
    "##calculate tfidf with cosine normalization\n",
    "tfidf={} # declare tfidf dictionary to store tfidf value\n",
    "for doc in doc_all.keys():\n",
    "    tfidf[doc]= compute_tfidf(doc_all[doc],bag_words_idf)\n",
    "    #print(tfidf[doc])\n",
    "print(\"finish tfidf processing\")"
   ]
  },
  {
   "cell_type": "code",
   "execution_count": 16,
   "metadata": {},
   "outputs": [
    {
     "name": "stdout",
     "output_type": "stream",
     "text": [
      "{'The Shawshank Redemption (1994)': 0.02552090660738493, 'The Godfather (1972)': 0.02552090660738493, 'Spider-Man: Into the Spider-Verse (2018)': 0.022636596144712917, 'Princess Mononoke (1997)': 0.022636596144712917, 'Intouchables (2011)': 0.022635741386388464, 'The Departed (2006)': 0.022635741386388464, 'Casablanca (1942)': 0.013083053935070144, 'Joker (2019)': 0.013083053935070144, 'Django Unchained (2012)': 0.012641672927349079, 'Paths of Glory (1957)': 0.012641672927349079}\n",
      "Finish tfidf processing at 17:00:29\n"
     ]
    }
   ],
   "source": [
    "tfidf[\"query\"] = tfidf_query\n",
    "tfidf_df = pd.DataFrame(tfidf).transpose()\n",
    "tfidf_df= tfidf_df.fillna(0) # replace all NaN by zero\n",
    "\n",
    "cosine_sim ={}\n",
    "for row in tfidf_df.index:\n",
    "    if row != \"query\":\n",
    "        cosine_sim[row]= 1-cosine(tfidf_df.loc[row],tfidf_df.loc[\"query\"])\n",
    "\n",
    "# the top 10 relevant document\n",
    "cosine_sim_top10 = dict(sorted(cosine_sim.items(), key=lambda item: item[1],reverse=True)[:10])\n",
    "print(cosine_sim_top10)\n",
    "\n",
    "now = datetime.now()\n",
    "current_time = now.strftime(\"%H:%M:%S\")\n",
    "print(\"Finish tfidf processing at\", current_time)\n",
    "file.write(\"\\nFinish tfidf processing at \"+str(current_time))\n",
    "spent = time.time() - start\n",
    "file.write(\"\\nTotal spent time: \"+str(spent) +\"sec\")\n",
    "file.close()"
   ]
  },
  {
   "cell_type": "code",
   "execution_count": 17,
   "metadata": {},
   "outputs": [
    {
     "data": {
      "image/png": "[encoded data removed]",
      "text/plain": [
       "<Figure size 432x288 with 1 Axes>"
      ]
     },
     "metadata": {
      "needs_background": "light"
     },
     "output_type": "display_data"
    }
   ],
   "source": [
    "data = cosine_sim_top10\n",
    "plt.barh(range(len(data)), list(data.values()), align='center', alpha=0.8)\n",
    "plt.yticks(range(len(data)), list(data.keys())) # label for y axis\n",
    "plt.xlabel('Smimilarity score')\n",
    "plt.ylabel('Course')\n",
    "\n",
    "# save graph\n",
    "plt.savefig(path+\"\\\\barchart_with_Feature_Selection.png\", bbox_inches='tight', dpi=600)\n",
    "plt.show()"
   ]
  },
  {
   "cell_type": "code",
   "execution_count": null,
   "metadata": {},
   "outputs": [],
   "source": []
  }
 ],
 "metadata": {
  "kernelspec": {
   "display_name": "Python 3",
   "language": "python",
   "name": "python3"
  },
  "language_info": {
   "codemirror_mode": {
    "name": "ipython",
    "version": 3
   },
   "file_extension": ".py",
   "mimetype": "text/x-python",
   "name": "python",
   "nbconvert_exporter": "python",
   "pygments_lexer": "ipython3",
   "version": "3.7.3"
  }
 },
 "nbformat": 4,
 "nbformat_minor": 2
}
