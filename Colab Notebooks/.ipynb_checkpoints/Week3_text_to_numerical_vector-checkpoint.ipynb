{
 "cells": [
  {
   "cell_type": "markdown",
   "metadata": {
    "colab_type": "text",
    "id": "8UnXXCMD18yn"
   },
   "source": [
    "#Week 3: From Textual Information to Numerical Vector \n",
    "**Before starting**\n",
    "Run this code below mount google drive to colab."
   ]
  },
  {
   "cell_type": "code",
   "execution_count": 1,
   "metadata": {
    "colab": {
     "base_uri": "https://localhost:8080/",
     "height": 35
    },
    "colab_type": "code",
    "id": "MkQE3osj6qo6",
    "outputId": "410de34a-4326-4b9b-a104-511e5a3131df"
   },
   "outputs": [
    {
     "name": "stdout",
     "output_type": "stream",
     "text": [
      "Drive already mounted at /content/drive; to attempt to forcibly remount, call drive.mount(\"/content/drive\", force_remount=True).\n"
     ]
    }
   ],
   "source": [
    "#Mount google drive to google colab\n",
    "from google.colab import drive\n",
    "drive.mount('/content/drive')"
   ]
  },
  {
   "cell_type": "markdown",
   "metadata": {
    "colab_type": "text",
    "id": "fLmglKcSOMlt"
   },
   "source": [
    "## 1.Word Tokenization"
   ]
  },
  {
   "cell_type": "code",
   "execution_count": 0,
   "metadata": {
    "colab": {},
    "colab_type": "code",
    "id": "6XZ-aw6TNxM1"
   },
   "outputs": [],
   "source": [
    "text1=\"Let's go ahead and start now. We can't wait any longer.\""
   ]
  },
  {
   "cell_type": "code",
   "execution_count": 3,
   "metadata": {
    "colab": {
     "base_uri": "https://localhost:8080/",
     "height": 35
    },
    "colab_type": "code",
    "id": "rfQQdARcQhN4",
    "outputId": "13d1fffc-813a-481b-a124-333874e5307a"
   },
   "outputs": [
    {
     "name": "stdout",
     "output_type": "stream",
     "text": [
      "Let's go ahead and start now. We can't wait any longer.\n"
     ]
    }
   ],
   "source": [
    "print(text1)"
   ]
  },
  {
   "cell_type": "code",
   "execution_count": 4,
   "metadata": {
    "colab": {
     "base_uri": "https://localhost:8080/",
     "height": 69
    },
    "colab_type": "code",
    "id": "cgBR4ljwUVxW",
    "outputId": "a08bdb55-7a8a-4b2d-81e5-c1c6fba32588"
   },
   "outputs": [
    {
     "name": "stdout",
     "output_type": "stream",
     "text": [
      "[nltk_data] Downloading package punkt to /root/nltk_data...\n",
      "[nltk_data]   Package punkt is already up-to-date!\n",
      "['Let', \"'\", 's', 'go', 'ahead', 'and', 'start', 'now', '.', 'We', 'can', \"'\", 't', 'wait', 'any', 'longer', '.']\n"
     ]
    }
   ],
   "source": [
    "# tokenization using wordpunct_tokenize function\n",
    "import nltk  #nltk stand for natural language toolkit\n",
    "nltk.download('punkt')\n",
    "from nltk import wordpunct_tokenize\n",
    "punct_token = wordpunct_tokenize(text1)\n",
    "print(punct_token)"
   ]
  },
  {
   "cell_type": "code",
   "execution_count": 5,
   "metadata": {
    "colab": {
     "base_uri": "https://localhost:8080/",
     "height": 35
    },
    "colab_type": "code",
    "id": "tZyhTOy5UowA",
    "outputId": "c5c604bf-a0c5-4ff7-8710-a4aea598e2fd"
   },
   "outputs": [
    {
     "name": "stdout",
     "output_type": "stream",
     "text": [
      "['Let', \"'s\", 'go', 'ahead', 'and', 'start', 'now', '.', 'We', 'ca', \"n't\", 'wait', 'any', 'longer', '.']\n"
     ]
    }
   ],
   "source": [
    "## tokenization using word_tokenize function- Try it and you will see a error.\n",
    "text1_tokens = nltk.word_tokenize(text1)\n",
    "print(text1_tokens)"
   ]
  },
  {
   "cell_type": "code",
   "execution_count": 6,
   "metadata": {
    "colab": {
     "base_uri": "https://localhost:8080/",
     "height": 69
    },
    "colab_type": "code",
    "id": "JbtQqZAlUwmp",
    "outputId": "0350ef49-cb3e-4a50-bc31-473f716f4809"
   },
   "outputs": [
    {
     "name": "stdout",
     "output_type": "stream",
     "text": [
      "[nltk_data] Downloading package punkt to /root/nltk_data...\n",
      "[nltk_data]   Package punkt is already up-to-date!\n"
     ]
    },
    {
     "data": {
      "text/plain": [
       "True"
      ]
     },
     "execution_count": 6,
     "metadata": {
      "tags": []
     },
     "output_type": "execute_result"
    }
   ],
   "source": [
    "# run it to donwload \"punkt\" resource then run word_tokenize(text1) again\n",
    "nltk.download('punkt')"
   ]
  },
  {
   "cell_type": "markdown",
   "metadata": {
    "colab_type": "text",
    "id": "LewPG9pfSoZh"
   },
   "source": [
    "## 2.Multi-Word Tokenizer"
   ]
  },
  {
   "cell_type": "code",
   "execution_count": 0,
   "metadata": {
    "colab": {},
    "colab_type": "code",
    "id": "NUVKkOnn0bgB"
   },
   "outputs": [],
   "source": [
    "text1=\"Let's go ahead and start now. We can't wait any longer.\""
   ]
  },
  {
   "cell_type": "code",
   "execution_count": 8,
   "metadata": {
    "colab": {
     "base_uri": "https://localhost:8080/",
     "height": 35
    },
    "colab_type": "code",
    "id": "pe-QAZh9Ta9_",
    "outputId": "45a4ac9d-9e95-4ed6-d020-3d69dac0b75c"
   },
   "outputs": [
    {
     "name": "stdout",
     "output_type": "stream",
     "text": [
      "['Let', \"'s\", 'go_ahead', 'and', 'start', 'now', '.', 'We', 'ca', \"n't\", 'wait', 'any', 'longer', '.']\n"
     ]
    }
   ],
   "source": [
    "#combine 2 word into 1 token\n",
    "from nltk.tokenize import MWETokenizer\n",
    "mw_tokenizer = nltk.tokenize.MWETokenizer()\n",
    "text1_tokens = nltk.word_tokenize(text1)\n",
    "mw_tokenizer.add_mwe(('go', 'ahead'))\n",
    "print(mw_tokenizer.tokenize(text1_tokens))"
   ]
  },
  {
   "cell_type": "code",
   "execution_count": 9,
   "metadata": {
    "colab": {
     "base_uri": "https://localhost:8080/",
     "height": 55
    },
    "colab_type": "code",
    "id": "CldGTr7jORuI",
    "outputId": "21264826-fbad-4e7c-8497-ab294aece86d"
   },
   "outputs": [
    {
     "name": "stdout",
     "output_type": "stream",
     "text": [
      "['National', 'Tsing', 'Hua', 'University', 'was', 'established', 'in', 'Beijing', 'in', '1911', 'as', '“', 'Tsing', 'Hua', 'Academy', '”', '.', 'In', '1956', ',', 'National', 'Tsing', 'Hua', 'University', 'was', 're-established', 'at', 'its', 'present', 'location', 'in', 'Hsinchu', ',', 'Taiwan', '.', 'Since', 'its', 'relocation', ',', 'NTHU', 'has', 'developed', 'into', 'a', 'comprehensive', 'research', 'university', 'offering', 'a', 'full', 'range', 'of', 'degree', 'programs', 'in', 'science', ',', 'technology', ',', 'engineering', ',', 'humanities', ',', 'social', 'sciences', ',', 'and', 'management', '.']\n"
     ]
    }
   ],
   "source": [
    "#Another example\n",
    "text2=\"National Tsing Hua University was established in Beijing in 1911 as “Tsing Hua Academy”. \\\n",
    "In 1956, National Tsing Hua University was re-established at its present location in Hsinchu, Taiwan. \\\n",
    "Since its relocation, NTHU has developed into a comprehensive research university offering a full range \\\n",
    "of degree programs in science, technology, engineering, humanities, social sciences, and management.\"\n",
    "text2_tokens =nltk.word_tokenize(text2)\n",
    "print(text2_tokens)"
   ]
  },
  {
   "cell_type": "code",
   "execution_count": 10,
   "metadata": {
    "colab": {
     "base_uri": "https://localhost:8080/",
     "height": 55
    },
    "colab_type": "code",
    "id": "HVoNen72fqzK",
    "outputId": "39974a10-3284-43ad-d9e4-5db06d74a8ee"
   },
   "outputs": [
    {
     "name": "stdout",
     "output_type": "stream",
     "text": [
      "['National_Tsing_Hua_University', 'was', 'established', 'in', 'Beijing', 'in', '1911', 'as', '“', 'Tsing_Hua_Academy', '”', '.', 'In', '1956', ',', 'National_Tsing_Hua_University', 'was', 're-established', 'at', 'its', 'present', 'location', 'in', 'Hsinchu', ',', 'Taiwan', '.', 'Since', 'its', 'relocation', ',', 'NTHU', 'has', 'developed', 'into', 'a', 'comprehensive', 'research', 'university', 'offering', 'a', 'full', 'range', 'of', 'degree', 'programs', 'in', 'science', ',', 'technology', ',', 'engineering', ',', 'humanities', ',', 'social_sciences', ',', 'and', 'management', '.']\n"
     ]
    }
   ],
   "source": [
    "mw_tokenizer.add_mwe(('National', 'Tsing','Hua','University'))\n",
    "mw_tokenizer.add_mwe(('Tsing', 'Hua', 'Academy'))\n",
    "mw_tokenizer.add_mwe(('social','sciences'))\n",
    "print(mw_tokenizer.tokenize(text2_tokens))"
   ]
  },
  {
   "cell_type": "markdown",
   "metadata": {
    "colab_type": "text",
    "id": "81opi3cP2M93"
   },
   "source": [
    "## 3.Use ngrams to discover multi-word token"
   ]
  },
  {
   "cell_type": "code",
   "execution_count": 11,
   "metadata": {
    "colab": {
     "base_uri": "https://localhost:8080/",
     "height": 55
    },
    "colab_type": "code",
    "id": "tfnoWvWJrIm5",
    "outputId": "7d80ed25-a57d-421f-d838-caa02b99e86c"
   },
   "outputs": [
    {
     "name": "stdout",
     "output_type": "stream",
     "text": [
      "['Service', 'Science', 'is', 'truly', 'an', 'interdisciplinary', 'field', '.', 'With', 'the', 'foundation', 'of', 'systems', 'theory', ',', 'operations', 'research', ',', 'management', 'science', ',', 'marketing', 'science', ',', 'advanced', 'computing', 'and', 'communication', 'technology', ',', 'network', 'theory', ',', 'social', 'computing', ',', 'and', 'analytics', ',', 'Service', 'Science', 'can', 'be', 'rigorously', 'developed', ',', 'involving', 'descriptive', ',', 'predictive', ',', 'and', 'prescriptive', 'research', 'of', 'a', 'service', 'spanning', 'its', 'lifecycle']\n"
     ]
    }
   ],
   "source": [
    "\n",
    "text3 = 'Service Science is truly an interdisciplinary field. With the foundation of systems theory, operations research, management science, marketing science, advanced computing and communication technology, network theory, social computing, and analytics, Service Science can be rigorously developed, involving descriptive, predictive, and prescriptive research of a service spanning its lifecycle'\n",
    "text3_token= nltk.word_tokenize(text3)\n",
    "print(text3_token)"
   ]
  },
  {
   "cell_type": "code",
   "execution_count": 12,
   "metadata": {
    "colab": {
     "base_uri": "https://localhost:8080/",
     "height": 55
    },
    "colab_type": "code",
    "id": "kcDJDIV8o5H7",
    "outputId": "729f6b68-1713-4f00-9e2e-44c40a014ff6"
   },
   "outputs": [
    {
     "name": "stdout",
     "output_type": "stream",
     "text": [
      "[('Service', 'Science'), ('Science', 'is'), ('is', 'truly'), ('truly', 'an'), ('an', 'interdisciplinary'), ('interdisciplinary', 'field'), ('field', '.'), ('.', 'With'), ('With', 'the'), ('the', 'foundation'), ('foundation', 'of'), ('of', 'systems'), ('systems', 'theory'), ('theory', ','), (',', 'operations'), ('operations', 'research'), ('research', ','), (',', 'management'), ('management', 'science'), ('science', ','), (',', 'marketing'), ('marketing', 'science'), ('science', ','), (',', 'advanced'), ('advanced', 'computing'), ('computing', 'and'), ('and', 'communication'), ('communication', 'technology'), ('technology', ','), (',', 'network'), ('network', 'theory'), ('theory', ','), (',', 'social'), ('social', 'computing'), ('computing', ','), (',', 'and'), ('and', 'analytics'), ('analytics', ','), (',', 'Service'), ('Service', 'Science'), ('Science', 'can'), ('can', 'be'), ('be', 'rigorously'), ('rigorously', 'developed'), ('developed', ','), (',', 'involving'), ('involving', 'descriptive'), ('descriptive', ','), (',', 'predictive'), ('predictive', ','), (',', 'and'), ('and', 'prescriptive'), ('prescriptive', 'research'), ('research', 'of'), ('of', 'a'), ('a', 'service'), ('service', 'spanning'), ('spanning', 'its'), ('its', 'lifecycle')]\n"
     ]
    }
   ],
   "source": [
    "from nltk import ngrams\n",
    "n = 2\n",
    "ngrams = ngrams(text3_token, n)\n",
    "bigrams_list =[gram for gram in ngrams]\n",
    "print(bigrams_list)"
   ]
  },
  {
   "cell_type": "code",
   "execution_count": 13,
   "metadata": {
    "colab": {
     "base_uri": "https://localhost:8080/",
     "height": 971
    },
    "colab_type": "code",
    "id": "w1WH6Lzjtsbf",
    "outputId": "4d85b417-5bea-4b52-eb0b-8576550e5e3d"
   },
   "outputs": [
    {
     "name": "stdout",
     "output_type": "stream",
     "text": [
      "('Service', 'Science') 2\n",
      "('Science', 'is') 1\n",
      "('is', 'truly') 1\n",
      "('truly', 'an') 1\n",
      "('an', 'interdisciplinary') 1\n",
      "('interdisciplinary', 'field') 1\n",
      "('field', '.') 1\n",
      "('.', 'With') 1\n",
      "('With', 'the') 1\n",
      "('the', 'foundation') 1\n",
      "('foundation', 'of') 1\n",
      "('of', 'systems') 1\n",
      "('systems', 'theory') 1\n",
      "('theory', ',') 2\n",
      "(',', 'operations') 1\n",
      "('operations', 'research') 1\n",
      "('research', ',') 1\n",
      "(',', 'management') 1\n",
      "('management', 'science') 1\n",
      "('science', ',') 2\n",
      "(',', 'marketing') 1\n",
      "('marketing', 'science') 1\n",
      "(',', 'advanced') 1\n",
      "('advanced', 'computing') 1\n",
      "('computing', 'and') 1\n",
      "('and', 'communication') 1\n",
      "('communication', 'technology') 1\n",
      "('technology', ',') 1\n",
      "(',', 'network') 1\n",
      "('network', 'theory') 1\n",
      "(',', 'social') 1\n",
      "('social', 'computing') 1\n",
      "('computing', ',') 1\n",
      "(',', 'and') 2\n",
      "('and', 'analytics') 1\n",
      "('analytics', ',') 1\n",
      "(',', 'Service') 1\n",
      "('Science', 'can') 1\n",
      "('can', 'be') 1\n",
      "('be', 'rigorously') 1\n",
      "('rigorously', 'developed') 1\n",
      "('developed', ',') 1\n",
      "(',', 'involving') 1\n",
      "('involving', 'descriptive') 1\n",
      "('descriptive', ',') 1\n",
      "(',', 'predictive') 1\n",
      "('predictive', ',') 1\n",
      "('and', 'prescriptive') 1\n",
      "('prescriptive', 'research') 1\n",
      "('research', 'of') 1\n",
      "('of', 'a') 1\n",
      "('a', 'service') 1\n",
      "('service', 'spanning') 1\n",
      "('spanning', 'its') 1\n",
      "('its', 'lifecycle') 1\n"
     ]
    }
   ],
   "source": [
    "#compute frequency distribution for all the ngrams in the text\n",
    "fdist = nltk.FreqDist(bigrams_list)\n",
    "for term,value in fdist.items():\n",
    "    print(term,value)"
   ]
  },
  {
   "cell_type": "markdown",
   "metadata": {
    "colab_type": "text",
    "id": "efdbM4O2hYMZ"
   },
   "source": [
    "## 4.Tokenization of Sentences"
   ]
  },
  {
   "cell_type": "code",
   "execution_count": 14,
   "metadata": {
    "colab": {
     "base_uri": "https://localhost:8080/",
     "height": 89
    },
    "colab_type": "code",
    "id": "Zg6cJBQphact",
    "outputId": "206324f7-056d-4534-d466-4abd77c6f307"
   },
   "outputs": [
    {
     "data": {
      "text/plain": [
       "['National Tsing Hua University was established in Beijing in 1911 as “Tsing Hua Academy”.',\n",
       " 'In 1956, National Tsing Hua University was re-established at its present location in Hsinchu, Taiwan.',\n",
       " 'Since its relocation, NTHU has developed into a comprehensive research university offering a full range of degree programs in science, technology, engineering, humanities, social sciences, and management.']"
      ]
     },
     "execution_count": 14,
     "metadata": {
      "tags": []
     },
     "output_type": "execute_result"
    }
   ],
   "source": [
    "from nltk import sent_tokenize\n",
    "sent_tokenize(text2)"
   ]
  },
  {
   "cell_type": "markdown",
   "metadata": {
    "colab_type": "text",
    "id": "2I7Lrwm20pSz"
   },
   "source": [
    "# 5. Exercise 1: Tokenization and question\n",
    "1. Open a new code cell.\n",
    "2. Find some English text and copy to your python notebook.\n",
    "3. Tokenize the text"
   ]
  },
  {
   "cell_type": "markdown",
   "metadata": {
    "colab_type": "text",
    "id": "y7-EViDqUPm7"
   },
   "source": [
    "## 6.Stemming\n",
    "The nltk package has several implementations for stemmers. These stemmers are\n",
    "implemented in the stem module. Here we use PorterStemmer and  LancasterStemmer"
   ]
  },
  {
   "cell_type": "code",
   "execution_count": 15,
   "metadata": {
    "colab": {
     "base_uri": "https://localhost:8080/",
     "height": 52
    },
    "colab_type": "code",
    "id": "LJtHfttZUpYE",
    "outputId": "71042fe8-87f9-470e-d576-b76bb89d1952"
   },
   "outputs": [
    {
     "name": "stdout",
     "output_type": "stream",
     "text": [
      "jump jump jump\n",
      "lie lie strang\n"
     ]
    }
   ],
   "source": [
    "#The Porter stemming algorithm\n",
    "from nltk import PorterStemmer\n",
    "ps = PorterStemmer()\n",
    "print (ps.stem('jumping'), ps.stem('jumps'), ps.stem('jumped'))\n",
    "print (ps.stem('lying'), ps.stem('lies'), ps.stem('strange'))"
   ]
  },
  {
   "cell_type": "code",
   "execution_count": 16,
   "metadata": {
    "colab": {
     "base_uri": "https://localhost:8080/",
     "height": 52
    },
    "colab_type": "code",
    "id": "_87hJjaeVhRL",
    "outputId": "73cdb0fd-54a2-4717-83b0-053fa24847de"
   },
   "outputs": [
    {
     "name": "stdout",
     "output_type": "stream",
     "text": [
      "jump jump jump\n",
      "lying lie strange\n"
     ]
    }
   ],
   "source": [
    "#The Lancaster stemming algorithm\n",
    "from nltk import LancasterStemmer\n",
    "ls = LancasterStemmer()\n",
    "print (ls.stem('jumping'), ls.stem('jumps'), ls.stem('jumped'))\n",
    "print (ls.stem('lying'),ls.stem('lies'), ls.stem('strange'))\n"
   ]
  },
  {
   "cell_type": "code",
   "execution_count": 17,
   "metadata": {
    "colab": {
     "base_uri": "https://localhost:8080/",
     "height": 55
    },
    "colab_type": "code",
    "id": "qppglj_1rcjV",
    "outputId": "d222db03-1490-4c9e-be99-6392da71f8a5"
   },
   "outputs": [
    {
     "name": "stdout",
     "output_type": "stream",
     "text": [
      "['nation', 'tsing', 'hua', 'univers', 'wa', 'establish', 'in', 'beij', 'in', '1911', 'as', '“', 'tsing', 'hua', 'academi', '”', '.', 'In', '1956', ',', 'nation', 'tsing', 'hua', 'univers', 'wa', 're-establish', 'at', 'it', 'present', 'locat', 'in', 'hsinchu', ',', 'taiwan', '.', 'sinc', 'it', 'reloc', ',', 'nthu', 'ha', 'develop', 'into', 'a', 'comprehens', 'research', 'univers', 'offer', 'a', 'full', 'rang', 'of', 'degre', 'program', 'in', 'scienc', ',', 'technolog', ',', 'engin', ',', 'human', ',', 'social', 'scienc', ',', 'and', 'manag', '.']\n"
     ]
    }
   ],
   "source": [
    "#stemming an tokenize word list\n",
    "token_psstem = [ps.stem(word) for word in text2_tokens]\n",
    "print(token_psstem)"
   ]
  },
  {
   "cell_type": "code",
   "execution_count": 18,
   "metadata": {
    "colab": {
     "base_uri": "https://localhost:8080/",
     "height": 55
    },
    "colab_type": "code",
    "id": "clwVV48klfa5",
    "outputId": "cdd19ae3-9385-4ef6-e4b2-32937ec62b9c"
   },
   "outputs": [
    {
     "name": "stdout",
     "output_type": "stream",
     "text": [
      "['nat', 'tsing', 'hua', 'univers', 'was', 'est', 'in', 'beid', 'in', '1911', 'as', '“', 'tsing', 'hua', 'academy', '”', '.', 'in', '1956', ',', 'nat', 'tsing', 'hua', 'univers', 'was', 're-established', 'at', 'it', 'pres', 'loc', 'in', 'hsinchu', ',', 'taiw', '.', 'sint', 'it', 'reloc', ',', 'nthu', 'has', 'develop', 'into', 'a', 'comprehend', 'research', 'univers', 'off', 'a', 'ful', 'rang', 'of', 'degr', 'program', 'in', 'sci', ',', 'technolog', ',', 'engin', ',', 'hum', ',', 'soc', 'sci', ',', 'and', 'man', '.']\n"
     ]
    }
   ],
   "source": [
    "#stemming an tokenize word list\n",
    "token_lsstem = [ls.stem(word) for word in text2_tokens]\n",
    "print(token_lsstem)"
   ]
  },
  {
   "cell_type": "markdown",
   "metadata": {
    "colab_type": "text",
    "id": "h9vu2fVYm9xo"
   },
   "source": [
    "# 5.Lemmatization"
   ]
  },
  {
   "cell_type": "code",
   "execution_count": 19,
   "metadata": {
    "colab": {
     "base_uri": "https://localhost:8080/",
     "height": 156
    },
    "colab_type": "code",
    "id": "iVcw5b5Sm7Lr",
    "outputId": "816e895a-4b61-49d1-8d7e-5d70f6b05414"
   },
   "outputs": [
    {
     "name": "stdout",
     "output_type": "stream",
     "text": [
      "[nltk_data] Downloading package wordnet to /root/nltk_data...\n",
      "[nltk_data]   Package wordnet is already up-to-date!\n",
      "lie\n",
      "lying\n",
      "lying\n",
      "sad\n",
      "wa\n",
      "be\n"
     ]
    }
   ],
   "source": [
    "nltk.download('wordnet')\n",
    "from nltk.stem import WordNetLemmatizer\n",
    "wnl = WordNetLemmatizer()\n",
    "# lemmatize verb/nouns\n",
    "print (wnl.lemmatize('lying', \"v\"))\n",
    "print (wnl.lemmatize('lying', \"n\"))\n",
    "print (wnl.lemmatize('lying')) # with out Part of Speed (POS), noun is default\n",
    "print (wnl.lemmatize('saddest', 'a'))\n",
    "print (wnl.lemmatize('was'))\n",
    "print (wnl.lemmatize('was', 'v'))"
   ]
  },
  {
   "cell_type": "code",
   "execution_count": 20,
   "metadata": {
    "colab": {
     "base_uri": "https://localhost:8080/",
     "height": 55
    },
    "colab_type": "code",
    "id": "bQzqR3j4msEh",
    "outputId": "f3286a3f-d1a1-4872-f8fa-47a4400e44d2"
   },
   "outputs": [
    {
     "name": "stdout",
     "output_type": "stream",
     "text": [
      "['National', 'Tsing', 'Hua', 'University', 'wa', 'established', 'in', 'Beijing', 'in', '1911', 'a', '“', 'Tsing', 'Hua', 'Academy', '”', '.', 'In', '1956', ',', 'National', 'Tsing', 'Hua', 'University', 'wa', 're-established', 'at', 'it', 'present', 'location', 'in', 'Hsinchu', ',', 'Taiwan', '.', 'Since', 'it', 'relocation', ',', 'NTHU', 'ha', 'developed', 'into', 'a', 'comprehensive', 'research', 'university', 'offering', 'a', 'full', 'range', 'of', 'degree', 'program', 'in', 'science', ',', 'technology', ',', 'engineering', ',', 'humanity', ',', 'social', 'science', ',', 'and', 'management', '.']\n"
     ]
    }
   ],
   "source": [
    "#stemming an tokenize word list\n",
    "token_lem = [wnl.lemmatize(word) for word in text2_tokens]\n",
    "print(token_lem)"
   ]
  },
  {
   "cell_type": "code",
   "execution_count": 21,
   "metadata": {
    "colab": {
     "base_uri": "https://localhost:8080/",
     "height": 55
    },
    "colab_type": "code",
    "id": "e5JRz5SJnqeV",
    "outputId": "7a14f91f-c683-4bc6-f4c7-68ec5d4c5ab6"
   },
   "outputs": [
    {
     "name": "stdout",
     "output_type": "stream",
     "text": [
      "['National', 'Tsing', 'Hua', 'University', 'be', 'establish', 'in', 'Beijing', 'in', '1911', 'as', '\"', 'Tsing', 'Hua', 'Academy', '\"', '.', 'in', '1956', ',', 'National', 'Tsing', 'Hua', 'University', 'be', 're', '-', 'establish', 'at', '-PRON-', 'present', 'location', 'in', 'Hsinchu', ',', 'Taiwan', '.', 'since', '-PRON-', 'relocation', ',', 'NTHU', 'have', 'develop', 'into', 'a', 'comprehensive', 'research', 'university', 'offer', 'a', 'full', 'range', 'of', 'degree', 'program', 'in', 'science', ',', 'technology', ',', 'engineering', ',', 'humanity', ',', 'social', 'science', ',', 'and', 'management', '.']\n"
     ]
    }
   ],
   "source": [
    "import spacy\n",
    "nlp = spacy.load('en')\n",
    "doc = nlp(text2)\n",
    "print([token.lemma_ for token in doc])"
   ]
  },
  {
   "cell_type": "markdown",
   "metadata": {
    "colab_type": "text",
    "id": "Jt51YTnvuj6z"
   },
   "source": [
    "## 6.Remove stopwords"
   ]
  },
  {
   "cell_type": "code",
   "execution_count": 22,
   "metadata": {
    "colab": {
     "base_uri": "https://localhost:8080/",
     "height": 89
    },
    "colab_type": "code",
    "id": "xBCqJ069oCi6",
    "outputId": "f482b4dd-d923-47d2-903b-fb8303e5a2e1"
   },
   "outputs": [
    {
     "name": "stdout",
     "output_type": "stream",
     "text": [
      "[nltk_data] Downloading package stopwords to /root/nltk_data...\n",
      "[nltk_data]   Package stopwords is already up-to-date!\n",
      "{'your', 'won', 'more', \"you'll\", 'there', 'once', 'if', 'only', 'own', 'ain', 'have', 'its', 'my', 'myself', 'whom', 'during', 'few', \"haven't\", 'no', 'a', 'haven', 'about', 'needn', 'below', 'ourselves', \"aren't\", 'an', 'those', 'this', 'her', 'these', 'on', 'too', 'most', 'yourselves', 'further', \"isn't\", 'do', 'was', 'in', 'where', 'into', 'themselves', 'just', 'does', 'down', \"doesn't\", 'having', 'because', 'that', \"hasn't\", 'is', 'don', 'he', 'she', 'yourself', 'now', 'such', 'yours', 'it', 't', 'll', \"wouldn't\", 's', \"you'd\", 'mustn', 'hasn', 'out', \"that'll\", 'doesn', \"hadn't\", 'did', 'his', 'here', 'other', \"shan't\", 'o', 'weren', \"she's\", 'from', \"it's\", 'should', \"wasn't\", 've', 'through', 'again', 'didn', 'what', 'be', 'mightn', 'couldn', 'i', 'same', 'under', \"you're\", 'off', \"couldn't\", 'himself', 'theirs', 'how', 'wouldn', \"should've\", 'd', 'hadn', 'will', \"needn't\", \"won't\", 'of', 'or', 'all', 'itself', 'are', 'their', 'but', \"you've\", 'doing', 'not', 'isn', 'with', 'for', \"don't\", 'them', 'until', 'between', 'shan', 'him', 'by', 'y', 'above', 'each', 'to', 'against', 'then', 'when', 'as', \"weren't\", 'over', 'some', 'had', 'am', 'so', 're', 'we', 'up', 'which', 'than', 'before', 'after', 'very', 'they', \"mustn't\", \"didn't\", 'and', 'me', 'nor', 'can', 'both', 'at', 'hers', 'why', 'while', \"mightn't\", 'any', 'shouldn', 'aren', 'being', 'were', 'ours', \"shouldn't\", 'm', 'been', 'ma', 'who', 'has', 'herself', 'our', 'you', 'wasn', 'the'}\n"
     ]
    }
   ],
   "source": [
    "#what is the stopwords?\n",
    "nltk.download('stopwords')\n",
    "from nltk.corpus import stopwords\n",
    "stopwords = set(stopwords.words('english'))\n",
    "print(stopwords)"
   ]
  },
  {
   "cell_type": "code",
   "execution_count": 23,
   "metadata": {
    "colab": {
     "base_uri": "https://localhost:8080/",
     "height": 52
    },
    "colab_type": "code",
    "id": "H3z7n-GZqYxY",
    "outputId": "f0944b66-72d4-479f-ac28-7c4d685989d3"
   },
   "outputs": [
    {
     "name": "stdout",
     "output_type": "stream",
     "text": [
      "['Let', \"'s\", 'go', 'ahead', 'and', 'start', 'now', '.', 'We', 'ca', \"n't\", 'wait', 'any', 'longer', '.']\n",
      "['Let', \"'s\", 'go', 'ahead', 'start', '.', 'We', 'ca', \"n't\", 'wait', 'longer', '.']\n"
     ]
    }
   ],
   "source": [
    "filtered_tokens = [word for word in text1_tokens if not word in stopwords]\n",
    "print(text1_tokens)\n",
    "print(filtered_tokens)"
   ]
  },
  {
   "cell_type": "code",
   "execution_count": 24,
   "metadata": {
    "colab": {
     "base_uri": "https://localhost:8080/",
     "height": 69
    },
    "colab_type": "code",
    "id": "u90ZS0cu5ak2",
    "outputId": "2c457873-22b1-4e12-f17d-97de6d4c87f8"
   },
   "outputs": [
    {
     "name": "stdout",
     "output_type": "stream",
     "text": [
      "['Let', \"'s\", 'go', 'ahead', 'and', 'start', 'now', '.', 'We', 'ca', \"n't\", 'wait', 'any', 'longer', '.']\n",
      "['Let', \"'s\", 'go', 'ahead', 'start', '.', 'We', 'ca', \"n't\", 'wait', 'longer', '.']\n",
      "['Let', 'go', 'ahead', 'start', 'We', \"n't\", 'wait', 'longer']\n"
     ]
    }
   ],
   "source": [
    "#sometime you need to define your stopwords\n",
    "#for example I define user_stopwords as below\n",
    "user_stopwords = [\"'s\",\".\",\"ca\"]\n",
    "#then remove these stopwords\n",
    "filtered_tokens_2 = [word for word in filtered_tokens if not word in user_stopwords]\n",
    "print(text1_tokens)\n",
    "print(filtered_tokens)\n",
    "print(filtered_tokens_2)"
   ]
  },
  {
   "cell_type": "markdown",
   "metadata": {
    "colab_type": "text",
    "id": "dgASzUa89Ud2"
   },
   "source": [
    "# 7. Chinese Mandarin tokenization \n",
    "https://github.com/fxsjy/jieba\n"
   ]
  },
  {
   "cell_type": "code",
   "execution_count": 0,
   "metadata": {
    "colab": {},
    "colab_type": "code",
    "id": "iQHuNDsY9Udw"
   },
   "outputs": [],
   "source": [
    "chinese_text = \"國立清華大學立校於中西文化激盪之際，不同學問的思辨，本土與國際的對話，滋養人才，學貫中西，貢獻人群，橫跨學術、藝術、文學、軍事、政治、經濟各領域，為本校傲人的傳統。學校歷經變遷，而弦歌不曾稍歇；於逆境中，自強以不息，於板蕩中，厚德以載物，是本校師生的精神與面貌，以迄於今。\""
   ]
  },
  {
   "cell_type": "code",
   "execution_count": 26,
   "metadata": {
    "colab": {
     "base_uri": "https://localhost:8080/",
     "height": 141
    },
    "colab_type": "code",
    "id": "xPXZNuw39Udq",
    "outputId": "8b8fb573-04e2-4dfe-917e-123c17a82cdc"
   },
   "outputs": [
    {
     "name": "stderr",
     "output_type": "stream",
     "text": [
      "Building prefix dict from the default dictionary ...\n",
      "Loading model from cache /tmp/jieba.cache\n"
     ]
    },
    {
     "name": "stdout",
     "output_type": "stream",
     "text": [
      "<generator object Tokenizer.cut at 0x7f58b2880728>\n"
     ]
    },
    {
     "name": "stderr",
     "output_type": "stream",
     "text": [
      "Loading model cost 0.736 seconds.\n",
      "Prefix dict has been built successfully.\n"
     ]
    },
    {
     "name": "stdout",
     "output_type": "stream",
     "text": [
      "['國立', '清華大學', '立校', '於', '中西文化', '激盪', '之際', '不同', '學問', '的', '思辨', '本土', '與', '國際', '的', '對', '話', '滋養', '人才', '學貫', '中西', '貢獻', '人群', '橫跨', '學術', '、', '藝術', '、', '文學', '、', '軍事', '、', '政治', '、', '經濟', '各', '領域', '為', '本校', '傲人', '的', '傳統', '學校', '歷經', '變遷', '而', '弦歌', '不曾', '稍', '歇', '；', '於', '逆境', '中', '自強', '以', '不息', '於', '板', '蕩', '中', '厚德', '以載物', '是', '本校', '師生', '的', '精神', '與', '面貌', '以', '迄', '於', '今']\n"
     ]
    }
   ],
   "source": [
    "import jieba\n",
    "chinese_token = jieba.cut(chinese_text)\n",
    "print(chinese_token)\n",
    "# remove \"，\" and '。'\n",
    "chinese_token_1 = [char for char in chinese_token if char !='，' and char !='。'] \n",
    "print(chinese_token_1)"
   ]
  },
  {
   "cell_type": "markdown",
   "metadata": {
    "colab_type": "text",
    "id": "WeN_wU7N-7mw"
   },
   "source": [
    "**Define new term for tokenization**"
   ]
  },
  {
   "cell_type": "code",
   "execution_count": 27,
   "metadata": {
    "colab": {
     "base_uri": "https://localhost:8080/",
     "height": 35
    },
    "colab_type": "code",
    "id": "gXcC5x4D9Udc",
    "outputId": "d4a93122-26eb-4476-b799-f25206081656"
   },
   "outputs": [
    {
     "name": "stdout",
     "output_type": "stream",
     "text": [
      "['所', '成立', '於', '2008', '年', '，', '是', '全台灣', '第一', '個', '服務科學', '研究所', '。', '本所願景', '如下', ':']\n"
     ]
    }
   ],
   "source": [
    "chinese_text2 = \"所成立於2008年，是全台灣第一個服務科學研究所。本所願景如下:\"\n",
    "chinese_token2 = list(jieba.cut(chinese_text2))\n",
    "print(chinese_token2)"
   ]
  },
  {
   "cell_type": "code",
   "execution_count": 28,
   "metadata": {
    "colab": {
     "base_uri": "https://localhost:8080/",
     "height": 35
    },
    "colab_type": "code",
    "id": "ZPLtV6A49UdT",
    "outputId": "f610d6af-beba-4406-fd05-345b4d4667c0"
   },
   "outputs": [
    {
     "name": "stdout",
     "output_type": "stream",
     "text": [
      "['所', '成立', '於', '2008', '年', '，', '是', '全台灣', '第一', '個', '服務科學研究所', '。', '本所願景', '如下', ':']\n"
     ]
    }
   ],
   "source": [
    "#add more word to jieba dictionary \n",
    "jieba.add_word(\"服務科學研究所\",freq=None, tag=None)\n",
    "chinese_token2 = list(jieba.cut(chinese_text2))\n",
    "print(chinese_token2)"
   ]
  },
  {
   "cell_type": "code",
   "execution_count": 29,
   "metadata": {
    "colab": {
     "base_uri": "https://localhost:8080/",
     "height": 35
    },
    "colab_type": "code",
    "id": "lAitjHYwBPW_",
    "outputId": "43f83259-06ea-46fc-add0-09903211e832"
   },
   "outputs": [
    {
     "data": {
      "text/plain": [
       "4960"
      ]
     },
     "execution_count": 29,
     "metadata": {
      "tags": []
     },
     "output_type": "execute_result"
    }
   ],
   "source": [
    "#download chinese stopwords file at https://raw.githubusercontent.com/stopwords-iso/stopwords-zh/master/stopwords-zh.txt\n",
    "# and save to your computer, you also add more chinese stopwords\n",
    "import requests\n",
    "url = 'https://raw.githubusercontent.com/stopwords-iso/stopwords-zh/master/stopwords-zh.txt'\n",
    "r = requests.get(url, allow_redirects=True)\n",
    "open('chinese_stopwords.txt', 'wb').write(r.content)"
   ]
  },
  {
   "cell_type": "code",
   "execution_count": 30,
   "metadata": {
    "colab": {
     "base_uri": "https://localhost:8080/",
     "height": 55
    },
    "colab_type": "code",
    "id": "a9meiLgvDLzE",
    "outputId": "7c29e1e4-aec8-4a09-e2d3-812bc26ee6c0"
   },
   "outputs": [
    {
     "name": "stdout",
     "output_type": "stream",
     "text": [
      "['、', '。', '〈', '〉', '《', '》', '一', '一个', '一些', '一何', '一切', '一则', '一方面', '一旦', '一来', '一样', '一种', '一般', '一转眼', '七', '万一', '三', '上', '上下', '下', '不', '不仅', '不但', '不光', '不单', '不只', '不外乎', '不如', '不妨', '不尽', '不尽然', '不得', '不怕', '不惟', '不成', '不拘', '不料', '不是', '不比', '不然', '不特', '不独', '不管', '不至于', '不若', '不论', '不过', '不问', '与', '与其', '与其说', '与否', '与此同时', '且', '且不说', '且说', '两者', '个', '个别', '中', '临', '为', '为了', '为什么', '为何', '为止', '为此', '为着', '乃', '乃至', '乃至于', '么', '之', '之一', '之所以', '之类', '乌乎', '乎', '乘', '九', '也', '也好', '也罢', '了', '二', '二来', '于', '于是', '于是乎', '云云', '云尔', '五', '些', '亦', '人', '人们', '人家', '什', '什么', '什么样', '今', '介于', '仍', '仍旧', '从', '从此', '从而', '他', '他人', '他们', '他们们', '以', '以上', '以为', '以便', '以免', '以及', '以故', '以期', '以来', '以至', '以至于', '以致', '们', '任', '任何', '任凭', '会', '似的', '但', '但凡', '但是', '何', '何以', '何况', '何处', '何时', '余外', '作为', '你', '你们', '使', '使得', '例如', '依', '依据', '依照', '便于', '俺', '俺们', '倘', '倘使', '倘或', '倘然', '倘若', '借', '借傥然', '假使', '假如', '假若', '做', '像', '儿', '先不先', '光', '光是', '全体', '全部', '八', '六', '兮', '共', '关于', '关于具体地说', '其', '其一', '其中', '其二', '其他', '其余', '其它', '其次', '具体地说', '具体说来', '兼之', '内', '再', '再其次', '再则', '再有', '再者', '再者说', '再说', '冒', '冲', '况且', '几', '几时', '凡', '凡是', '凭', '凭借', '出于', '出来', '分', '分别', '则', '则甚', '别', '别人', '别处', '别是', '别的', '别管', '别说', '到', '前后', '前此', '前者', '加之', '加以', '区', '即', '即令', '即使', '即便', '即如', '即或', '即若', '却', '去', '又', '又及', '及', '及其', '及至', '反之', '反而', '反过来', '反过来说', '受到', '另', '另一方面', '另外', '另悉', '只', '只当', '只怕', '只是', '只有', '只消', '只要', '只限', '叫', '叮咚', '可', '可以', '可是', '可见', '各', '各个', '各位', '各种', '各自', '同', '同时', '后', '后者', '向', '向使', '向着', '吓', '吗', '否则', '吧', '吧哒', '含', '吱', '呀', '呃', '呕', '呗', '呜', '呜呼', '呢', '呵', '呵呵', '呸', '呼哧', '咋', '和', '咚', '咦', '咧', '咱', '咱们', '咳', '哇', '哈', '哈哈', '哉', '哎', '哎呀', '哎哟', '哗', '哟', '哦', '哩', '哪', '哪个', '哪些', '哪儿', '哪天', '哪年', '哪怕', '哪样', '哪边', '哪里', '哼', '哼唷', '唉', '唯有', '啊', '啐', '啥', '啦', '啪达', '啷当', '喂', '喏', '喔唷', '喽', '嗡', '嗡嗡', '嗬', '嗯', '嗳', '嘎', '嘎登', '嘘', '嘛', '嘻', '嘿', '嘿嘿', '四', '因', '因为', '因了', '因此', '因着', '因而', '固然', '在', '在下', '在于', '地', '基于', '处在', '多', '多么', '多少', '大', '大家', '她', '她们', '好', '如', '如上', '如上所述', '如下', '如何', '如其', '如同', '如是', '如果', '如此', '如若', '始而', '孰料', '孰知', '宁', '宁可', '宁愿', '宁肯', '它', '它们', '对', '对于', '对待', '对方', '对比', '将', '小', '尔', '尔后', '尔尔', '尚且', '就', '就是', '就是了', '就是说', '就算', '就要', '尽', '尽管', '尽管如此', '岂但', '己', '已', '已矣', '巴', '巴巴', '年', '并', '并且', '庶乎', '庶几', '开外', '开始', '归', '归齐', '当', '当地', '当然', '当着', '彼', '彼时', '彼此', '往', '待', '很', '得', '得了', '怎', '怎么', '怎么办', '怎么样', '怎奈', '怎样', '总之', '总的来看', '总的来说', '总的说来', '总而言之', '恰恰相反', '您', '惟其', '慢说', '我', '我们', '或', '或则', '或是', '或曰', '或者', '截至', '所', '所以', '所在', '所幸', '所有', '才', '才能', '打', '打从', '把', '抑或', '拿', '按', '按照', '换句话说', '换言之', '据', '据此', '接着', '故', '故此', '故而', '旁人', '无', '无宁', '无论', '既', '既往', '既是', '既然', '日', '时', '时候', '是', '是以', '是的', '更', '曾', '替', '替代', '最', '月', '有', '有些', '有关', '有及', '有时', '有的', '望', '朝', '朝着', '本', '本人', '本地', '本着', '本身', '来', '来着', '来自', '来说', '极了', '果然', '果真', '某', '某个', '某些', '某某', '根据', '欤', '正值', '正如', '正巧', '正是', '此', '此地', '此处', '此外', '此时', '此次', '此间', '毋宁', '每', '每当', '比', '比及', '比如', '比方', '没奈何', '沿', '沿着', '漫说', '点', '焉', '然则', '然后', '然而', '照', '照着', '犹且', '犹自', '甚且', '甚么', '甚或', '甚而', '甚至', '甚至于', '用', '用来', '由', '由于', '由是', '由此', '由此可见', '的', '的确', '的话', '直到', '相对而言', '省得', '看', '眨眼', '着', '着呢', '矣', '矣乎', '矣哉', '离', '秒', '称', '竟而', '第', '等', '等到', '等等', '简言之', '管', '类如', '紧接着', '纵', '纵令', '纵使', '纵然', '经', '经过', '结果', '给', '继之', '继后', '继而', '综上所述', '罢了', '者', '而', '而且', '而况', '而后', '而外', '而已', '而是', '而言', '能', '能否', '腾', '自', '自个儿', '自从', '自各儿', '自后', '自家', '自己', '自打', '自身', '至', '至于', '至今', '至若', '致', '般的', '若', '若夫', '若是', '若果', '若非', '莫不然', '莫如', '莫若', '虽', '虽则', '虽然', '虽说', '被', '要', '要不', '要不是', '要不然', '要么', '要是', '譬喻', '譬如', '让', '许多', '论', '设使', '设或', '设若', '诚如', '诚然', '该', '说', '说来', '请', '诸', '诸位', '诸如', '谁', '谁人', '谁料', '谁知', '贼死', '赖以', '赶', '起', '起见', '趁', '趁着', '越是', '距', '跟', '较', '较之', '边', '过', '还', '还是', '还有', '还要', '这', '这一来', '这个', '这么', '这么些', '这么样', '这么点儿', '这些', '这会儿', '这儿', '这就是说', '这时', '这样', '这次', '这般', '这边', '这里', '进而', '连', '连同', '逐步', '通过', '遵循', '遵照', '那', '那个', '那么', '那么些', '那么样', '那些', '那会儿', '那儿', '那时', '那样', '那般', '那边', '那里', '都', '鄙人', '鉴于', '针对', '阿', '除', '除了', '除外', '除开', '除此之外', '除非', '随', '随后', '随时', '随着', '难道说', '零', '非', '非但', '非徒', '非特', '非独', '靠', '顺', '顺着', '首先', '︿', '！', '＃', '＄', '％', '＆', '（', '）', '＊', '＋', '，', '０', '１', '２', '３', '４', '５', '６', '７', '８', '９', '：', '；', '＜', '＞', '？', '＠', '［', '］', '｛', '｜', '｝', '～', '￥']\n"
     ]
    }
   ],
   "source": [
    "#Read stopwords from file\n",
    "#remove chinese stopwords: similar to english.\n",
    "cn_stopwords_path=\"chinese_stopwords.txt\"\n",
    "cn_stopwords = [line.strip() for line in open(cn_stopwords_path, 'r', encoding='utf-8').readlines()]\n",
    "print(cn_stopwords)"
   ]
  },
  {
   "cell_type": "markdown",
   "metadata": {
    "colab_type": "text",
    "id": "6Ea7rngmpsfp"
   },
   "source": [
    "# 8.Term Frequency"
   ]
  },
  {
   "cell_type": "code",
   "execution_count": 31,
   "metadata": {
    "colab": {
     "base_uri": "https://localhost:8080/",
     "height": 52
    },
    "colab_type": "code",
    "id": "VO4aDFkONBDq",
    "outputId": "44284239-56a3-4bff-cff3-d4057580cada"
   },
   "outputs": [
    {
     "name": "stdout",
     "output_type": "stream",
     "text": [
      "['this', 'is', 'a', 'good', 'sample']\n",
      "['this', 'is', 'another', 'example', 'another', 'example', 'example']\n"
     ]
    }
   ],
   "source": [
    "doc1=\"this is a good sample\"\n",
    "doc2= \"this is another example another example example\"\n",
    "doc1_tokens = doc1.split()\n",
    "doc2_tokens = doc2.split()\n",
    "print(doc1_tokens)\n",
    "print(doc2_tokens)"
   ]
  },
  {
   "cell_type": "code",
   "execution_count": 0,
   "metadata": {
    "colab": {},
    "colab_type": "code",
    "id": "7W6UeYGqd_8u"
   },
   "outputs": [],
   "source": [
    "# create tf function\n",
    "def tf(term, token_doc):\n",
    "    tf = token_doc.count(term)/len(token_doc)\n",
    "    return tf"
   ]
  },
  {
   "cell_type": "code",
   "execution_count": 33,
   "metadata": {
    "colab": {
     "base_uri": "https://localhost:8080/",
     "height": 35
    },
    "colab_type": "code",
    "id": "rT4TFLczeA-Q",
    "outputId": "bcd2f5fe-af1f-4221-90ca-3ac56df74fa9"
   },
   "outputs": [
    {
     "data": {
      "text/plain": [
       "0.2"
      ]
     },
     "execution_count": 33,
     "metadata": {
      "tags": []
     },
     "output_type": "execute_result"
    }
   ],
   "source": [
    "#test tf function\n",
    "tf(\"this\",doc1_tokens)"
   ]
  },
  {
   "cell_type": "code",
   "execution_count": 34,
   "metadata": {
    "colab": {
     "base_uri": "https://localhost:8080/",
     "height": 35
    },
    "colab_type": "code",
    "id": "kAV6ZlDSeKU-",
    "outputId": "4a200d8b-8cc4-419d-acd5-88bb6883a9d1"
   },
   "outputs": [
    {
     "name": "stdout",
     "output_type": "stream",
     "text": [
      "{'this': 0.2, 'is': 0.2, 'a': 0.2, 'good': 0.2, 'sample': 0.2}\n"
     ]
    }
   ],
   "source": [
    "#calculate term frequency in doc1:\n",
    "doc1_tf ={} # defien doc1_tf is dictionary structure\n",
    "for word in doc1_tokens:\n",
    "    doc1_tf[word]=tf(word,doc1_tokens)\n",
    "print(doc1_tf)"
   ]
  },
  {
   "cell_type": "code",
   "execution_count": 35,
   "metadata": {
    "colab": {
     "base_uri": "https://localhost:8080/",
     "height": 35
    },
    "colab_type": "code",
    "id": "YlZ_UsyBeuzS",
    "outputId": "77c57e14-0790-40c3-99a3-060c9cf56eee"
   },
   "outputs": [
    {
     "name": "stdout",
     "output_type": "stream",
     "text": [
      "{'this': 0.14285714285714285, 'is': 0.14285714285714285, 'another': 0.2857142857142857, 'example': 0.42857142857142855}\n"
     ]
    }
   ],
   "source": [
    "#calculate term frequency in doc2:\n",
    "doc2_tf ={} # defien doc1_tf is dictionary structure\n",
    "for word in doc2_tokens:\n",
    "    doc2_tf[word]=tf(word,doc2_tokens)\n",
    "print(doc2_tf)"
   ]
  },
  {
   "cell_type": "code",
   "execution_count": 36,
   "metadata": {
    "colab": {
     "base_uri": "https://localhost:8080/",
     "height": 110
    },
    "colab_type": "code",
    "id": "nw7bb-kjfK6F",
    "outputId": "d533ed6e-fa7b-4acd-ca5a-8176c6c5adcb"
   },
   "outputs": [
    {
     "data": {
      "text/html": [
       "<div>\n",
       "<style scoped>\n",
       "    .dataframe tbody tr th:only-of-type {\n",
       "        vertical-align: middle;\n",
       "    }\n",
       "\n",
       "    .dataframe tbody tr th {\n",
       "        vertical-align: top;\n",
       "    }\n",
       "\n",
       "    .dataframe thead th {\n",
       "        text-align: right;\n",
       "    }\n",
       "</style>\n",
       "<table border=\"1\" class=\"dataframe\">\n",
       "  <thead>\n",
       "    <tr style=\"text-align: right;\">\n",
       "      <th></th>\n",
       "      <th>this</th>\n",
       "      <th>is</th>\n",
       "      <th>a</th>\n",
       "      <th>good</th>\n",
       "      <th>sample</th>\n",
       "      <th>another</th>\n",
       "      <th>example</th>\n",
       "    </tr>\n",
       "  </thead>\n",
       "  <tbody>\n",
       "    <tr>\n",
       "      <th>doc1</th>\n",
       "      <td>0.200000</td>\n",
       "      <td>0.200000</td>\n",
       "      <td>0.2</td>\n",
       "      <td>0.2</td>\n",
       "      <td>0.2</td>\n",
       "      <td>NaN</td>\n",
       "      <td>NaN</td>\n",
       "    </tr>\n",
       "    <tr>\n",
       "      <th>doc2</th>\n",
       "      <td>0.142857</td>\n",
       "      <td>0.142857</td>\n",
       "      <td>NaN</td>\n",
       "      <td>NaN</td>\n",
       "      <td>NaN</td>\n",
       "      <td>0.285714</td>\n",
       "      <td>0.428571</td>\n",
       "    </tr>\n",
       "  </tbody>\n",
       "</table>\n",
       "</div>"
      ],
      "text/plain": [
       "          this        is    a  good  sample   another   example\n",
       "doc1  0.200000  0.200000  0.2   0.2     0.2       NaN       NaN\n",
       "doc2  0.142857  0.142857  NaN   NaN     NaN  0.285714  0.428571"
      ]
     },
     "execution_count": 36,
     "metadata": {
      "tags": []
     },
     "output_type": "execute_result"
    }
   ],
   "source": [
    "#convert to pandas frame\n",
    "import pandas as pd\n",
    "tf_dict = {\"doc1\":doc1_tf,\"doc2\":doc2_tf}\n",
    "tf_dataframe = pd.DataFrame(tf_dict).transpose()\n",
    "tf_dataframe"
   ]
  },
  {
   "cell_type": "markdown",
   "metadata": {
    "colab_type": "text",
    "id": "nYBcP0Udqyes"
   },
   "source": [
    "#11.Tf-idf"
   ]
  },
  {
   "cell_type": "code",
   "execution_count": 37,
   "metadata": {
    "colab": {
     "base_uri": "https://localhost:8080/",
     "height": 35
    },
    "colab_type": "code",
    "id": "9woXVOnJq2fg",
    "outputId": "63003624-2b03-40e8-f088-3eb92182974d"
   },
   "outputs": [
    {
     "name": "stdout",
     "output_type": "stream",
     "text": [
      "{'doc1': ['this', 'is', 'a', 'good', 'sample'], 'doc2': ['this', 'is', 'another', 'example', 'another', 'example', 'example']}\n"
     ]
    }
   ],
   "source": [
    "doc1=\"this is a good sample\"\n",
    "doc2= \"this is another example another example example\"\n",
    "doc1_tokens = doc1.split()\n",
    "doc2_tokens = doc2.split()\n",
    "doc_all = {\"doc1\":doc1_tokens, \"doc2\":doc2_tokens}\n",
    "print(doc_all)"
   ]
  },
  {
   "cell_type": "code",
   "execution_count": 0,
   "metadata": {
    "colab": {},
    "colab_type": "code",
    "id": "xRJTKCkUveLz"
   },
   "outputs": [],
   "source": [
    "# create tf function\n",
    "def tf(term, token_doc):\n",
    "    tf = token_doc.count(term)/len(token_doc)\n",
    "    return tf\n",
    "\n",
    "# create function to calculate how many doc contain the term \n",
    "def numDocsContaining(word, token_doclist):\n",
    "    doccount = 0\n",
    "    for doc_token in token_doclist:\n",
    "        if doc_token.count(word) > 0:\n",
    "            doccount +=1\n",
    "    return doccount\n",
    "  \n",
    "import math\n",
    "# create function to calculate  Inverse Document Frequency in doclist\n",
    "def idf(word, token_doclist):\n",
    "    n = len(token_doclist)\n",
    "    df = numDocsContaining(word, token_doclist)\n",
    "    return math.log10(n/df)"
   ]
  },
  {
   "cell_type": "code",
   "execution_count": 39,
   "metadata": {
    "colab": {
     "base_uri": "https://localhost:8080/",
     "height": 35
    },
    "colab_type": "code",
    "id": "lwUy9I9zhgcV",
    "outputId": "5056d650-6b0e-4422-ded8-e138d748eec4"
   },
   "outputs": [
    {
     "data": {
      "text/plain": [
       "2"
      ]
     },
     "execution_count": 39,
     "metadata": {
      "tags": []
     },
     "output_type": "execute_result"
    }
   ],
   "source": [
    "# example count how many doc cotain term \"this\"\n",
    " numDocsContaining(\"this\", doc_all.values())"
   ]
  },
  {
   "cell_type": "code",
   "execution_count": 40,
   "metadata": {
    "colab": {
     "base_uri": "https://localhost:8080/",
     "height": 35
    },
    "colab_type": "code",
    "id": "TZhao8JSguOj",
    "outputId": "de85e73b-4e80-4974-9263-2f034b7084a2"
   },
   "outputs": [
    {
     "name": "stdout",
     "output_type": "stream",
     "text": [
      "{'is', 'good', 'sample', 'this', 'another', 'a', 'example'}\n"
     ]
    }
   ],
   "source": [
    "#create bag words\n",
    "bag_words =[] # declare bag_words is a list\n",
    "for doc in doc_all.keys():\n",
    "    bag_words += doc_all[doc]\n",
    "bag_words=set(bag_words)\n",
    "print(bag_words)"
   ]
  },
  {
   "cell_type": "code",
   "execution_count": 41,
   "metadata": {
    "colab": {
     "base_uri": "https://localhost:8080/",
     "height": 55
    },
    "colab_type": "code",
    "id": "uR_ahLy0htHA",
    "outputId": "523f951f-a97a-48aa-cf7e-c68d8dade095"
   },
   "outputs": [
    {
     "name": "stdout",
     "output_type": "stream",
     "text": [
      "{'is': 0.0, 'good': 0.3010299956639812, 'sample': 0.3010299956639812, 'this': 0.0, 'another': 0.3010299956639812, 'a': 0.3010299956639812, 'example': 0.3010299956639812}\n"
     ]
    }
   ],
   "source": [
    "#calculate idf for every word in bag_words\n",
    "bag_words_idf={} # declare \"bag_words_idf\" data structure is dictionary \n",
    "for word in bag_words:\n",
    "    bag_words_idf[word]= idf(word,doc_all.values())\n",
    "print(bag_words_idf)"
   ]
  },
  {
   "cell_type": "code",
   "execution_count": 42,
   "metadata": {
    "colab": {
     "base_uri": "https://localhost:8080/",
     "height": 173
    },
    "colab_type": "code",
    "id": "waKA46YI2_Mt",
    "outputId": "446d0a3e-0a10-4e0c-c0c4-acdfd6a40ebe"
   },
   "outputs": [
    {
     "data": {
      "text/plain": [
       "{'doc1': {'a': 0.06020599913279624,\n",
       "  'good': 0.06020599913279624,\n",
       "  'is': 0.0,\n",
       "  'sample': 0.06020599913279624,\n",
       "  'this': 0.0},\n",
       " 'doc2': {'another': 0.08600857018970891,\n",
       "  'example': 0.12901285528456335,\n",
       "  'is': 0.0,\n",
       "  'this': 0.0}}"
      ]
     },
     "execution_count": 42,
     "metadata": {
      "tags": []
     },
     "output_type": "execute_result"
    }
   ],
   "source": [
    "#calculate tfidf\n",
    "tfidf={} # declare tfidf dictionary to store tfidf value\n",
    "for doc in doc_all.keys():\n",
    "    tfidf_doc={} # delare tfidf_doc as a dictionary to store tfidf of each doc\n",
    "    for term in set(doc_all[doc]):\n",
    "        tfidf_doc[term]= tf(term,doc_all[doc]) * bag_words_idf[term] # calculate tfidf for each doc\n",
    "    tfidf[doc]= tfidf_doc\n",
    "\n",
    "tfidf"
   ]
  },
  {
   "cell_type": "code",
   "execution_count": 43,
   "metadata": {
    "colab": {
     "base_uri": "https://localhost:8080/",
     "height": 110
    },
    "colab_type": "code",
    "id": "JyWkoZPFibpH",
    "outputId": "739e7973-cbb3-4ae7-bb8a-7a3168abd078"
   },
   "outputs": [
    {
     "data": {
      "text/html": [
       "<div>\n",
       "<style scoped>\n",
       "    .dataframe tbody tr th:only-of-type {\n",
       "        vertical-align: middle;\n",
       "    }\n",
       "\n",
       "    .dataframe tbody tr th {\n",
       "        vertical-align: top;\n",
       "    }\n",
       "\n",
       "    .dataframe thead th {\n",
       "        text-align: right;\n",
       "    }\n",
       "</style>\n",
       "<table border=\"1\" class=\"dataframe\">\n",
       "  <thead>\n",
       "    <tr style=\"text-align: right;\">\n",
       "      <th></th>\n",
       "      <th>is</th>\n",
       "      <th>good</th>\n",
       "      <th>sample</th>\n",
       "      <th>this</th>\n",
       "      <th>a</th>\n",
       "      <th>example</th>\n",
       "      <th>another</th>\n",
       "    </tr>\n",
       "  </thead>\n",
       "  <tbody>\n",
       "    <tr>\n",
       "      <th>doc1</th>\n",
       "      <td>0.0</td>\n",
       "      <td>0.060206</td>\n",
       "      <td>0.060206</td>\n",
       "      <td>0.0</td>\n",
       "      <td>0.060206</td>\n",
       "      <td>NaN</td>\n",
       "      <td>NaN</td>\n",
       "    </tr>\n",
       "    <tr>\n",
       "      <th>doc2</th>\n",
       "      <td>0.0</td>\n",
       "      <td>NaN</td>\n",
       "      <td>NaN</td>\n",
       "      <td>0.0</td>\n",
       "      <td>NaN</td>\n",
       "      <td>0.129013</td>\n",
       "      <td>0.086009</td>\n",
       "    </tr>\n",
       "  </tbody>\n",
       "</table>\n",
       "</div>"
      ],
      "text/plain": [
       "       is      good    sample  this         a   example   another\n",
       "doc1  0.0  0.060206  0.060206   0.0  0.060206       NaN       NaN\n",
       "doc2  0.0       NaN       NaN   0.0       NaN  0.129013  0.086009"
      ]
     },
     "execution_count": 43,
     "metadata": {
      "tags": []
     },
     "output_type": "execute_result"
    }
   ],
   "source": [
    "#convert to pandas frame\n",
    "import pandas as pd\n",
    "tf_dataframe = pd.DataFrame(tfidf).transpose()\n",
    "tf_dataframe"
   ]
  },
  {
   "cell_type": "markdown",
   "metadata": {
    "colab_type": "text",
    "id": "KkeXTZ-ji_ck"
   },
   "source": [
    "# Appendix"
   ]
  },
  {
   "cell_type": "markdown",
   "metadata": {
    "colab_type": "text",
    "id": "_odM5R4A4-4l"
   },
   "source": [
    "#A1. Multiple text file processing\n",
    "1. Work with python os module ( os: operating system) \n",
    "https://docs.python.org/3/library/os.html\n",
    "2. You need download gutenberg.zip, extract it and upload all gutenberg folder to your google drive /Colab Notebook\n",
    "\n"
   ]
  },
  {
   "cell_type": "code",
   "execution_count": 44,
   "metadata": {
    "colab": {
     "base_uri": "https://localhost:8080/",
     "height": 295
    },
    "colab_type": "code",
    "id": "_b_2D352drCr",
    "outputId": "503e995d-b4fb-4e2c-8d73-2d7e7e0b718c"
   },
   "outputs": [
    {
     "data": {
      "text/plain": [
       "['austen-persuasion.txt',\n",
       " 'austen-emma.txt',\n",
       " 'edgeworth-parents.txt',\n",
       " 'bible-kjv.txt',\n",
       " 'chesterton-thursday.txt',\n",
       " 'chesterton-brown.txt',\n",
       " 'blake-poems.txt',\n",
       " 'austen-sense.txt',\n",
       " 'shakespeare-hamlet.txt',\n",
       " 'shakespeare-macbeth.txt',\n",
       " 'whitman-leaves.txt',\n",
       " 'milton-paradise.txt',\n",
       " 'melville-moby_dick.txt',\n",
       " 'burgess-busterbrown.txt',\n",
       " 'carroll-alice.txt',\n",
       " 'bryant-stories.txt']"
      ]
     },
     "execution_count": 44,
     "metadata": {
      "tags": []
     },
     "output_type": "execute_result"
    }
   ],
   "source": [
    "import os\n",
    "mydrive =\"/content/drive/My Drive/Colab Notebooks/\"\n",
    "#list all file in directory gutenberg in your google drive\n",
    "os.listdir(mydrive+\"gutenberg/\")"
   ]
  },
  {
   "cell_type": "markdown",
   "metadata": {
    "colab_type": "text",
    "id": "nO1WLKLOhYK-"
   },
   "source": [
    "**Print the most 10 common word in Shakespeare-hamlet.**"
   ]
  },
  {
   "cell_type": "code",
   "execution_count": 45,
   "metadata": {
    "colab": {
     "base_uri": "https://localhost:8080/",
     "height": 107
    },
    "colab_type": "code",
    "id": "PAX7u4PZoAkK",
    "outputId": "b5662e03-f318-4417-b171-663ae84b5277"
   },
   "outputs": [
    {
     "name": "stdout",
     "output_type": "stream",
     "text": [
      "[nltk_data] Downloading package stopwords to /root/nltk_data...\n",
      "[nltk_data]   Package stopwords is already up-to-date!\n",
      "ntlk stopwords: ['i', 'me', 'my', 'myself', 'we', 'our', 'ours', 'ourselves', 'you', \"you're\", \"you've\", \"you'll\", \"you'd\", 'your', 'yours', 'yourself', 'yourselves', 'he', 'him', 'his', 'himself', 'she', \"she's\", 'her', 'hers', 'herself', 'it', \"it's\", 'its', 'itself', 'they', 'them', 'their', 'theirs', 'themselves', 'what', 'which', 'who', 'whom', 'this', 'that', \"that'll\", 'these', 'those', 'am', 'is', 'are', 'was', 'were', 'be', 'been', 'being', 'have', 'has', 'had', 'having', 'do', 'does', 'did', 'doing', 'a', 'an', 'the', 'and', 'but', 'if', 'or', 'because', 'as', 'until', 'while', 'of', 'at', 'by', 'for', 'with', 'about', 'against', 'between', 'into', 'through', 'during', 'before', 'after', 'above', 'below', 'to', 'from', 'up', 'down', 'in', 'out', 'on', 'off', 'over', 'under', 'again', 'further', 'then', 'once', 'here', 'there', 'when', 'where', 'why', 'how', 'all', 'any', 'both', 'each', 'few', 'more', 'most', 'other', 'some', 'such', 'no', 'nor', 'not', 'only', 'own', 'same', 'so', 'than', 'too', 'very', 's', 't', 'can', 'will', 'just', 'don', \"don't\", 'should', \"should've\", 'now', 'd', 'll', 'm', 'o', 're', 've', 'y', 'ain', 'aren', \"aren't\", 'couldn', \"couldn't\", 'didn', \"didn't\", 'doesn', \"doesn't\", 'hadn', \"hadn't\", 'hasn', \"hasn't\", 'haven', \"haven't\", 'isn', \"isn't\", 'ma', 'mightn', \"mightn't\", 'mustn', \"mustn't\", 'needn', \"needn't\", 'shan', \"shan't\", 'shouldn', \"shouldn't\", 'wasn', \"wasn't\", 'weren', \"weren't\", 'won', \"won't\", 'wouldn', \"wouldn't\"]\n",
      "ours built stopwords ['the', 'and', 'i', 'i', 'me', 'my', 'myself', 'we', 'our', 'ours', 'ourselves', 'you', \"you're\", \"you've\", \"you'll\", \"you'd\", 'your', 'yours', 'yourself', 'yourselves', 'he', 'him', 'his', 'himself', 'she', \"she's\", 'her', 'hers', 'herself', 'it', \"it's\", 'its', 'itself', 'they', 'them', 'their', 'theirs', 'themselves', 'what', 'which', 'who', 'whom', 'this', 'that', \"that'll\", 'these', 'those', 'am', 'is', 'are', 'was', 'were', 'be', 'been', 'being', 'have', 'has', 'had', 'having', 'do', 'does', 'did', 'doing', 'a', 'an', 'the', 'and', 'but', 'if', 'or', 'because', 'as', 'until', 'while', 'of', 'at', 'by', 'for', 'with', 'about', 'against', 'between', 'into', 'through', 'during', 'before', 'after', 'above', 'below', 'to', 'from', 'up', 'down', 'in', 'out', 'on', 'off', 'over', 'under', 'again', 'further', 'then', 'once', 'here', 'there', 'when', 'where', 'why', 'how', 'all', 'any', 'both', 'each', 'few', 'more', 'most', 'other', 'some', 'such', 'no', 'nor', 'not', 'only', 'own', 'same', 'so', 'than', 'too', 'very', 's', 't', 'can', 'will', 'just', 'don', \"don't\", 'should', \"should've\", 'now', 'd', 'll', 'm', 'o', 're', 've', 'y', 'ain', 'aren', \"aren't\", 'couldn', \"couldn't\", 'didn', \"didn't\", 'doesn', \"doesn't\", 'hadn', \"hadn't\", 'hasn', \"hasn't\", 'haven', \"haven't\", 'isn', \"isn't\", 'ma', 'mightn', \"mightn't\", 'mustn', \"mustn't\", 'needn', \"needn't\", 'shan', \"shan't\", 'shouldn', \"shouldn't\", 'wasn', \"wasn't\", 'weren', \"weren't\", 'won', \"won't\", 'wouldn', \"wouldn't\"]\n"
     ]
    }
   ],
   "source": [
    "import nltk\n",
    "#build our stopwords by download the english stopwords from nltk\n",
    "nltk.download('stopwords')\n",
    "from nltk.corpus import stopwords\n",
    "nltk_stopwords = stopwords.words('english')\n",
    "print('ntlk stopwords:',nltk_stopwords)\n",
    "user_stopwords =[\"the\",\"and\",\"i\"]\n",
    "stopwords = user_stopwords + nltk_stopwords\n",
    "print(\"ours built stopwords\", stopwords)"
   ]
  },
  {
   "cell_type": "code",
   "execution_count": 46,
   "metadata": {
    "colab": {
     "base_uri": "https://localhost:8080/",
     "height": 107
    },
    "colab_type": "code",
    "id": "qSoJXPQc8t0u",
    "outputId": "e23a63df-b436-407d-c01d-a6d089589d5a"
   },
   "outputs": [
    {
     "name": "stdout",
     "output_type": "stream",
     "text": [
      "[nltk_data] Downloading package punkt to /root/nltk_data...\n",
      "[nltk_data]   Package punkt is already up-to-date!\n",
      "['tragedie', 'hamlet', 'william', 'shakespeare', '1599', 'actus', 'primus', 'scoena', 'prima', 'enter', 'barnardo', 'francisco', 'two', 'centinels', 'barnardo', 'fran', 'nay', 'answer', 'stand', 'vnfold', 'selfe', 'bar', 'long', 'liue', 'king', 'fran', 'barnardo', 'bar', 'fran', 'come', 'carefully', 'vpon', 'houre', 'bar', 'strook', 'twelue', 'get', 'thee', 'bed', 'francisco', 'fran', 'releefe', 'much', 'thankes', 'bitter', 'cold', 'sicke', 'heart', 'barn', 'haue', 'quiet', 'guard', 'fran', 'mouse', 'stirring', 'barn', 'well', 'goodnight', 'meet', 'horatio', 'marcellus', 'riuals', 'watch', 'bid', 'make', 'hast', 'enter', 'horatio', 'marcellus', 'fran', 'thinke', 'heare', 'stand', 'hor', 'friends', 'ground', 'mar', 'dane', 'fran', 'giue', 'good', 'night', 'mar', 'farwel', 'honest', 'soldier', 'hath', 'relieu', 'fra', 'barnardo', 'ha', 'place', 'giue', 'goodnight', 'exit', 'fran', 'mar', 'holla', 'barnardo', 'bar', 'say', 'horatio', 'hor', 'peece', 'bar', 'welcome', 'horatio', 'welcome', 'good', 'marcellus', 'mar', 'ha', 'thing', 'appear', 'againe', 'night', 'bar', 'haue', 'seene', 'nothing', 'mar', 'horatio', 'saies', 'fantasie', 'let', 'beleefe', 'take', 'hold', 'touching', 'dreaded', 'sight', 'twice', 'seene', 'vs', 'therefore', 'haue', 'intreated', 'along', 'vs', 'watch', 'minutes', 'night', 'againe', 'apparition', 'come', 'may', 'approue', 'eyes', 'speake', 'hor', 'tush', 'tush', 'appeare', 'bar', 'sit', 'downe', 'let', 'vs', 'againe', 'assaile', 'eares', 'fortified', 'story', 'two', 'nights', 'haue', 'seene', 'hor', 'well', 'sit', 'downe', 'let', 'vs', 'heare', 'barnardo', 'speake', 'barn', 'last', 'night', 'yond', 'starre', 'westward', 'pole', 'made', 'course', 'illume', 'part', 'heauen', 'burnes', 'marcellus', 'selfe', 'bell', 'beating', 'one', 'mar', 'peace', 'breake', 'thee', 'enter', 'ghost', 'looke', 'comes', 'againe', 'barn', 'figure', 'like', 'king', 'dead', 'mar', 'thou', 'art', 'scholler', 'speake', 'horatio', 'barn', 'lookes', 'like', 'king', 'marke', 'horatio', 'hora', 'like', 'harrowes', 'fear', 'wonder', 'barn', 'would', 'spoke', 'mar', 'question', 'horatio', 'hor', 'art', 'thou', 'time', 'night', 'together', 'faire', 'warlike', 'forme', 'maiesty', 'buried', 'denmarke', 'sometimes', 'march', 'heauen', 'charge', 'thee', 'speake', 'mar', 'offended', 'barn', 'see', 'stalkes', 'away', 'hor', 'stay', 'speake', 'speake', 'charge', 'thee', 'speake', 'exit', 'ghost', 'mar', 'gone', 'answer', 'barn', 'horatio', 'tremble', 'look', 'pale', 'something', 'fantasie', 'thinke', 'hor', 'god', 'might', 'beleeue', 'without', 'sensible', 'true', 'auouch', 'mine', 'owne', 'eyes', 'mar', 'like', 'king', 'hor', 'thou', 'art', 'thy', 'selfe', 'armour', 'th', 'ambitious', 'norwey', 'combatted', 'frown', 'angry', 'parle', 'smot', 'sledded', 'pollax', 'ice', 'strange', 'mar', 'thus', 'twice', 'iust', 'dead', 'houre', 'martiall', 'stalke', 'hath', 'gone', 'watch', 'hor', 'particular', 'thought', 'work', 'know', 'grosse', 'scope', 'opinion', 'boades', 'strange', 'erruption', 'state', 'mar', 'good', 'sit', 'downe', 'tell', 'knowes', 'strict', 'obseruant', 'watch', 'nightly', 'toyles', 'subiect', 'land', 'dayly', 'cast', 'brazon', 'cannon', 'forraigne', 'mart', 'implements', 'warre', 'impresse', 'whose', 'sore', 'taske', 'diuide', 'sunday', 'weeke', 'might', 'toward', 'sweaty', 'hast', 'doth', 'make', 'night', 'day', 'informe', 'hor', 'least', 'whisper', 'goes', 'last', 'king', 'whose', 'image', 'euen', 'appear', 'vs', 'know', 'fortinbras', 'norway', 'thereto', 'prick', 'emulate', 'pride', 'dar', 'combate', 'valiant', 'hamlet', 'side', 'knowne', 'world', 'esteem', 'slay', 'fortinbras', 'seal', 'compact', 'well', 'ratified', 'law', 'heraldrie', 'forfeite', 'life', 'lands', 'stood', 'seiz', 'conqueror', 'moity', 'competent', 'gaged', 'king', 'inheritance', 'fortinbras', 'bin', 'vanquisher', 'carriage', 'article', 'designe', 'fell', 'hamlet', 'sir', 'young', 'fortinbras', 'vnimproued', 'mettle', 'hot', 'full', 'hath', 'skirts', 'norway', 'heere', 'shark', 'vp', 'list', 'landlesse', 'resolutes', 'foode', 'diet', 'enterprize', 'hath', 'stomacke', 'doth', 'well', 'appeare', 'vnto', 'state', 'recouer', 'vs', 'strong', 'hand', 'termes', 'compulsatiue', 'foresaid', 'lands', 'father', 'lost', 'take', 'maine', 'motiue', 'preparations', 'sourse', 'watch', 'cheefe', 'head', 'romage', 'land', 'enter', 'ghost', 'againe', 'soft', 'behold', 'loe', 'comes', 'againe', 'ile', 'crosse', 'though', 'blast', 'stay', 'illusion', 'thou', 'hast', 'sound', 'vse', 'voyce', 'speake', 'good', 'thing', 'done', 'may', 'thee', 'ease', 'grace', 'speak', 'thou', 'art', 'priuy', 'thy', 'countries', 'fate', 'happily', 'foreknowing', 'may', 'auoyd', 'oh', 'speake', 'thou', 'hast', 'thy', 'life', 'extorted', 'treasure', 'wombe', 'earth', 'say', 'spirits', 'oft', 'walke', 'death', 'speake', 'stay', 'speake', 'stop', 'marcellus', 'mar', 'shall', 'strike', 'partizan', 'hor', 'stand', 'barn', 'heere', 'hor', 'heere', 'mar', 'gone', 'exit', 'ghost', 'wrong', 'maiesticall', 'offer', 'shew', 'violence', 'ayre', 'invulnerable', 'vaine', 'blowes', 'malicious', 'mockery', 'barn', 'speake', 'cocke', 'crew', 'hor', 'started', 'like', 'guilty', 'thing', 'vpon', 'fearfull', 'summons', 'haue', 'heard', 'cocke', 'trumpet', 'day', 'doth', 'lofty', 'throate', 'awake', 'god', 'day', 'warning', 'whether', 'sea', 'fire', 'earth', 'ayre', 'th', 'extrauagant', 'erring', 'spirit', 'hyes', 'confine', 'truth', 'heerein', 'present', 'obiect', 'made', 'probation', 'mar', 'faded', 'crowing', 'cocke', 'sayes', 'euer', 'season', 'comes', 'wherein', 'sauiours', 'birch', 'celebrated', 'bird', 'dawning', 'singeth', 'night', 'long', 'say', 'spirit', 'walke', 'abroad', 'nights', 'wholsome', 'planets', 'strike', 'faiery', 'talkes', 'witch', 'hath', 'power', 'charme', 'hallow', 'gracious', 'time', 'hor', 'haue', 'heard', 'part', 'beleeue', 'looke', 'morne', 'russet', 'mantle', 'clad', 'walkes', 'dew', 'yon', 'high', 'easterne', 'hill', 'breake', 'watch', 'vp', 'aduice', 'let', 'vs', 'impart', 'haue', 'seene', 'night', 'vnto', 'yong', 'hamlet', 'vpon', 'life', 'spirit', 'dumbe', 'vs', 'speake', 'consent', 'shall', 'acquaint', 'needfull', 'loues', 'fitting', 'duty', 'mar', 'let', 'pray', 'morning', 'know', 'shall', 'finde', 'conueniently', 'exeunt', 'scena', 'secunda', 'enter', 'claudius', 'king', 'denmarke', 'gertrude', 'queene', 'hamlet', 'polonius', 'laertes', 'sister', 'ophelia', 'lords', 'attendant', 'king', 'though', 'yet', 'hamlet', 'deere', 'brothers', 'death', 'memory', 'greene', 'vs', 'befitted', 'beare', 'hearts', 'greefe', 'whole', 'kingdome', 'contracted', 'one', 'brow', 'woe', 'yet', 'farre', 'hath', 'discretion', 'fought', 'nature', 'wisest', 'sorrow', 'thinke', 'together', 'remembrance', 'selues', 'therefore', 'sometimes', 'sister', 'queene', 'th', 'imperiall', 'ioyntresse', 'warlike', 'state', 'haue', 'defeated', 'ioy', 'one', 'auspicious', 'one', 'dropping', 'eye', 'mirth', 'funerall', 'dirge', 'marriage', 'equall', 'scale', 'weighing', 'delight', 'dole', 'taken', 'wife', 'haue', 'heerein', 'better', 'wisedomes', 'haue', 'freely', 'gone', 'affaire', 'along', 'thankes', 'followes', 'know', 'young', 'fortinbras', 'holding', 'weake', 'supposall', 'worth', 'thinking', 'late', 'deere', 'brothers', 'death', 'state', 'disioynt', 'frame', 'colleagued', 'dreame', 'aduantage', 'hath', 'fayl', 'pester', 'vs', 'message', 'importing', 'surrender', 'lands', 'lost', 'father', 'bonds', 'law', 'valiant', 'brother', 'much', 'enter', 'voltemand', 'cornelius', 'selfe', 'time', 'meeting', 'thus', 'much', 'businesse', 'haue', 'heere', 'writ', 'norway', 'vncle', 'young', 'fortinbras', 'impotent', 'bedrid', 'scarsely', 'heares', 'nephewes', 'purpose', 'suppresse', 'gate', 'heerein', 'leuies', 'lists', 'full', 'proportions', 'made', 'subiect', 'heere', 'dispatch', 'good', 'cornelius', 'voltemand', 'bearing', 'greeting', 'old', 'norway', 'giuing', 'personall', 'power', 'businesse', 'king', 'scope', 'dilated', 'articles', 'allow', 'farewell', 'let', 'hast', 'commend', 'duty', 'volt', 'things', 'shew', 'duty', 'king', 'doubt', 'nothing', 'heartily', 'farewell', 'exit', 'voltemand', 'cornelius', 'laertes', 'newes', 'told', 'vs', 'suite', 'laertes', 'speake', 'reason', 'dane', 'loose', 'voyce', 'thou', 'beg', 'laertes', 'shall', 'offer', 'thy', 'asking', 'head', 'natiue', 'heart', 'hand', 'instrumentall', 'mouth', 'throne', 'denmarke', 'thy', 'father', 'thou', 'haue', 'laertes', 'laer', 'dread', 'lord', 'leaue', 'fauour', 'returne', 'france', 'whence', 'though', 'willingly', 'came', 'denmarke', 'shew', 'duty', 'coronation', 'yet', 'must', 'confesse', 'duty', 'done', 'thoughts', 'wishes', 'bend', 'againe', 'towards', 'france', 'bow', 'gracious', 'leaue', 'pardon', 'king', 'haue', 'fathers', 'leaue', 'sayes', 'pollonius', 'pol', 'hath', 'lord', 'beseech', 'giue', 'leaue', 'go', 'king', 'take', 'thy', 'faire', 'houre', 'laertes', 'time', 'thine', 'thy', 'best', 'graces', 'spend', 'thy', 'cosin', 'hamlet', 'sonne', 'ham', 'little', 'kin', 'lesse', 'kinde', 'king', 'clouds', 'still', 'hang', 'ham', 'lord', 'much', 'sun', 'queen', 'good', 'hamlet', 'cast', 'thy', 'nightly', 'colour', 'let', 'thine', 'eye', 'looke', 'like', 'friend', 'denmarke', 'euer', 'thy', 'veyled', 'lids', 'seeke', 'thy', 'noble', 'father', 'dust', 'thou', 'common', 'liues', 'must', 'dye', 'passing', 'nature', 'eternity', 'ham', 'madam', 'common', 'queen', 'seemes', 'particular', 'thee', 'ham', 'seemes', 'madam', 'nay', 'know', 'seemes', 'alone', 'inky', 'cloake', 'good', 'mother', 'customary', 'suites', 'solemne', 'blacke', 'windy', 'suspiration', 'forc', 'breath', 'fruitfull', 'riuer', 'eye', 'deiected', 'hauiour', 'visage', 'together', 'formes', 'moods', 'shewes', 'griefe', 'denote', 'truly', 'indeed', 'seeme', 'actions', 'man', 'might', 'play', 'haue', 'within', 'passeth', 'show', 'trappings', 'suites', 'woe', 'king', 'sweet', 'commendable', 'nature', 'hamlet', 'giue', 'mourning', 'duties', 'father', 'must', 'know', 'father', 'lost', 'father', 'father', 'lost', 'lost', 'suruiuer', 'bound', 'filiall', 'obligation', 'terme', 'obsequious', 'sorrow', 'perseuer', 'obstinate', 'condolement', 'course', 'impious', 'stubbornnesse', 'vnmanly', 'greefe', 'shewes', 'incorrect', 'heauen', 'heart', 'vnfortified', 'minde', 'impatient', 'vnderstanding', 'simple', 'vnschool', 'know', 'must', 'common', 'vulgar', 'thing', 'sence', 'peeuish', 'opposition', 'take', 'heart', 'fye', 'fault', 'heauen', 'fault', 'dead', 'fault', 'nature', 'reason', 'absurd', 'whose', 'common', 'theame', 'death', 'fathers', 'still', 'hath', 'cried', 'first', 'coarse', 'till', 'dyed', 'day', 'must', 'pray', 'throw', 'earth', 'vnpreuayling', 'woe', 'thinke', 'vs', 'father', 'let', 'world', 'take', 'note', 'immediate', 'throne', 'lesse', 'nobility', 'loue', 'deerest', 'father', 'beares', 'sonne', 'impart', 'towards', 'intent', 'going', 'backe', 'schoole', 'wittenberg', 'retrograde', 'desire', 'beseech', 'bend', 'remaine', 'heere', 'cheere', 'comfort', 'eye', 'cheefest', 'courtier', 'cosin', 'sonne', 'qu', 'let', 'thy', 'mother', 'lose', 'prayers', 'hamlet', 'prythee', 'stay', 'vs', 'go', 'wittenberg', 'ham', 'shall', 'best', 'obey', 'madam', 'king', 'louing', 'faire', 'reply', 'selfe', 'denmarke', 'madam', 'come', 'gentle', 'vnforc', 'accord', 'hamlet', 'sits', 'smiling', 'heart', 'grace', 'whereof', 'iocond', 'health', 'denmarke', 'drinkes', 'day', 'great', 'cannon', 'clowds', 'shall', 'tell', 'kings', 'rouce', 'heauens', 'shall', 'bruite', 'againe', 'respeaking', 'earthly', 'thunder', 'come', 'away', 'exeunt', 'manet', 'hamlet', 'ham', 'oh', 'solid', 'flesh', 'would', 'melt', 'thaw', 'resolue', 'selfe', 'dew', 'euerlasting', 'fixt', 'cannon', 'god', 'god', 'weary', 'stale', 'flat', 'vnprofitable', 'seemes', 'vses', 'world', 'fie', 'oh', 'fie', 'fie', 'vnweeded', 'garden', 'growes', 'seed', 'things', 'rank', 'grosse', 'nature', 'possesse', 'meerely', 'come', 'two', 'months', 'dead', 'nay', 'much', 'two', 'excellent', 'king', 'hiperion', 'satyre', 'louing', 'mother', 'might', 'beteene', 'windes', 'heauen', 'visit', 'face', 'roughly', 'heauen', 'earth', 'must', 'remember', 'would', 'hang', 'encrease', 'appetite', 'growne', 'fed', 'yet', 'within', 'month', 'let', 'thinke', 'frailty', 'thy', 'name', 'woman', 'little', 'month', 'ere', 'shooes', 'old', 'followed', 'poore', 'fathers', 'body', 'like', 'niobe', 'teares', 'euen', 'heauen', 'beast', 'wants', 'discourse', 'reason', 'would', 'haue', 'mourn', 'longer', 'married', 'mine', 'vnkle', 'fathers', 'brother', 'like', 'father', 'hercules', 'within', 'moneth', 'ere', 'yet', 'salt', 'vnrighteous', 'teares', 'left', 'flushing', 'gauled', 'eyes', 'married', 'wicked', 'speed', 'post', 'dexterity', 'incestuous', 'sheets', 'come', 'good', 'breake', 'heart', 'must', 'hold', 'tongue', 'enter', 'horatio', 'barnardo', 'marcellus', 'hor', 'haile', 'lordship', 'ham', 'glad', 'see', 'well', 'horatio', 'forget', 'selfe', 'hor', 'lord', 'poore', 'seruant', 'euer', 'ham', 'sir', 'good', 'friend', 'ile', 'change', 'name', 'make', 'wittenberg', 'horatio', 'marcellus', 'mar', 'good', 'lord', 'ham', 'glad', 'see', 'good', 'euen', 'sir', 'faith', 'make', 'wittemberge', 'hor', 'truant', 'disposition', 'good', 'lord', 'ham', 'would', 'haue', 'enemy', 'say', 'shall', 'doe', 'mine', 'eare', 'violence', 'make', 'truster', 'owne', 'report', 'selfe', 'know', 'truant', 'affaire', 'elsenour', 'teach', 'drinke', 'deepe', 'ere', 'depart', 'hor', 'lord', 'came', 'see', 'fathers', 'funerall', 'ham', 'pray', 'thee', 'doe', 'mock', 'fellow', 'student', 'thinke', 'see', 'mothers', 'wedding', 'hor', 'indeed', 'lord', 'followed', 'hard', 'vpon', 'ham', 'thrift', 'thrift', 'horatio', 'funerall', 'coldly', 'furnish', 'forth', 'marriage', 'tables', 'would', 'met', 'dearest', 'foe', 'heauen', 'ere', 'euer', 'seene', 'day', 'horatio', 'father', 'thinkes', 'see', 'father', 'hor', 'oh', 'lord', 'ham', 'minds', 'eye', 'horatio', 'hor', 'saw', 'goodly', 'king', 'ham', 'man', 'take', 'shall', 'look', 'vpon', 'like', 'againe', 'hor', 'lord', 'thinke', 'saw', 'yesternight', 'ham', 'saw', 'hor', 'lord', 'king', 'father', 'ham', 'king', 'father', 'hor', 'season', 'admiration', 'attent', 'eare', 'till', 'may', 'deliuer', 'vpon', 'witnesse', 'gentlemen', 'maruell', 'ham', 'heauens', 'loue', 'let', 'heare', 'hor', 'two', 'nights', 'together', 'gentlemen', 'marcellus', 'barnardo', 'watch', 'dead', 'wast', 'middle', 'night', 'beene', 'thus', 'encountred', 'figure', 'like', 'father', 'arm', 'points', 'exactly', 'cap', 'pe', 'appeares', 'sollemne', 'march', 'goes', 'slow', 'stately', 'thrice', 'walkt', 'opprest', 'eyes', 'within', 'truncheons', 'length', 'whilst', 'almost', 'ielly', 'act', 'feare', 'stand', 'dumbe', 'speake', 'dreadfull', 'secrecie', 'impart', 'third', 'night', 'kept', 'watch', 'whereas', 'deliuer', 'time', 'forme', 'thing', 'word', 'made', 'true', 'good', 'apparition', 'comes', 'knew', 'father', 'hands', 'like', 'ham', 'mar', 'lord', 'vpon', 'platforme', 'watcht', 'ham', 'speake', 'hor', 'lord', 'answere', 'made', 'none', 'yet', 'thought', 'lifted', 'vp', 'head', 'addresse', 'selfe', 'motion', 'like', 'would', 'speake', 'euen', 'morning', 'cocke', 'crew', 'lowd', 'sound', 'shrunke', 'hast', 'away', 'vanisht', 'sight', 'ham', 'tis', 'strange', 'hor', 'doe', 'liue', 'honourd', 'lord', 'true', 'thinke', 'writ', 'downe', 'duty', 'let', 'know', 'ham', 'indeed', 'indeed', 'sirs', 'troubles', 'hold', 'watch', 'night', 'doe', 'lord', 'ham', 'arm', 'say', 'arm', 'lord', 'ham', 'top', 'toe', 'lord', 'head', 'foote', 'ham', 'saw', 'face', 'hor', 'yes', 'lord', 'wore', 'beauer', 'vp', 'ham', 'lookt', 'frowningly', 'hor', 'countenance', 'sorrow', 'anger', 'ham', 'pale', 'red', 'hor', 'nay', 'pale', 'ham', 'fixt', 'eyes', 'vpon', 'hor', 'constantly', 'ham', 'would', 'beene', 'hor', 'would', 'haue', 'much', 'amaz', 'ham', 'like', 'like', 'staid', 'long', 'hor', 'one', 'moderate', 'hast', 'might', 'tell', 'hundred', 'longer', 'longer', 'hor', 'ham', 'beard', 'grisly', 'hor', 'haue', 'seene', 'life', 'sable', 'ham', 'ile', 'watch', 'night', 'perchance', 'wake', 'againe', 'hor', 'warrant', 'ham', 'assume', 'noble', 'fathers', 'person', 'ile', 'speake', 'though', 'hell', 'selfe', 'gape', 'bid', 'hold', 'peace', 'pray', 'haue', 'hitherto', 'conceald', 'sight', 'let', 'bee', 'treble', 'silence', 'still', 'whatsoeuer', 'els', 'shall', 'hap', 'night', 'giue', 'vnderstanding', 'tongue', 'requite', 'loues', 'fare', 'ye', 'well', 'vpon', 'platforme', 'twixt', 'eleuen', 'twelue', 'ile', 'visit', 'duty', 'honour', 'exeunt', 'ham', 'loue', 'mine', 'farewell', 'fathers', 'spirit', 'armes', 'well', 'doubt', 'foule', 'play', 'would', 'night', 'come', 'till', 'sit', 'still', 'soule', 'foule', 'deeds', 'rise', 'though', 'earth', 'orewhelm', 'mens', 'eies', 'enter', 'scena', 'tertia', 'enter', 'laertes', 'ophelia', 'laer', 'necessaries', 'farewell', 'sister', 'winds', 'giue', 'benefit', 'conuoy', 'assistant', 'doe', 'sleepe', 'let', 'heare', 'ophel', 'doe', 'doubt', 'laer', 'hamlet', 'trifling', 'fauours', 'hold', 'fashion', 'toy', 'bloude', 'violet', 'youth', 'primy', 'nature', 'froward', 'permanent', 'sweet', 'lasting', 'suppliance', 'minute', 'ophel', 'laer', 'thinke', 'nature', 'cressant', 'grow', 'alone', 'thewes', 'bulke', 'temple', 'waxes', 'inward', 'seruice', 'minde', 'soule', 'growes', 'wide', 'withall', 'perhaps', 'loues', 'soyle', 'cautell', 'doth', 'besmerch', 'vertue', 'feare', 'must', 'feare', 'greatnesse', 'weigh', 'owne', 'hee', 'himselfe', 'subiect', 'birth', 'hee', 'may', 'vnuallued', 'persons', 'doe', 'carue', 'himselfe', 'choyce', 'depends', 'sanctity', 'health', 'whole', 'state', 'therefore', 'must', 'choyce', 'vnto', 'voyce', 'yeelding', 'body', 'whereof', 'head', 'sayes', 'loues', 'fits', 'wisedome', 'farre', 'beleeue', 'peculiar', 'sect', 'force', 'may', 'giue', 'saying', 'deed', 'maine', 'voyce', 'denmarke', 'goes', 'withall', 'weight', 'losse', 'honour', 'may', 'sustaine', 'credent', 'eare', 'list', 'songs', 'lose', 'heart', 'chast', 'treasure', 'open', 'vnmastred', 'importunity', 'feare', 'ophelia', 'feare', 'deare', 'sister', 'keepe', 'within', 'reare', 'affection', 'shot', 'danger', 'desire', 'chariest', 'maid', 'prodigall', 'enough', 'vnmaske', 'beauty', 'moone', 'vertue', 'selfe', 'scapes', 'calumnious', 'stroakes', 'canker', 'galls', 'infants', 'spring', 'oft', 'buttons', 'disclos', 'morne', 'liquid', 'dew', 'youth', 'contagious', 'blastments', 'imminent', 'wary', 'best', 'safety', 'lies', 'feare', 'youth', 'selfe', 'rebels', 'though', 'none', 'else', 'neere', 'ophe', 'shall', 'th', 'effect', 'good', 'lesson', 'keepe', 'watchmen', 'heart', 'good', 'brother', 'doe', 'vngracious', 'pastors', 'doe', 'shew', 'steepe', 'thorny', 'way', 'heauen', 'whilst', 'like', 'puft', 'recklesse', 'libertine', 'himselfe', 'primrose', 'path', 'dalliance', 'treads', 'reaks', 'owne', 'reade', 'laer', 'oh', 'feare', 'enter', 'polonius', 'stay', 'long', 'father', 'comes', 'double', 'blessing', 'double', 'grace', 'occasion', 'smiles', 'vpon', 'second', 'leaue', 'polon', 'yet', 'heere', 'laertes', 'aboord', 'aboord', 'shame', 'winde', 'sits', 'shoulder', 'saile', 'staid', 'blessing', 'precepts', 'thy', 'memory', 'see', 'thou', 'character', 'giue', 'thy', 'thoughts', 'tongue', 'vnproportion', 'thoughts', 'act', 'thou', 'familiar', 'meanes', 'vulgar', 'friends', 'thou', 'hast', 'adoption', 'tride', 'grapple', 'thy', 'soule', 'hoopes', 'steele', 'doe', 'dull', 'thy', 'palme', 'entertainment', 'vnfledg', 'comrade', 'beware', 'entrance', 'quarrell', 'th', 'opposed', 'may', 'beware', 'thee', 'giue', 'euery', 'man', 'thine', 'eare', 'thy', 'voyce', 'take', 'mans', 'censure', 'reserue', 'thy', 'iudgement', 'costly', 'thy', 'habit', 'thy', 'purse', 'buy', 'exprest', 'fancie', 'rich', 'gawdie', 'apparell', 'oft', 'proclaimes', 'man', 'france', 'best', 'ranck', 'station', 'select', 'generous', 'cheff', 'neither', 'borrower', 'lender', 'lone', 'oft', 'loses', 'selfe', 'friend', 'borrowing', 'duls', 'edge', 'husbandry', 'aboue', 'thine', 'owne', 'selfe', 'true', 'must', 'follow', 'night', 'day', 'thou', 'canst', 'false', 'man', 'farewell', 'blessing', 'season', 'thee', 'laer', 'humbly', 'doe', 'take', 'leaue', 'lord', 'polon', 'time', 'inuites', 'goe', 'seruants', 'tend', 'laer', 'farewell', 'ophelia', 'remember', 'well', 'haue', 'said', 'ophe', 'tis', 'memory', 'lockt', 'selfe', 'shall', 'keepe', 'key', 'laer', 'farewell', 'exit', 'laer', 'polon', 'ist', 'ophelia', 'hath', 'said', 'ophe', 'please', 'somthing', 'touching', 'l', 'ord', 'hamlet', 'polon', 'marry', 'well', 'bethought', 'tis', 'told', 'hath', 'oft', 'late', 'giuen', 'priuate', 'time', 'selfe', 'haue', 'audience', 'beene', 'free', 'bounteous', 'tis', 'put', 'way', 'caution', 'must', 'tell', 'doe', 'vnderstand', 'selfe', 'cleerely', 'behoues', 'daughter', 'honour', 'betweene', 'giue', 'vp', 'truth', 'ophe', 'hath', 'lord', 'late', 'made', 'many', 'tenders', 'affection', 'polon', 'affection', 'puh', 'speake', 'like', 'greene', 'girle', 'vnsifted', 'perillous', 'circumstance', 'doe', 'beleeue', 'tenders', 'call', 'ophe', 'know', 'lord', 'thinke', 'polon', 'marry', 'ile', 'teach', 'thinke', 'selfe', 'baby', 'haue', 'tane', 'tenders', 'true', 'pay', 'starling', 'tender', 'selfe', 'dearly', 'crack', 'winde', 'poore', 'phrase', 'roaming', 'thus', 'tender', 'foole', 'ophe', 'lord', 'hath', 'importun', 'loue', 'honourable', 'fashion', 'polon', 'fashion', 'may', 'call', 'go', 'go', 'ophe', 'hath', 'giuen', 'countenance', 'speech', 'lord', 'vowes', 'heauen', 'polon', 'springes', 'catch', 'woodcocks', 'doe', 'know', 'bloud', 'burnes', 'prodigall', 'soule', 'giues', 'tongue', 'vowes', 'blazes', 'daughter', 'giuing', 'light', 'heate', 'extinct', 'euen', 'promise', 'making', 'must', 'take', 'fire', 'time', 'daughter', 'somewhat', 'scanter', 'maiden', 'presence', 'set', 'entreatments', 'higher', 'rate', 'command', 'parley', 'lord', 'hamlet', 'beleeue', 'much', 'young', 'larger', 'tether', 'may', 'walke', 'may', 'giuen', 'ophelia', 'doe', 'beleeue', 'vowes', 'broakers', 'eye', 'inuestments', 'show', 'meere', 'implorators', 'vnholy', 'sutes', 'breathing', 'like', 'sanctified', 'pious', 'bonds', 'better', 'beguile', 'would', 'plaine', 'tearmes', 'time', 'forth', 'haue', 'slander', 'moment', 'leisure', 'giue', 'words', 'talke', 'lord', 'hamlet', 'looke', 'charge', 'come', 'wayes', 'ophe', 'shall', 'obey', 'lord', 'exeunt', 'enter', 'hamlet', 'horatio', 'marcellus', 'ham', 'ayre', 'bites', 'shrewdly', 'cold', 'hor', 'nipping', 'eager', 'ayre', 'ham', 'hower', 'hor', 'thinke', 'lacks', 'twelue', 'mar', 'strooke', 'hor', 'indeed', 'heard', 'drawes', 'neere', 'season', 'wherein', 'spirit', 'held', 'wont', 'walke', 'meane', 'lord', 'ham', 'king', 'doth', 'wake', 'night', 'takes', 'rouse', 'keepes', 'wassels', 'swaggering', 'vpspring', 'reeles', 'dreines', 'draughts', 'renish', 'downe', 'kettle', 'drum', 'trumpet', 'thus', 'bray', 'triumph', 'pledge', 'horat', 'custome', 'ham', 'marry', 'ist', 'mind', 'though', 'natiue', 'heere', 'manner', 'borne', 'custome', 'honour', 'breach', 'obseruance', 'enter', 'ghost', 'hor', 'looke', 'lord', 'comes', 'ham', 'angels', 'ministers', 'grace', 'defend', 'vs', 'thou', 'spirit', 'health', 'goblin', 'damn', 'bring', 'thee', 'ayres', 'heauen', 'blasts', 'hell', 'thy', 'euents', 'wicked', 'charitable', 'thou', 'questionable', 'shape', 'speake', 'thee', 'ile', 'call', 'thee', 'hamlet', 'king', 'father', 'royall', 'dane', 'oh', 'oh', 'answer', 'let', 'burst', 'ignorance', 'tell', 'thy', 'canoniz', 'bones', 'hearsed', 'death', 'haue', 'burst', 'cerments', 'sepulcher', 'wherein', 'saw', 'thee', 'quietly', 'enurn', 'hath', 'op', 'ponderous', 'marble', 'iawes', 'cast', 'thee', 'vp', 'againe', 'may', 'meane', 'thou', 'dead', 'coarse', 'againe', 'compleat', 'steele', 'reuisits', 'thus', 'glimpses', 'moone', 'making', 'night', 'hidious', 'fooles', 'nature', 'horridly', 'shake', 'disposition', 'thoughts', 'beyond', 'thee', 'reaches', 'soules', 'say', 'wherefore', 'doe', 'ghost', 'beckens', 'hamlet', 'hor', 'beckons', 'goe', 'away', 'impartment', 'desire', 'alone', 'mar', 'looke', 'courteous', 'action', 'wafts', 'remoued', 'ground', 'doe', 'goe', 'hor', 'meanes', 'ham', 'speake', 'follow', 'hor', 'doe', 'lord', 'ham', 'feare', 'doe', 'set', 'life', 'pins', 'fee', 'soule', 'doe', 'thing', 'immortall', 'selfe', 'waues', 'forth', 'againe', 'ile', 'follow', 'hor', 'tempt', 'toward', 'floud', 'lord', 'dreadfull', 'sonnet', 'cliffe', 'beetles', 'base', 'sea', 'assumes', 'horrible', 'forme', 'might', 'depriue', 'soueraignty', 'reason', 'draw', 'madnesse', 'thinke', 'ham', 'wafts', 'still', 'goe', 'ile', 'follow', 'thee', 'mar', 'shall', 'goe', 'lord', 'ham', 'hold', 'hand', 'hor', 'rul', 'shall', 'goe', 'ham', 'fate', 'cries', 'makes', 'petty', 'artire', 'body', 'hardy', 'nemian', 'lions', 'nerue', 'still', 'cal', 'vnhand', 'gentlemen', 'ile', 'make', 'ghost', 'lets', 'say', 'away', 'goe', 'ile', 'follow', 'thee', 'exeunt', 'ghost', 'hamlet', 'hor', 'waxes', 'desperate', 'imagination', 'mar', 'let', 'follow', 'fit', 'thus', 'obey', 'hor', 'haue', 'issue', 'come', 'mar', 'something', 'rotten', 'state', 'denmarke', 'hor', 'heauen', 'direct', 'mar', 'nay', 'let', 'follow', 'exeunt', 'enter', 'ghost', 'hamlet', 'ham', 'wilt', 'thou', 'lead', 'speak', 'ile', 'go', 'gho', 'marke', 'ham', 'gho', 'hower', 'almost', 'come', 'sulphurous', 'tormenting', 'flames', 'must', 'render', 'vp', 'selfe', 'ham', 'alas', 'poore', 'ghost', 'gho', 'pitty', 'lend', 'thy', 'serious', 'hearing', 'shall', 'vnfold', 'ham', 'speake', 'bound', 'heare', 'gho', 'art', 'thou', 'reuenge', 'thou', 'shalt', 'heare', 'ham', 'gho', 'thy', 'fathers', 'spirit', 'doom', 'certaine', 'terme', 'walke', 'night', 'day', 'confin', 'fast', 'fiers', 'till', 'foule', 'crimes', 'done', 'dayes', 'nature', 'burnt', 'purg', 'away', 'forbid', 'tell', 'secrets', 'could', 'tale', 'vnfold', 'whose', 'lightest', 'word', 'would', 'harrow', 'vp', 'thy', 'soule', 'freeze', 'thy', 'young', 'blood', 'make', 'thy', 'two', 'eyes', 'like', 'starres', 'start', 'spheres', 'thy', 'knotty', 'combined', 'lockes', 'part', 'particular', 'haire', 'stand', 'end', 'like', 'quilles', 'vpon', 'fretfull', 'porpentine', 'eternall', 'blason', 'must', 'eares', 'flesh', 'bloud', 'list', 'hamlet', 'oh', 'list', 'thou', 'didst', 'euer', 'thy', 'deare', 'father', 'loue', 'ham', 'oh', 'heauen', 'gho', 'reuenge', 'foule', 'vnnaturall', 'murther', 'ham', 'murther', 'ghost', 'murther', 'foule', 'best', 'foule', 'strange', 'vnnaturall', 'ham', 'hast', 'hast', 'know', 'wings', 'swift', 'meditation', 'thoughts', 'loue', 'may', 'sweepe', 'reuenge', 'ghost', 'finde', 'thee', 'apt', 'duller', 'thou', 'fat', 'weede', 'rots', 'selfe', 'ease', 'lethe', 'wharfe', 'thou', 'stirre', 'hamlet', 'heare', 'giuen', 'sleeping', 'mine', 'orchard', 'serpent', 'stung', 'whole', 'eare', 'denmarke', 'forged', 'processe', 'death', 'rankly', 'abus', 'know', 'thou', 'noble', 'youth', 'serpent', 'sting', 'thy', 'fathers', 'life', 'weares', 'crowne', 'ham', 'propheticke', 'soule', 'mine', 'vncle', 'ghost', 'incestuous', 'adulterate', 'beast', 'witchcraft', 'wits', 'hath', 'traitorous', 'guifts', 'oh', 'wicked', 'wit', 'gifts', 'haue', 'power', 'seduce', 'shamefull', 'lust', 'seeming', 'vertuous', 'queene', 'oh', 'hamlet', 'falling', 'whose', 'loue', 'dignity', 'went', 'hand', 'hand', 'euen', 'vow', 'made', 'marriage', 'decline', 'vpon', 'wretch', 'whose', 'naturall', 'gifts', 'poore', 'mine', 'vertue', 'neuer', 'wil', 'moued', 'though', 'lewdnesse', 'court', 'shape', 'heauen', 'lust', 'though', 'radiant', 'angell', 'link', 'sate', 'selfe', 'celestiall', 'bed', 'prey', 'garbage', 'soft', 'thinkes', 'sent', 'mornings', 'ayre', 'briefe', 'let', 'sleeping', 'within', 'mine', 'orchard', 'custome', 'alwayes', 'afternoone', 'vpon', 'secure', 'hower', 'thy', 'vncle', 'stole', 'iuyce', 'cursed', 'hebenon', 'violl', 'porches', 'mine', 'eares', 'poure', 'leaperous', 'distilment', 'whose', 'effect', 'holds', 'enmity', 'bloud', 'man', 'swift', 'courses', 'naturall', 'gates', 'allies', 'body', 'sodaine', 'vigour', 'doth', 'posset', 'curd', 'like', 'aygre', 'droppings', 'milke', 'thin', 'wholsome', 'blood', 'mine', 'instant', 'tetter', 'bak', 'vile', 'loathsome', 'crust', 'smooth', 'body', 'thus', 'sleeping', 'brothers', 'hand', 'life', 'crowne', 'queene', 'dispatcht', 'cut', 'euen', 'blossomes', 'sinne', 'vnhouzzled', 'disappointed', 'vnnaneld', 'reckoning', 'made', 'sent', 'account', 'imperfections', 'head', 'oh', 'horrible', 'oh', 'horrible', 'horrible', 'thou', 'hast', 'nature', 'thee', 'beare', 'let', 'royall', 'bed', 'denmarke', 'couch', 'luxury', 'damned', 'incest', 'howsoeuer', 'thou', 'pursuest', 'act', 'taint', 'thy', 'mind', 'let', 'thy', 'soule', 'contriue', 'thy', 'mother', 'ought', 'leaue', 'heauen', 'thornes', 'bosome', 'lodge', 'pricke', 'sting', 'fare', 'thee', 'well', 'showes', 'matine', 'neere', 'gins', 'pale', 'vneffectuall', 'fire', 'adue', 'adue', 'hamlet', 'remember', 'enter', 'ham', 'oh', 'host', 'heauen', 'oh', 'earth', 'els', 'shall', 'couple', 'hell', 'oh', 'fie', 'hold', 'heart', 'sinnewes', 'grow', 'instant', 'old', 'beare', 'stiffely', 'vp', 'remember', 'thee', 'thou', 'poore', 'ghost', 'memory', 'holds', 'seate', 'distracted', 'globe', 'remember', 'thee', 'yea', 'table', 'memory', 'ile', 'wipe', 'away', 'triuiall', 'fond', 'records', 'sawes', 'bookes', 'formes', 'presures', 'past', 'youth', 'obseruation', 'coppied', 'thy', 'commandment', 'alone', 'shall', 'liue', 'within', 'booke', 'volume', 'braine', 'vnmixt', 'baser', 'matter', 'yes', 'yes', 'heauen', 'oh', 'pernicious', 'woman', 'oh', 'villaine', 'villaine', 'smiling', 'damned', 'villaine', 'tables', 'tables', 'meet', 'set', 'downe', 'one', 'may', 'smile', 'smile', 'villaine', 'least', 'sure', 'may', 'denmarke', 'vnckle', 'word', 'adue', 'adue', 'remember', 'haue', 'hor', 'mar', 'within', 'lord', 'lord', 'enter', 'horatio', 'marcellus', 'mar', 'lord', 'hamlet', 'hor', 'heauen', 'secure', 'mar', 'hor', 'illo', 'ho', 'ho', 'lord', 'ham', 'hillo', 'ho', 'ho', 'boy', 'come', 'bird', 'come', 'mar', 'ist', 'noble', 'lord', 'hor', 'newes', 'lord', 'ham', 'oh', 'wonderfull', 'hor', 'good', 'lord', 'tell', 'ham', 'reueale', 'hor', 'lord', 'heauen', 'mar', 'lord', 'ham', 'say', 'would', 'heart', 'man', 'think', 'secret', 'lord', 'ham', 'nere', 'villaine', 'dwelling', 'denmarke', 'hee', 'arrant', 'knaue', 'hor', 'needs', 'ghost', 'lord', 'come', 'graue', 'tell', 'vs', 'ham', 'right', 'right', 'without', 'circumstance', 'hold', 'fit', 'shake', 'hands', 'part', 'busines', 'desires', 'shall', 'point', 'euery', 'man', 'ha', 'businesse', 'desire', 'mine', 'owne', 'poore', 'part', 'looke', 'ile', 'goe', 'pray', 'hor', 'wild', 'hurling', 'words', 'lord', 'ham', 'sorry', 'offend', 'heartily', 'yes', 'faith', 'heartily', 'hor', 'offence', 'lord', 'ham', 'yes', 'saint', 'patricke', 'lord', 'much', 'offence', 'touching', 'vision', 'heere', 'honest', 'ghost', 'let', 'tell', 'desire', 'know', 'betweene', 'vs', 'may', 'good', 'friends', 'friends', 'schollers', 'soldiers', 'giue', 'one', 'poore', 'request', 'hor', 'lord', 'ham', 'neuer', 'make', 'known', 'haue', 'seen', 'night', 'lord', 'ham', 'nay', 'hor', 'infaith', 'lord', 'mar', 'lord', 'faith', 'ham', 'vpon', 'sword', 'marcell', 'haue', 'sworne', 'lord', 'already', 'ham', 'indeed', 'vpon', 'sword', 'indeed', 'gho', 'sweare', 'ghost', 'cries', 'vnder', 'stage', 'ham', 'ah', 'ha', 'boy', 'sayest', 'thou', 'art', 'thou', 'truepenny', 'come', 'one', 'fellow', 'selleredge', 'consent', 'sweare', 'hor', 'propose', 'oath', 'lord', 'ham', 'neuer', 'speake', 'haue', 'seene', 'sweare', 'sword', 'gho', 'sweare', 'ham', 'hic', 'vbique', 'shift', 'grownd', 'come', 'hither', 'gentlemen', 'lay', 'hands', 'againe', 'vpon', 'sword', 'neuer', 'speake', 'haue', 'heard', 'sweare', 'sword', 'gho', 'sweare', 'ham', 'well', 'said', 'old', 'mole', 'worke', 'ground', 'fast', 'worthy', 'pioner', 'remoue', 'good', 'friends', 'hor', 'oh', 'day', 'night', 'wondrous', 'strange', 'ham', 'therefore', 'stranger', 'giue', 'welcome', 'things', 'heauen', 'earth', 'horatio', 'philosophy', 'come', 'neuer', 'helpe', 'mercy', 'strange', 'odde', 'ere', 'beare', 'selfe', 'perchance', 'heereafter', 'shall', 'thinke', 'meet', 'put', 'anticke', 'disposition', 'time', 'seeing', 'neuer', 'shall', 'armes', 'encombred', 'thus', 'thus', 'head', 'shake', 'pronouncing', 'doubtfull', 'phrase', 'well', 'know', 'could', 'would', 'list', 'speake', 'might', 'ambiguous', 'giuing', 'note', 'know', 'ought', 'doe', 'grace', 'mercy', 'neede', 'helpe', 'sweare', 'ghost', 'sweare', 'ham', 'rest', 'rest', 'perturbed', 'spirit', 'gentlemen', 'loue', 'doe', 'commend', 'poore', 'man', 'hamlet', 'may', 'doe', 'expresse', 'loue', 'friending', 'god', 'willing', 'shall', 'lacke', 'let', 'vs', 'goe', 'together', 'still', 'fingers', 'lippes', 'pray', 'time', 'ioynt', 'oh', 'cursed', 'spight', 'euer', 'borne', 'set', 'right', 'nay', 'come', 'let', 'goe', 'together', 'exeunt', 'actus', 'secundus', 'enter', 'polonius', 'reynoldo', 'polon', 'giue', 'money', 'notes', 'reynoldo', 'reynol', 'lord', 'polon', 'shall', 'doe', 'maruels', 'wisely', 'good', 'reynoldo', 'visite', 'make', 'inquiry', 'behauiour', 'reynol', 'lord', 'intend', 'polon', 'marry', 'well', 'said', 'well', 'said', 'looke', 'sir', 'enquire', 'first', 'danskers', 'paris', 'meanes', 'keepe', 'company', 'expence', 'finding', 'encompassement', 'drift', 'question', 'doe', 'know', 'sonne', 'come', 'neerer', 'particular', 'demands', 'touch', 'take', 'distant', 'knowledge', 'thus', 'know', 'father', 'friends', 'part', 'doe', 'marke', 'reynoldo', 'reynol', 'well', 'lord', 'polon', 'part', 'may', 'say', 'well', 'hee', 'meane', 'hees', 'wilde', 'addicted', 'put', 'forgeries', 'please', 'marry', 'none', 'ranke', 'may', 'dishonour', 'take', 'heed', 'sir', 'wanton', 'wild', 'vsuall', 'slips', 'companions', 'noted', 'knowne', 'youth', 'liberty', 'reynol', 'gaming', 'lord', 'polon', 'drinking', 'fencing', 'swearing', 'quarelling', 'drabbing', 'may', 'goe', 'farre', 'reynol', 'lord', 'would', 'dishonour', 'polon', 'faith', 'may', 'season', 'charge', 'must', 'put', 'another', 'scandall', 'hee', 'open', 'incontinencie', 'meaning', 'breath', 'faults', 'quaintly', 'may', 'seeme', 'taints', 'liberty', 'flash', 'fiery', 'minde', 'sauagenes', 'vnreclaim', 'bloud', 'generall', 'assault', 'reynol', 'good', 'lord', 'polon', 'wherefore', 'doe', 'reynol', 'lord', 'would', 'know', 'polon', 'marry', 'sir', 'heere', 'drift', 'belieue', 'fetch', 'warrant', 'laying', 'slight', 'sulleyes', 'sonne', 'thing', 'little', 'soil', 'working', 'marke', 'party', 'conuerse', 'would', 'sound', 'hauing', 'euer', 'seene', 'prenominate', 'crimes', 'youth', 'breath', 'guilty', 'closes', 'consequence', 'good', 'sir', 'friend', 'gentleman', 'according', 'phrase', 'addition', 'man', 'country', 'reynol', 'good', 'lord', 'polon', 'sir', 'say', 'say', 'somthing', 'leaue', 'reynol', 'closes', 'consequence', 'friend', 'gentleman', 'polon', 'closes', 'consequence', 'marry', 'closes', 'thus', 'know', 'gentleman', 'saw', 'yesterday', 'tother', 'day', 'say', 'gaming', 'rouse', 'falling', 'tennis', 'perchance', 'saw', 'enter', 'house', 'saile', 'videlicet', 'brothell', 'forth', 'see', 'bait', 'falshood', 'takes', 'cape', 'truth', 'thus', 'doe', 'wisedome', 'reach', 'windlesses', 'assaies', 'bias', 'indirections', 'finde', 'directions', 'former', 'lecture', 'aduice', 'shall', 'sonne', 'haue', 'haue', 'reynol', 'lord', 'haue', 'polon', 'god', 'buy', 'fare', 'well', 'reynol', 'good', 'lord', 'polon', 'obserue', 'inclination', 'selfe', 'reynol', 'shall', 'lord', 'polon', 'let', 'plye', 'musicke', 'reynol', 'well', 'lord', 'enter', 'enter', 'ophelia', 'polon', 'farewell', 'ophelia', 'matter', 'ophe', 'alas', 'lord', 'haue', 'beene', 'affrighted', 'polon', 'name', 'heauen', 'ophe', 'lord', 'sowing', 'chamber', 'lord', 'hamlet', 'doublet', 'vnbrac', 'hat', 'vpon', 'head', 'stockings', 'foul', 'vngartred', 'downe', 'giued', 'anckle', 'pale', 'shirt', 'knees', 'knocking', 'looke', 'pitious', 'purport', 'loosed', 'hell', 'speake', 'horrors', 'comes', 'polon', 'mad', 'thy', 'loue', 'ophe', 'lord', 'doe', 'know', 'truly', 'feare', 'polon', 'said', 'ophe', 'tooke', 'wrist', 'held', 'hard', 'goes', 'length', 'arme', 'hand', 'thus', 'brow', 'fals', 'perusall', 'face', 'would', 'draw', 'long', 'staid', 'last', 'little', 'shaking', 'mine', 'arme', 'thrice', 'head', 'thus', 'wauing', 'vp', 'downe', 'rais', 'sigh', 'pittious', 'profound', 'seeme', 'shatter', 'bulke', 'end', 'done', 'lets', 'goe', 'head', 'ouer', 'shoulders', 'turn', 'seem', 'finde', 'way', 'without', 'eyes', 'adores', 'went', 'without', 'helpe', 'last', 'bended', 'light', 'polon', 'goe', 'goe', 'seeke', 'king', 'extasie', 'loue', 'whose', 'violent', 'property', 'foredoes', 'selfe', 'leads', 'desperate', 'vndertakings', 'oft', 'passion', 'vnder', 'heauen', 'afflict', 'natures', 'sorrie', 'haue', 'giuen', 'hard', 'words', 'late', 'ophe', 'good', 'lord', 'command', 'repell', 'letters', 'accesse', 'pol', 'hath', 'made', 'mad', 'sorrie', 'better', 'speed', 'iudgement', 'quoted', 'feare', 'trifle', 'meant', 'wracke', 'thee', 'beshrew', 'iealousie', 'seemes', 'proper', 'age', 'cast', 'beyond', 'selues', 'opinions', 'common', 'yonger', 'sort', 'lacke', 'discretion', 'come', 'go', 'king', 'must', 'knowne', 'kept', 'close', 'might', 'moue', 'greefe', 'hide', 'hate', 'vtter', 'loue', 'exeunt', 'scena', 'secunda', 'enter', 'king', 'queene', 'rosincrane', 'guildensterne', 'cum', 'alijs', 'king', 'welcome', 'deere', 'rosincrance', 'guildensterne', 'moreouer', 'much', 'long', 'see', 'neede', 'haue', 'vse', 'prouoke', 'hastie', 'sending', 'something', 'haue', 'heard', 'hamlets', 'transformation', 'call', 'since', 'th', 'exterior', 'inward', 'man', 'resembles', 'bee', 'fathers', 'death', 'thus', 'hath', 'put', 'much', 'th', 'vnderstanding', 'himselfe', 'deeme', 'intreat', 'young', 'dayes', 'brought', 'vp', 'since', 'neighbour', 'youth', 'humour', 'vouchsafe', 'rest', 'heere', 'court', 'little', 'time', 'companies', 'draw', 'pleasures', 'gather', 'much', 'occasions', 'may', 'gleane', 'open', 'lies', 'within', 'remedie', 'qu', 'good', 'gentlemen', 'hath', 'much', 'talk', 'sure', 'two', 'men', 'liuing', 'adheres', 'please', 'shew', 'vs', 'much', 'gentrie', 'good', 'expend', 'time', 'vs', 'supply', 'profit', 'hope', 'visitation', 'shall', 'receiue', 'thankes', 'fits', 'kings', 'remembrance', 'rosin', 'maiesties', 'might', 'soueraigne', 'power', 'haue', 'vs', 'put', 'dread', 'pleasures', 'command', 'entreatie', 'guil', 'obey', 'giue', 'vp', 'selues', 'full', 'bent', 'lay', 'seruices', 'freely', 'feete', 'commanded', 'king', 'thankes', 'rosincrance', 'gentle', 'guildensterne', 'qu', 'thankes', 'guildensterne', 'gentle', 'rosincrance', 'beseech', 'instantly', 'visit', 'much', 'changed', 'sonne', 'go', 'ye', 'bring', 'gentlemen', 'hamlet', 'guil', 'heauens', 'make', 'presence', 'practises', 'pleasant', 'helpfull', 'enter', 'queene', 'amen', 'enter', 'polonius', 'pol', 'th', 'ambassadors', 'norwey', 'good', 'lord', 'ioyfully', 'king', 'thou', 'still', 'hast', 'bin', 'father', 'good', 'newes', 'pol', 'haue', 'lord', 'assure', 'good', 'liege', 'hold', 'dutie', 'hold', 'soule', 'god', 'one', 'gracious', 'king', 'thinke', 'else', 'braine', 'mine', 'hunts', 'traile', 'policie', 'sure', 'haue', 'vs', 'haue', 'found', 'cause', 'hamlets', 'lunacie', 'king', 'oh', 'speake', 'long', 'heare', 'pol', 'giue', 'first', 'admittance', 'th', 'ambassadors', 'newes', 'shall', 'newes', 'great', 'feast', 'king', 'thy', 'selfe', 'grace', 'bring', 'tels', 'sweet', 'queene', 'hath', 'found', 'head', 'sourse', 'sonnes', 'distemper', 'qu', 'doubt', 'maine', 'fathers', 'death', 'marriage', 'enter', 'polonius', 'voltumand', 'cornelius', 'king', 'well', 'shall', 'sift', 'welcome', 'good', 'frends', 'say', 'voltumand', 'brother', 'norwey', 'volt', 'faire', 'returne', 'greetings', 'desires', 'vpon', 'first', 'sent', 'suppresse', 'nephewes', 'leuies', 'preparation', 'poleak', 'better', 'look', 'truly', 'found', 'highnesse', 'whereat', 'greeued', 'sicknesse', 'age', 'impotence', 'falsely', 'borne', 'hand', 'sends', 'arrests', 'fortinbras', 'breefe', 'obeyes', 'receiues', 'rebuke', 'norwey', 'fine', 'makes', 'vow', 'vnkle', 'neuer', 'giue', 'th', 'assay', 'armes', 'maiestie', 'whereon', 'old', 'norwey', 'ouercome', 'ioy', 'giues', 'three', 'thousand', 'crownes', 'annuall', 'fee', 'commission', 'imploy', 'soldiers', 'leuied', 'poleak', 'intreaty', 'heerein', 'shewne', 'might', 'please', 'giue', 'quiet', 'passe', 'dominions', 'enterprize', 'regards', 'safety', 'allowance', 'therein', 'set', 'downe', 'king', 'likes', 'vs', 'well', 'consider', 'time', 'read', 'answer', 'thinke', 'vpon', 'businesse', 'meane', 'time', 'thanke', 'labour', 'go', 'rest', 'night', 'feast', 'together', 'welcome', 'home', 'exit', 'ambass', 'pol', 'businesse', 'well', 'ended', 'liege', 'madam', 'expostulate', 'maiestie', 'dutie', 'day', 'day', 'night', 'night', 'time', 'time', 'nothing', 'waste', 'night', 'day', 'time', 'therefore', 'since', 'breuitie', 'soule', 'wit', 'tediousnesse', 'limbes', 'outward', 'flourishes', 'breefe', 'noble', 'sonne', 'mad', 'mad', 'call', 'define', 'true', 'madnesse', 'nothing', 'else', 'mad', 'let', 'go', 'qu', 'matter', 'lesse', 'art', 'pol', 'madam', 'sweare', 'vse', 'art', 'mad', 'true', 'true', 'pittie', 'pittie', 'true', 'foolish', 'figure', 'farewell', 'vse', 'art', 'mad', 'let', 'vs', 'grant', 'remaines', 'finde', 'cause', 'effect', 'rather', 'say', 'cause', 'defect', 'effect', 'defectiue', 'comes', 'cause', 'thus', 'remaines', 'remainder', 'thus', 'perpend', 'haue', 'daughter', 'haue', 'mine', 'dutie', 'obedience', 'marke', 'hath', 'giuen', 'gather', 'surmise', 'letter', 'celestiall', 'soules', 'idoll', 'beautifed', 'ophelia', 'ill', 'phrase', 'vilde', 'phrase', 'beautified', 'vilde', 'phrase', 'shall', 'heare', 'excellent', 'white', 'bosome', 'qu', 'came', 'hamlet', 'pol', 'good', 'madam', 'stay', 'awhile', 'faithfull', 'doubt', 'thou', 'starres', 'fire', 'doubt', 'sunne', 'doth', 'moue', 'doubt', 'truth', 'lier', 'neuer', 'doubt', 'loue', 'deere', 'ophelia', 'ill', 'numbers', 'haue', 'art', 'reckon', 'grones', 'loue', 'thee', 'best', 'oh', 'best', 'beleeue', 'adieu', 'thine', 'euermore', 'deere', 'lady', 'whilst', 'machine', 'hamlet', 'obedience', 'hath', 'daughter', 'shew', 'aboue', 'hath', 'soliciting', 'fell', 'time', 'meanes', 'place', 'giuen', 'mine', 'eare', 'king', 'hath', 'receiu', 'loue', 'pol', 'thinke', 'king', 'man', 'faithfull', 'honourable', 'pol', 'wold', 'faine', 'proue', 'might', 'think', 'seene', 'hot', 'loue', 'wing', 'perceiued', 'must', 'tell', 'daughter', 'told', 'might', 'deere', 'maiestie', 'queene', 'heere', 'think', 'playd', 'deske', 'giuen', 'heart', 'winking', 'mute', 'dumbe', 'look', 'vpon', 'loue', 'idle', 'sight', 'might', 'thinke', 'went', 'round', 'worke', 'yong', 'mistris', 'thus', 'bespeake', 'lord', 'hamlet', 'prince', 'thy', 'starre', 'must', 'precepts', 'gaue', 'locke', 'selfe', 'resort', 'admit', 'messengers', 'receiue', 'tokens', 'done', 'tooke', 'fruites', 'aduice', 'repulsed', 'short', 'tale', 'make', 'fell', 'sadnesse', 'fast', 'thence', 'watch', 'thence', 'weaknesse', 'thence', 'lightnesse', 'declension', 'madnesse', 'whereon', 'raues', 'waile', 'king', 'thinke', 'qu', 'may', 'likely', 'pol', 'hath', 'bene', 'time', 'fain', 'know', 'haue', 'possitiuely', 'said', 'prou', 'otherwise', 'king', 'know', 'pol', 'take', 'otherwise', 'circumstances', 'leade', 'finde', 'truth', 'hid', 'though', 'hid', 'indeede', 'within', 'center', 'king', 'may', 'try', 'pol', 'know', 'sometimes', 'walkes', 'foure', 'houres', 'together', 'heere', 'lobby', 'qu', 'ha', 'indeed', 'pol', 'time', 'ile', 'loose', 'daughter', 'behinde', 'arras', 'marke', 'encounter', 'loue', 'reason', 'falne', 'thereon', 'let', 'assistant', 'state', 'keepe', 'farme', 'carters', 'king', 'try', 'enter', 'hamlet', 'reading', 'booke', 'qu', 'looke', 'sadly', 'poore', 'wretch', 'comes', 'reading', 'pol', 'away', 'beseech', 'away', 'ile', 'boord', 'presently', 'exit', 'king', 'queen', 'oh', 'giue', 'leaue', 'good', 'lord', 'hamlet', 'ham', 'well', 'pol', 'know', 'lord', 'ham', 'excellent', 'excellent', 'well', 'fishmonger', 'pol', 'lord', 'ham', 'would', 'honest', 'man', 'pol', 'honest', 'lord', 'ham', 'sir', 'honest', 'world', 'goes', 'bee', 'one', 'man', 'pick', 'two', 'thousand', 'pol', 'true', 'lord', 'ham', 'sun', 'breed', 'magots', 'dead', 'dogge', 'good', 'kissing', 'haue', 'daughter', 'pol', 'haue', 'lord', 'ham', 'let', 'walke', 'conception', 'blessing', 'daughter', 'may', 'conceiue', 'friend', 'looke', 'pol', 'say', 'still', 'harping', 'daughter', 'yet', 'knew', 'first', 'said', 'fishmonger', 'farre', 'gone', 'farre', 'gone', 'truly', 'youth', 'suffred', 'much', 'extreamity', 'loue', 'neere', 'ile', 'speake', 'againe', 'read', 'lord', 'ham', 'words', 'words', 'words', 'pol', 'matter', 'lord', 'ham', 'betweene', 'pol', 'meane', 'matter', 'meane', 'lord', 'ham', 'slanders', 'sir', 'satyricall', 'slaue', 'saies', 'old', 'men', 'haue', 'gray', 'beards', 'faces', 'wrinkled', 'eyes', 'purging', 'thicke', 'amber', 'gumme', 'haue', 'plentifull', 'locke', 'wit', 'together', 'weake', 'hammes', 'sir', 'though', 'powerfully', 'potently', 'beleeue', 'yet', 'holde', 'honestie', 'haue', 'thus', 'set', 'downe', 'selfe', 'sir', 'old', 'like', 'crab', 'could', 'go', 'backward', 'pol', 'though', 'madnesse', 'yet', 'method', 'walke', 'ayre', 'lord', 'ham', 'graue', 'pol', 'indeed', 'ayre', 'pregnant', 'sometimes', 'replies', 'happinesse', 'often', 'madnesse', 'hits', 'reason', 'sanitie', 'could', 'prosperously', 'deliuer', 'leaue', 'sodainely', 'contriue', 'meanes', 'meeting', 'betweene', 'daughter', 'honourable', 'lord', 'humbly', 'take', 'leaue', 'ham', 'sir', 'take', 'thing', 'willingly', 'part', 'withall', 'except', 'life', 'life', 'polon', 'fare', 'well', 'lord', 'ham', 'tedious', 'old', 'fooles', 'polon', 'goe', 'seeke', 'lord', 'hamlet', 'hee', 'enter', 'rosincran', 'guildensterne', 'rosin', 'god', 'saue', 'sir', 'guild', 'mine', 'honour', 'lord', 'rosin', 'deare', 'lord', 'ham', 'excellent', 'good', 'friends', 'thou', 'guildensterne', 'oh', 'rosincrane', 'good', 'lads', 'doe', 'ye', 'rosin', 'indifferent', 'children', 'earth', 'guild', 'happy', 'fortunes', 'cap', 'button', 'ham', 'soales', 'shoo', 'rosin', 'neither', 'lord', 'ham', 'liue', 'waste', 'middle', 'fauour', 'guil', 'faith', 'priuates', 'ham', 'secret', 'parts', 'fortune', 'oh', 'true', 'strumpet', 'newes', 'rosin', 'none', 'lord', 'world', 'growne', 'honest', 'ham', 'doomesday', 'neere', 'newes', 'true', 'let', 'question', 'particular', 'haue', 'good', 'friends', 'deserued', 'hands', 'fortune', 'sends', 'prison', 'hither', 'guil', 'prison', 'lord', 'ham', 'denmark', 'prison', 'rosin', 'world', 'one', 'ham', 'goodly', 'one', 'many', 'confines', 'wards', 'dungeons', 'denmarke', 'one', 'worst', 'rosin', 'thinke', 'lord', 'ham', 'none', 'nothing', 'either', 'good', 'bad', 'thinking', 'makes', 'prison', 'rosin', 'ambition', 'makes', 'one', 'narrow', 'minde', 'ham', 'god', 'could', 'bounded', 'nutshell', 'count', 'selfe', 'king', 'infinite', 'space', 'haue', 'bad', 'dreames', 'guil', 'dreames', 'indeed', 'ambition', 'substance', 'ambitious', 'meerely', 'shadow', 'dreame', 'ham', 'dreame', 'selfe', 'shadow', 'rosin', 'truely', 'hold', 'ambition', 'ayry', 'light', 'quality', 'shadowes', 'shadow', 'ham', 'beggers', 'bodies', 'monarchs', 'heroes', 'beggers', 'shadowes', 'shall', 'wee', 'th', 'court', 'fey', 'reason', 'wait', 'vpon', 'ham', 'matter', 'sort', 'rest', 'seruants', 'speake', 'like', 'honest', 'man', 'dreadfully', 'attended', 'beaten', 'way', 'friendship', 'make', 'elsonower', 'rosin', 'visit', 'lord', 'occasion', 'ham', 'begger', 'euen', 'poore', 'thankes', 'thanke', 'sure', 'deare', 'friends', 'thanks', 'deare', 'halfepeny', 'sent', 'owne', 'inclining', 'free', 'visitation', 'come', 'deale', 'iustly', 'come', 'come', 'nay', 'speake', 'guil', 'say', 'lord', 'ham', 'thing', 'purpose', 'sent', 'kinde', 'confession', 'lookes', 'modesties', 'haue', 'craft', 'enough', 'color', 'know', 'good', 'king', 'queene', 'haue', 'sent', 'rosin', 'end', 'lord', 'ham', 'must', 'teach', 'let', 'mee', 'coniure', 'rights', 'fellowship', 'consonancy', 'youth', 'obligation', 'loue', 'deare', 'better', 'proposer', 'could', 'charge', 'withall', 'euen', 'direct', 'whether', 'sent', 'rosin', 'say', 'ham', 'nay', 'haue', 'eye', 'loue', 'hold', 'guil', 'lord', 'sent', 'ham', 'tell', 'shall', 'anticipation', 'preuent', 'discouery', 'secricie', 'king', 'queene', 'moult', 'feather', 'haue', 'late', 'wherefore', 'know', 'lost', 'mirth', 'forgone', 'custome', 'exercise', 'indeed', 'goes', 'heauenly', 'disposition', 'goodly', 'frame', 'earth', 'seemes', 'sterrill', 'promontory', 'excellent', 'canopy', 'ayre', 'look', 'braue', 'maiesticall', 'roofe', 'fretted', 'golden', 'fire', 'appeares', 'thing', 'mee', 'foule', 'pestilent', 'congregation', 'vapours', 'piece', 'worke', 'man', 'noble', 'reason', 'infinite', 'faculty', 'forme', 'mouing', 'expresse', 'admirable', 'action', 'like', 'angel', 'apprehension', 'like', 'god', 'beauty', 'world', 'parragon', 'animals', 'yet', 'quintessence', 'dust', 'man', 'delights', 'woman', 'neither', 'though', 'smiling', 'seeme', 'say', 'rosin', 'lord', 'stuffe', 'thoughts', 'ham', 'laugh', 'said', 'man', 'delights', 'rosin', 'thinke', 'lord', 'delight', 'man', 'lenton', 'entertainment', 'players', 'shall', 'receiue', 'wee', 'coated', 'way', 'hither', 'comming', 'offer', 'seruice', 'ham', 'playes', 'king', 'shall', 'welcome', 'maiesty', 'shall', 'haue', 'tribute', 'mee', 'aduenturous', 'knight', 'shal', 'vse', 'foyle', 'target', 'louer', 'shall', 'sigh', 'gratis', 'humorous', 'man', 'shall', 'end', 'part', 'peace', 'clowne', 'shall', 'make', 'laugh', 'whose', 'lungs', 'tickled', 'sere', 'lady', 'shall', 'say', 'minde', 'freely', 'blanke', 'verse', 'shall', 'halt', 'players', 'rosin', 'euen', 'wont', 'take', 'delight', 'tragedians', 'city', 'ham', 'chances', 'trauaile', 'residence', 'reputation', 'profit', 'better', 'wayes', 'rosin', 'thinke', 'inhibition', 'comes', 'meanes', 'late', 'innouation', 'ham', 'doe', 'hold', 'estimation', 'city', 'follow', 'rosin', 'indeed', 'ham', 'comes', 'doe', 'grow', 'rusty', 'rosin', 'nay', 'indeauour', 'keepes', 'wonted', 'pace', 'sir', 'ayrie', 'children', 'little', 'yases', 'crye', 'top', 'question', 'tyrannically', 'fashion', 'common', 'stages', 'call', 'many', 'wearing', 'rapiers', 'affraide', 'dare', 'scarse', 'come', 'thither', 'ham', 'children', 'maintains', 'escorted', 'pursue', 'quality', 'longer', 'sing', 'say', 'afterwards', 'grow', 'themselues', 'common', 'players', 'like', 'meanes', 'better', 'writers', 'wrong', 'make', 'exclaim', 'owne', 'succession', 'rosin', 'faith', 'ha', 'bene', 'much', 'sides', 'nation', 'holds', 'sinne', 'tarre', 'controuersie', 'mony', 'bid', 'argument', 'vnlesse', 'poet', 'player', 'went', 'cuffes', 'question', 'ham', 'possible', 'guild', 'oh', 'ha', 'beene', 'much', 'throwing', 'braines', 'ham', 'boyes', 'carry', 'away', 'rosin', 'lord', 'hercules', 'load', 'ham', 'strange', 'mine', 'vnckle', 'king', 'denmarke', 'would', 'make', 'mowes', 'father', 'liued', 'giue', 'twenty', 'forty', 'hundred', 'ducates', 'peece', 'picture', 'little', 'something', 'naturall', 'philosophie', 'could', 'finde', 'flourish', 'players', 'guil', 'players', 'ham', 'gentlemen', 'welcom', 'elsonower', 'hands', 'come', 'appurtenance', 'welcome', 'fashion', 'ceremony', 'let', 'comply', 'garbe', 'lest', 'extent', 'players', 'tell', 'must', 'shew', 'fairely', 'outward', 'appeare', 'like', 'entertainment', 'welcome', 'vnckle', 'father', 'aunt', 'mother', 'guil', 'deere', 'lord', 'ham', 'mad', 'north', 'winde', 'southerly', 'know', 'hawke', 'handsaw', 'enter', 'polonius', 'pol', 'well', 'gentlemen', 'ham', 'hearke', 'guildensterne', 'eare', 'hearer', 'great', 'baby', 'see', 'yet', 'swathing', 'clouts', 'rosin', 'happily', 'second', 'time', 'come', 'say', 'old', 'man', 'twice', 'childe', 'ham', 'prophesie', 'hee', 'comes', 'tell', 'players', 'mark', 'say', 'right', 'sir', 'monday', 'morning', 'indeed', 'pol', 'lord', 'haue', 'newes', 'tell', 'ham', 'lord', 'haue', 'newes', 'tell', 'rossius', 'actor', 'pol', 'actors', 'come', 'hither', 'lord', 'ham', 'buzze', 'buzze', 'pol', 'vpon', 'mine', 'honor', 'ham', 'actor', 'polon', 'best', 'actors', 'world', 'either', 'tragedie', 'comedie', 'historie', 'pastorall', 'scene', 'indiuidible', 'poem', 'vnlimited', 'seneca', 'heauy', 'plautus', 'light', 'law', 'writ', 'liberty', 'onely', 'men', 'ham', 'iephta', 'iudge', 'israel', 'treasure', 'thou', 'pol', 'treasure', 'lord', 'ham', 'one', 'faire', 'daughter', 'loued', 'passing', 'well', 'pol', 'still', 'daughter', 'ham', 'right', 'old', 'iephta', 'polon', 'call', 'iephta', 'lord', 'haue', 'daughter', 'loue', 'passing', 'well', 'ham', 'nay', 'followes', 'polon', 'followes', 'lord', 'ha', 'lot', 'god', 'wot', 'know', 'came', 'passe', 'like', 'first', 'rowe', 'pons', 'chanson', 'shew', 'looke', 'abridgements', 'come', 'enter', 'foure', 'fiue', 'players', 'welcome', 'masters', 'welcome', 'glad', 'see', 'thee', 'well', 'welcome', 'good', 'friends', 'oh', 'olde', 'friend', 'thy', 'face', 'valiant', 'since', 'saw', 'thee', 'last', 'thou', 'beard', 'denmarke', 'yong', 'lady', 'mistris', 'byrlady', 'ladiship', 'neerer', 'heauen', 'saw', 'last', 'altitude', 'choppine', 'pray', 'god', 'voice', 'like', 'peece', 'vncurrant', 'gold', 'within', 'ring', 'masters', 'welcome', 'like', 'french', 'faulconers', 'flie', 'thing', 'see', 'haue', 'speech', 'straight', 'come', 'giue', 'vs', 'tast', 'quality', 'come', 'passionate', 'speech', 'speech', 'lord', 'ham', 'heard', 'thee', 'speak', 'speech', 'neuer', 'acted', 'aboue', 'play', 'remember', 'pleas', 'million', 'cauiarie', 'generall', 'receiu', 'others', 'whose', 'iudgement', 'matters', 'cried', 'top', 'mine', 'excellent', 'play', 'well', 'digested', 'scoenes', 'set', 'downe', 'much', 'modestie', 'cunning', 'remember', 'one', 'said', 'sallets', 'lines', 'make', 'matter', 'sauory', 'matter', 'phrase', 'might', 'indite', 'author', 'affectation', 'cal', 'honest', 'method', 'one', 'cheefe', 'speech', 'cheefely', 'lou', 'aeneas', 'tale', 'dido', 'thereabout', 'especially', 'speaks', 'priams', 'slaughter', 'liue', 'memory', 'begin', 'line', 'let', 'see', 'let', 'see', 'rugged', 'pyrrhus', 'like', 'beast', 'begins', 'pyrrhus', 'rugged', 'pyrrhus', 'whose', 'sable', 'armes', 'blacke', 'purpose', 'night', 'resemble', 'lay', 'couched', 'ominous', 'horse', 'hath', 'dread', 'blacke', 'complexion', 'heraldry', 'dismall', 'head', 'foote', 'take', 'geulles', 'horridly', 'blood', 'fathers', 'mothers', 'daughters', 'sonnes', 'bak', 'impasted', 'parching', 'streets', 'lend', 'tyrannous', 'damned', 'light', 'vilde', 'murthers', 'roasted', 'wrath', 'fire', 'thus', 'coagulate', 'gore', 'eyes', 'like', 'carbuncles', 'hellish', 'pyrrhus', 'olde', 'grandsire', 'priam', 'seekes', 'pol', 'fore', 'god', 'lord', 'well', 'spoken', 'good', 'accent', 'good', 'discretion', 'anon', 'findes', 'striking', 'short', 'greekes', 'anticke', 'sword', 'rebellious', 'arme', 'lyes', 'falles', 'repugnant', 'command', 'vnequall', 'match', 'pyrrhus', 'priam', 'driues', 'rage', 'strikes', 'wide', 'whiffe', 'winde', 'fell', 'sword', 'th', 'vnnerued', 'father', 'fals', 'senselesse', 'illium', 'seeming', 'feele', 'blow', 'flaming', 'top', 'stoopes', 'bace', 'hideous', 'crash', 'takes', 'prisoner', 'pyrrhus', 'eare', 'loe', 'sword', 'declining', 'milkie', 'head', 'reuerend', 'priam', 'seem', 'ayre', 'sticke', 'painted', 'tyrant', 'pyrrhus', 'stood', 'like', 'newtrall', 'matter', 'nothing', 'often', 'see', 'storme', 'silence', 'heauens', 'racke', 'stand', 'still', 'bold', 'windes', 'speechlesse', 'orbe', 'hush', 'death', 'anon', 'dreadfull', 'thunder', 'doth', 'rend', 'region', 'pyrrhus', 'pause', 'rowsed', 'vengeance', 'sets', 'new', 'neuer', 'cyclops', 'hammers', 'fall', 'mars', 'armours', 'forg', 'proofe', 'eterne', 'lesse', 'remorse', 'pyrrhus', 'bleeding', 'sword', 'falles', 'priam', 'thou', 'gods', 'generall', 'synod', 'take', 'away', 'power', 'breake', 'spokes', 'fallies', 'wheele', 'boule', 'round', 'naue', 'downe', 'hill', 'heauen', 'low', 'fiends', 'pol', 'long', 'ham', 'shall', 'barbars', 'beard', 'prythee', 'say', 'iigge', 'tale', 'baudry', 'hee', 'sleepes', 'say', 'come', 'hecuba', 'seen', 'inobled', 'queen', 'ham', 'inobled', 'queene', 'pol', 'good', 'inobled', 'queene', 'good', 'run', 'vp', 'downe', 'threatning', 'flame', 'bisson', 'rheume', 'clout', 'head', 'late', 'diadem', 'stood', 'robe', 'lanke', 'loines', 'blanket', 'th', 'alarum', 'feare', 'caught', 'vp', 'seene', 'tongue', 'venome', 'steep', 'fortunes', 'state', 'would', 'treason', 'haue', 'pronounc', 'gods', 'themselues', 'see', 'saw', 'pyrrhus', 'make', 'malicious', 'sport', 'mincing', 'sword', 'husbands', 'limbes', 'instant', 'burst', 'clamour', 'made', 'vnlesse', 'things', 'mortall', 'moue', 'would', 'haue', 'made', 'milche', 'burning', 'eyes', 'heauen', 'passion', 'gods', 'pol', 'looke', 'ha', 'turn', 'colour', 'ha', 'teares', 'eyes', 'pray', 'ham', 'well', 'ile', 'haue', 'thee', 'speake', 'rest', 'soone', 'good', 'lord', 'see', 'players', 'wel', 'bestow', 'ye', 'heare', 'let', 'well', 'vs', 'abstracts', 'breefe', 'chronicles', 'time', 'death', 'better', 'haue', 'bad', 'epitaph', 'ill', 'report', 'liued', 'pol', 'lord', 'vse', 'according', 'desart', 'ham', 'gods', 'bodykins', 'man', 'better', 'vse', 'euerie', 'man', 'desart', 'scape', 'whipping', 'vse', 'honor', 'dignity', 'lesse', 'deserue', 'merit', 'bountie', 'take', 'pol', 'come', 'sirs', 'exit', 'polon', 'ham', 'follow', 'friends', 'heare', 'play', 'morrow', 'dost', 'thou', 'heare', 'old', 'friend', 'play', 'murther', 'gonzago', 'play', 'lord', 'ham', 'morrow', 'night', 'could', 'need', 'study', 'speech', 'dosen', 'sixteene', 'lines', 'would', 'set', 'downe', 'insert', 'could', 'ye', 'play', 'lord', 'ham', 'well', 'follow', 'lord', 'looke', 'mock', 'good', 'friends', 'ile', 'leaue', 'til', 'night', 'welcome', 'elsonower', 'rosin', 'good', 'lord', 'exeunt', 'manet', 'hamlet', 'ham', 'god', 'alone', 'oh', 'rogue', 'pesant', 'slaue', 'monstrous', 'player', 'heere', 'fixion', 'dreame', 'passion', 'could', 'force', 'soule', 'whole', 'conceit', 'working', 'visage', 'warm', 'teares', 'eyes', 'distraction', 'aspect', 'broken', 'voyce', 'whole', 'function', 'suiting', 'formes', 'conceit', 'nothing', 'hecuba', 'hecuba', 'hecuba', 'weepe', 'would', 'doe', 'motiue', 'cue', 'passion', 'haue', 'would', 'drowne', 'stage', 'teares', 'cleaue', 'generall', 'eare', 'horrid', 'speech', 'make', 'mad', 'guilty', 'apale', 'free', 'confound', 'ignorant', 'amaze', 'indeed', 'faculty', 'eyes', 'eares', 'yet', 'dull', 'rascall', 'peake', 'like', 'iohn', 'vnpregnant', 'cause', 'say', 'nothing', 'king', 'vpon', 'whose', 'property', 'deere', 'life', 'damn', 'defeate', 'made', 'coward', 'calles', 'villaine', 'breakes', 'pate', 'pluckes', 'beard', 'blowes', 'face', 'tweakes', 'nose', 'giues', 'lye', 'throate', 'deepe', 'lungs', 'ha', 'take', 'lacke', 'gall', 'make', 'oppression', 'bitter', 'ere', 'haue', 'fatted', 'region', 'kites', 'slaues', 'offall', 'bloudy', 'bawdy', 'villaine', 'remorselesse', 'treacherous', 'letcherous', 'kindles', 'villaine', 'oh', 'vengeance', 'asse', 'sure', 'braue', 'sonne', 'deere', 'murthered', 'prompted', 'reuenge', 'heauen', 'hell', 'must', 'like', 'whore', 'vnpacke', 'heart', 'words', 'fall', 'cursing', 'like', 'drab', 'scullion', 'fye', 'vpo', 'foh', 'braine', 'haue', 'heard', 'guilty', 'creatures', 'sitting', 'play', 'haue', 'cunning', 'scoene', 'bene', 'strooke', 'soule', 'presently', 'haue', 'proclaim', 'malefactions', 'murther', 'though', 'haue', 'tongue', 'speake', 'myraculous', 'organ', 'ile', 'haue', 'players', 'play', 'something', 'like', 'murder', 'father', 'mine', 'vnkle', 'ile', 'obserue', 'lookes', 'ile', 'rent', 'quicke', 'blench', 'know', 'course', 'spirit', 'haue', 'seene', 'may', 'diuell', 'diuel', 'hath', 'power', 'assume', 'pleasing', 'shape', 'yea', 'perhaps', 'weaknesse', 'melancholly', 'potent', 'spirits', 'abuses', 'damne', 'ile', 'haue', 'grounds', 'relatiue', 'play', 'thing', 'wherein', 'ile', 'catch', 'conscience', 'king', 'exit', 'enter', 'king', 'queene', 'polonius', 'ophelia', 'rosincrance', 'guildenstern', 'lords', 'king', 'drift', 'circumstance', 'get', 'puts', 'confusion', 'grating', 'harshly', 'dayes', 'quiet', 'turbulent', 'dangerous', 'lunacy', 'rosin', 'confesse', 'feeles', 'himselfe', 'distracted', 'cause', 'meanes', 'speake', 'guil', 'finde', 'forward', 'sounded', 'crafty', 'madnesse', 'keepes', 'aloofe', 'would', 'bring', 'confession', 'true', 'state', 'qu', 'receiue', 'well', 'rosin', 'like', 'gentleman', 'guild', 'much', 'forcing', 'disposition', 'rosin', 'niggard', 'question', 'demands', 'free', 'reply', 'qu', 'assay', 'pastime', 'rosin', 'madam', 'fell', 'certaine', 'players', 'way', 'told', 'seeme', 'kinde', 'ioy', 'heare', 'court', 'thinke', 'haue', 'already', 'order', 'night', 'play', 'pol', 'true', 'beseech', 'intreate', 'maiesties', 'heare', 'see', 'matter', 'king', 'heart', 'doth', 'much', 'content', 'heare', 'inclin', 'good', 'gentlemen', 'giue', 'edge', 'driue', 'purpose', 'delights', 'rosin', 'shall', 'lord', 'exeunt', 'king', 'sweet', 'gertrude', 'leaue', 'vs', 'haue', 'closely', 'sent', 'hamlet', 'hither', 'accident', 'may', 'affront', 'ophelia', 'father', 'selfe', 'lawful', 'espials', 'bestow', 'selues', 'seeing', 'vnseene', 'may', 'encounter', 'frankely', 'iudge', 'gather', 'behaued', 'th', 'affliction', 'loue', 'thus', 'suffers', 'qu', 'shall', 'obey', 'part', 'ophelia', 'wish', 'good', 'beauties', 'happy', 'cause', 'hamlets', 'wildenesse', 'shall', 'hope', 'vertues', 'bring', 'wonted', 'way', 'againe', 'honors', 'ophe', 'madam', 'wish', 'may', 'pol', 'ophelia', 'walke', 'heere', 'gracious', 'please', 'ye', 'bestow', 'selues', 'reade', 'booke', 'shew', 'exercise', 'may', 'colour', 'lonelinesse', 'oft', 'blame', 'much', 'prou', 'deuotions', 'visage', 'pious', 'action', 'surge', 'diuell', 'himselfe', 'king', 'oh', 'true', 'smart', 'lash', 'speech', 'doth', 'giue', 'conscience', 'harlots', 'cheeke', 'beautied', 'art', 'vgly', 'thing', 'helpes', 'deede', 'painted', 'word', 'oh', 'heauie', 'burthen', 'pol', 'heare', 'comming', 'let', 'withdraw', 'lord', 'exeunt', 'enter', 'hamlet', 'ham', 'question', 'whether', 'nobler', 'minde', 'suffer', 'slings', 'arrowes', 'outragious', 'fortune', 'take', 'armes', 'sea', 'troubles', 'opposing', 'end', 'dye', 'sleepe', 'sleepe', 'say', 'end', 'thousand', 'naturall', 'shockes', 'flesh', 'heyre', 'consummation', 'deuoutly', 'wish', 'dye', 'sleepe', 'sleepe', 'perchance', 'dreame', 'rub', 'sleepe', 'death', 'dreames', 'may', 'come', 'haue', 'shuffel', 'mortall', 'coile', 'must', 'giue', 'vs', 'pawse', 'respect', 'makes', 'calamity', 'long', 'life', 'would', 'beare', 'whips', 'scornes', 'time', 'oppressors', 'wrong', 'poore', 'mans', 'contumely', 'pangs', 'dispriz', 'loue', 'lawes', 'delay', 'insolence', 'office', 'spurnes', 'patient', 'merit', 'vnworthy', 'takes', 'himselfe', 'might', 'quietus', 'make', 'bare', 'bodkin', 'would', 'fardles', 'beare', 'grunt', 'sweat', 'vnder', 'weary', 'life', 'dread', 'something', 'death', 'vndiscouered', 'countrey', 'whose', 'borne', 'traueller', 'returnes', 'puzels', 'makes', 'vs', 'rather', 'beare', 'illes', 'haue', 'flye', 'others', 'know', 'thus', 'conscience', 'make', 'cowards', 'vs', 'thus', 'natiue', 'hew', 'resolution', 'sicklied', 'pale', 'cast', 'thought', 'enterprizes', 'great', 'pith', 'moment', 'regard', 'currants', 'turne', 'away', 'loose', 'name', 'action', 'soft', 'faire', 'ophelia', 'nimph', 'thy', 'orizons', 'sinnes', 'remembred', 'ophe', 'good', 'lord', 'honor', 'many', 'day', 'ham', 'humbly', 'thanke', 'well', 'well', 'well', 'ophe', 'lord', 'haue', 'remembrances', 'haue', 'longed', 'long', 'pray', 'receiue', 'ham', 'neuer', 'gaue', 'ought', 'ophe', 'honor', 'lord', 'know', 'right', 'well', 'words', 'sweet', 'breath', 'compos', 'made', 'things', 'rich', 'perfume', 'left', 'take', 'againe', 'noble', 'minde', 'rich', 'gifts', 'wax', 'poore', 'giuers', 'proue', 'vnkinde', 'lord', 'ham', 'ha', 'ha', 'honest', 'ophe', 'lord', 'ham', 'faire', 'ophe', 'meanes', 'lordship', 'ham', 'honest', 'faire', 'honesty', 'admit', 'discourse', 'beautie', 'ophe', 'could', 'beautie', 'lord', 'haue', 'better', 'comerce', 'honestie', 'ham', 'trulie', 'power', 'beautie', 'sooner', 'transforme', 'honestie', 'bawd', 'force', 'honestie', 'translate', 'beautie', 'likenesse', 'sometime', 'paradox', 'time', 'giues', 'proofe', 'loue', 'ophe', 'indeed', 'lord', 'made', 'beleeue', 'ham', 'haue', 'beleeued', 'vertue', 'innocculate', 'old', 'stocke', 'shall', 'rellish', 'loued', 'ophe', 'deceiued', 'ham', 'get', 'thee', 'nunnerie', 'thou', 'breeder', 'sinners', 'selfe', 'indifferent', 'honest', 'yet', 'could', 'accuse', 'things', 'better', 'mother', 'borne', 'prowd', 'reuengefull', 'ambitious', 'offences', 'becke', 'haue', 'thoughts', 'put', 'imagination', 'giue', 'shape', 'time', 'acte', 'fellowes', 'crawling', 'betweene', 'heauen', 'earth', 'arrant', 'knaues', 'beleeue', 'none', 'goe', 'thy', 'wayes', 'nunnery', 'father', 'ophe', 'home', 'lord', 'ham', 'let', 'doores', 'shut', 'vpon', 'may', 'play', 'foole', 'way', 'owne', 'house', 'farewell', 'ophe', 'helpe', 'sweet', 'heauens', 'ham', 'thou', 'doest', 'marry', 'ile', 'giue', 'thee', 'plague', 'thy', 'dowrie', 'thou', 'chast', 'ice', 'pure', 'snow', 'thou', 'shalt', 'escape', 'calumny', 'get', 'thee', 'nunnery', 'go', 'farewell', 'thou', 'wilt', 'needs', 'marry', 'marry', 'fool', 'wise', 'men', 'know', 'well', 'enough', 'monsters', 'make', 'nunnery', 'go', 'quickly', 'farwell', 'ophe', 'heauenly', 'powers', 'restore', 'ham', 'haue', 'heard', 'pratlings', 'wel', 'enough', 'god', 'giuen', 'one', 'pace', 'make', 'selfe', 'another', 'gidge', 'amble', 'lispe', 'nickname', 'gods', 'creatures', 'make', 'wantonnesse', 'ignorance', 'go', 'ile', 'hath', 'made', 'mad', 'say', 'haue', 'marriages', 'married', 'already', 'one', 'shall', 'liue', 'rest', 'shall', 'keep', 'nunnery', 'go', 'exit', 'hamlet', 'ophe', 'noble', 'minde', 'heere', 'courtiers', 'soldiers', 'schollers', 'eye', 'tongue', 'sword', 'th', 'expectansie', 'rose', 'faire', 'state', 'glasse', 'fashion', 'mould', 'forme', 'th', 'obseru', 'obseruers', 'quite', 'quite', 'downe', 'haue', 'ladies', 'deiect', 'wretched', 'suck', 'honie', 'musicke', 'vowes', 'see', 'noble', 'soueraigne', 'reason', 'like', 'sweet', 'bels', 'iangled', 'tune', 'harsh', 'vnmatch', 'forme', 'feature', 'blowne', 'youth', 'blasted', 'extasie', 'oh', 'woe', 'seene', 'haue', 'seene', 'see', 'see', 'enter', 'king', 'polonius', 'king', 'loue', 'affections', 'way', 'tend', 'spake', 'though', 'lack', 'forme', 'little', 'like', 'madnesse', 'something', 'soule', 'melancholly', 'sits', 'brood', 'doubt', 'hatch', 'disclose', 'danger', 'preuent', 'haue', 'quicke', 'determination', 'thus', 'set', 'downe', 'shall', 'speed', 'england', 'demand', 'neglected', 'tribute', 'haply', 'seas', 'countries', 'different', 'variable', 'obiects', 'shall', 'expell', 'something', 'setled', 'matter', 'heart', 'whereon', 'braines', 'still', 'beating', 'puts', 'thus', 'fashion', 'himselfe', 'thinke', 'pol', 'shall', 'well', 'yet', 'beleeue', 'origin', 'commencement', 'greefe', 'sprung', 'neglected', 'loue', 'ophelia', 'neede', 'tell', 'vs', 'lord', 'hamlet', 'saide', 'heard', 'lord', 'please', 'hold', 'fit', 'play', 'let', 'queene', 'mother', 'alone', 'intreat', 'shew', 'greefes', 'let', 'round', 'ile', 'plac', 'please', 'eare', 'conference', 'finde', 'england', 'send', 'confine', 'wisedome', 'best', 'shall', 'thinke', 'king', 'shall', 'madnesse', 'great', 'ones', 'must', 'vnwatch', 'go', 'exeunt', 'enter', 'hamlet', 'two', 'three', 'players', 'ham', 'speake', 'speech', 'pray', 'trippingly', 'tongue', 'mouth', 'many', 'players', 'liue', 'spoke', 'lines', 'saw', 'ayre', 'much', 'hand', 'thus', 'vse', 'gently', 'verie', 'torrent', 'tempest', 'say', 'passion', 'must', 'acquire', 'beget', 'temperance', 'may', 'giue', 'smoothnesse', 'offends', 'mee', 'soule', 'see', 'robustious', 'fellow', 'teare', 'passion', 'tatters', 'verie', 'ragges', 'split', 'eares', 'groundlings', 'part', 'capeable', 'nothing', 'inexplicable', 'dumbe', 'shewes', 'noise', 'could', 'haue', 'fellow', 'whipt', 'termagant', 'outherod', 'herod', 'pray', 'auoid', 'player', 'warrant', 'honor', 'ham', 'tame', 'neyther', 'let', 'owne', 'discretion', 'tutor', 'sute', 'action', 'word', 'word', 'action', 'speciall', 'obseruance', 'modestie', 'nature', 'thing', 'fro', 'purpose', 'playing', 'whose', 'end', 'first', 'hold', 'mirrour', 'vp', 'nature', 'shew', 'vertue', 'owne', 'feature', 'scorne', 'owne', 'image', 'verie', 'age', 'bodie', 'time', 'forme', 'pressure', 'come', 'tardie', 'though', 'make', 'vnskilfull', 'laugh', 'make', 'iudicious', 'greeue', 'censure', 'one', 'must', 'allowance', 'whole', 'theater', 'others', 'oh', 'bee', 'players', 'haue', 'seene', 'play', 'heard', 'others', 'praise', 'highly', 'speake', 'prophanely', 'neyther', 'hauing', 'accent', 'christians', 'gate', 'christian', 'pagan', 'norman', 'haue', 'strutted', 'bellowed', 'haue', 'thought', 'natures', 'made', 'men', 'made', 'well', 'imitated', 'humanity', 'abhominably', 'play', 'hope', 'haue', 'reform', 'indifferently', 'vs', 'sir', 'ham', 'reforme', 'altogether', 'let', 'play', 'clownes', 'speake', 'set', 'downe', 'themselues', 'laugh', 'set', 'quantitie', 'barren', 'spectators', 'laugh', 'though', 'meane', 'time', 'necessary', 'question', 'play', 'considered', 'villanous', 'shewes', 'pittifull', 'ambition', 'foole', 'vses', 'go', 'make', 'readie', 'exit', 'players', 'enter', 'polonius', 'rosincrance', 'guildensterne', 'lord', 'king', 'heare', 'peece', 'worke', 'pol', 'queene', 'presently', 'ham', 'bid', 'players', 'make', 'hast', 'exit', 'polonius', 'two', 'helpe', 'hasten', 'lord', 'exeunt', 'enter', 'horatio', 'ham', 'hoa', 'horatio', 'hora', 'heere', 'sweet', 'lord', 'seruice', 'ham', 'horatio', 'thou', 'art', 'eene', 'iust', 'man', 'ere', 'conuersation', 'coap', 'withall', 'hora', 'deere', 'lord', 'ham', 'nay', 'thinke', 'flatter', 'aduancement', 'may', 'hope', 'thee', 'reuennew', 'hast', 'thy', 'good', 'spirits', 'feed', 'cloath', 'thee', 'shold', 'poor', 'flatter', 'let', 'candied', 'tongue', 'like', 'absurd', 'pompe', 'crooke', 'pregnant', 'hindges', 'knee', 'thrift', 'may', 'follow', 'faining', 'dost', 'thou', 'heare', 'since', 'deere', 'soule', 'mistris', 'choyse', 'could', 'men', 'distinguish', 'election', 'hath', 'seal', 'thee', 'selfe', 'thou', 'hast', 'bene', 'one', 'suffering', 'suffers', 'nothing', 'man', 'fortunes', 'buffets', 'rewards', 'hath', 'equall', 'thankes', 'blest', 'whose', 'blood', 'iudgement', 'well', 'pipe', 'fortunes', 'finger', 'sound', 'stop', 'please', 'giue', 'man', 'passions', 'slaue', 'weare', 'hearts', 'core', 'heart', 'heart', 'thee', 'something', 'much', 'play', 'night', 'king', 'one', 'scoene', 'comes', 'neere', 'circumstance', 'haue', 'told', 'thee', 'fathers', 'death', 'prythee', 'thou', 'acte', 'euen', 'verie', 'comment', 'soule', 'obserue', 'mine', 'vnkle', 'occulted', 'guilt', 'selfe', 'vnkennell', 'one', 'speech', 'damned', 'ghost', 'haue', 'seene', 'imaginations', 'foule', 'vulcans', 'stythe', 'giue', 'needfull', 'note', 'mine', 'eyes', 'riuet', 'face', 'iudgements', 'ioyne', 'censure', 'seeming', 'hora', 'well', 'lord', 'steale', 'ought', 'play', 'playing', 'scape', 'detecting', 'pay', 'theft', 'enter', 'king', 'queene', 'polonius', 'ophelia', 'rosincrance', 'guildensterne', 'lords', 'attendant', 'guard', 'carrying', 'torches', 'danish', 'march', 'sound', 'flourish', 'ham', 'comming', 'play', 'must', 'idle', 'get', 'place', 'king', 'fares', 'cosin', 'hamlet', 'ham', 'excellent', 'ifaith', 'camelions', 'dish', 'eate', 'ayre', 'feed', 'capons', 'king', 'haue', 'nothing', 'answer', 'hamlet', 'words', 'mine', 'ham', 'mine', 'lord', 'plaid', 'vniuersity', 'say', 'polon', 'lord', 'accounted', 'good', 'actor', 'ham', 'enact', 'pol', 'enact', 'iulius', 'caesar', 'kill', 'capitol', 'brutus', 'kill', 'ham', 'bruite', 'part', 'kill', 'capitall', 'calfe', 'players', 'ready', 'rosin', 'lord', 'stay', 'vpon', 'patience', 'qu', 'come', 'hither', 'good', 'hamlet', 'sit', 'ha', 'good', 'mother', 'mettle', 'attractiue', 'pol', 'oh', 'ho', 'marke', 'ham', 'ladie', 'shall', 'lye', 'lap', 'ophe', 'lord', 'ham', 'meane', 'head', 'vpon', 'lap', 'ophe', 'lord', 'ham', 'thinke', 'meant', 'country', 'matters', 'ophe', 'thinke', 'nothing', 'lord', 'ham', 'faire', 'thought', 'ly', 'betweene', 'maids', 'legs', 'ophe', 'lord', 'ham', 'nothing', 'ophe', 'merrie', 'lord', 'ham', 'ophe', 'lord', 'ham', 'oh', 'god', 'onely', 'man', 'merrie', 'looke', 'cheerefully', 'mother', 'lookes', 'father', 'dyed', 'within', 'two', 'houres', 'ophe', 'nay', 'twice', 'two', 'moneths', 'lord', 'ham', 'long', 'nay', 'let', 'diuel', 'weare', 'blacke', 'ile', 'haue', 'suite', 'sables', 'oh', 'heauens', 'dye', 'two', 'moneths', 'ago', 'forgotten', 'yet', 'hope', 'great', 'mans', 'memorie', 'may', 'life', 'halfe', 'yeare', 'byrlady', 'must', 'builde', 'churches', 'else', 'shall', 'suffer', 'thinking', 'whose', 'epitaph', 'forgot', 'hoboyes', 'play', 'dumbe', 'shew', 'enters', 'enter', 'king', 'queene', 'louingly', 'queene', 'embracing', 'kneeles', 'makes', 'shew', 'protestation', 'vnto', 'takes', 'vp', 'declines', 'head', 'vpon', 'neck', 'layes', 'downe', 'vpon', 'banke', 'flowers', 'seeing', 'leaues', 'anon', 'comes', 'fellow', 'takes', 'crowne', 'kisses', 'powres', 'poyson', 'kings', 'eares', 'exits', 'queene', 'returnes', 'findes', 'king', 'dead', 'makes', 'passionate', 'action', 'poysoner', 'two', 'three', 'mutes', 'comes', 'againe', 'seeming', 'lament', 'dead', 'body', 'carried', 'away', 'poysoner', 'wooes', 'queene', 'gifts', 'seemes', 'loath', 'vnwilling', 'awhile', 'end', 'accepts', 'loue', 'exeunt', 'ophe', 'meanes', 'lord', 'ham', 'marry', 'miching', 'malicho', 'meanes', 'mischeefe', 'ophe', 'belike', 'shew', 'imports', 'argument', 'play', 'ham', 'shall', 'know', 'fellowes', 'players', 'keepe', 'counsell', 'tell', 'ophe', 'tell', 'vs', 'shew', 'meant', 'ham', 'shew', 'shew', 'bee', 'asham', 'shew', 'shame', 'tell', 'meanes', 'ophe', 'naught', 'naught', 'ile', 'marke', 'play', 'enter', 'prologue', 'vs', 'tragedie', 'heere', 'stooping', 'clemencie', 'begge', 'hearing', 'patientlie', 'ham', 'prologue', 'poesie', 'ring', 'ophe', 'briefe', 'lord', 'ham', 'womans', 'loue', 'enter', 'king', 'queene', 'king', 'full', 'thirtie', 'times', 'hath', 'phoebus', 'cart', 'gon', 'round', 'neptunes', 'salt', 'wash', 'tellus', 'orbed', 'ground', 'thirtie', 'dozen', 'moones', 'borrowed', 'sheene', 'world', 'haue', 'times', 'twelue', 'thirties', 'beene', 'since', 'loue', 'hearts', 'hymen', 'hands', 'vnite', 'comutuall', 'sacred', 'bands', 'bap', 'many', 'iournies', 'may', 'sunne', 'moone', 'make', 'vs', 'againe', 'count', 'ere', 'loue', 'done', 'woe', 'sicke', 'late', 'farre', 'cheere', 'former', 'state', 'distrust', 'yet', 'though', 'distrust', 'discomfort', 'lord', 'nothing', 'must', 'womens', 'feare', 'loue', 'holds', 'quantitie', 'neither', 'ought', 'extremity', 'loue', 'proofe', 'hath', 'made', 'know', 'loue', 'siz', 'feare', 'king', 'faith', 'must', 'leaue', 'thee', 'loue', 'shortly', 'operant', 'powers', 'functions', 'leaue', 'thou', 'shalt', 'liue', 'faire', 'world', 'behinde', 'honour', 'belou', 'haply', 'one', 'kinde', 'husband', 'shalt', 'bap', 'oh', 'confound', 'rest', 'loue', 'must', 'needs', 'treason', 'brest', 'second', 'husband', 'let', 'accurst', 'none', 'wed', 'second', 'kill', 'first', 'ham', 'wormwood', 'wormwood', 'bapt', 'instances', 'second', 'marriage', 'moue', 'base', 'respects', 'thrift', 'none', 'loue', 'second', 'time', 'kill', 'husband', 'dead', 'second', 'husband', 'kisses', 'bed', 'king', 'beleeue', 'think', 'speak', 'determine', 'oft', 'breake', 'purpose', 'slaue', 'memorie', 'violent', 'birth', 'poore', 'validitie', 'like', 'fruite', 'vnripe', 'stickes', 'tree', 'fall', 'vnshaken', 'mellow', 'bee', 'necessary', 'forget', 'pay', 'selues', 'selues', 'debt', 'selues', 'passion', 'propose', 'passion', 'ending', 'doth', 'purpose', 'lose', 'violence', 'greefe', 'ioy', 'owne', 'ennactors', 'themselues', 'destroy', 'ioy', 'reuels', 'greefe', 'doth', 'lament', 'greefe', 'ioyes', 'ioy', 'greeues', 'slender', 'accident', 'world', 'aye', 'strange', 'euen', 'loues', 'fortunes', 'change', 'question', 'left', 'vs', 'yet', 'proue', 'whether', 'loue', 'lead', 'fortune', 'else', 'fortune', 'loue', 'great', 'man', 'downe', 'marke', 'fauourites', 'flies', 'poore', 'aduanc', 'makes', 'friends', 'enemies', 'hitherto', 'doth', 'loue', 'fortune', 'tend', 'needs', 'shall', 'neuer', 'lacke', 'frend', 'want', 'hollow', 'friend', 'doth', 'try', 'directly', 'seasons', 'enemie', 'orderly', 'end', 'begun', 'willes', 'fates', 'contrary', 'run', 'deuices', 'still', 'ouerthrowne', 'thoughts', 'ends', 'none', 'owne', 'thinke', 'thou', 'wilt', 'second', 'husband', 'die', 'thy', 'thoughts', 'thy', 'first', 'lord', 'dead', 'bap', 'earth', 'giue', 'food', 'heauen', 'light', 'sport', 'repose', 'locke', 'day', 'night', 'opposite', 'blankes', 'face', 'ioy', 'meet', 'would', 'haue', 'well', 'destroy', 'heere', 'hence', 'pursue', 'lasting', 'strife', 'widdow', 'euer', 'wife', 'ham', 'breake', 'king', 'deepely', 'sworne', 'sweet', 'leaue', 'heere', 'spirits', 'grow', 'dull', 'faine', 'would', 'beguile', 'tedious', 'day', 'sleepe', 'qu', 'sleepe', 'rocke', 'thy', 'braine', 'sleepes', 'neuer', 'come', 'mischance', 'betweene', 'vs', 'twaine', 'exit', 'ham', 'madam', 'like', 'play', 'qu', 'lady', 'protests', 'much', 'thinkes', 'ham', 'oh', 'keepe', 'word', 'king', 'haue', 'heard', 'argument', 'offence', 'ham', 'iest', 'poyson', 'iest', 'offence', 'world', 'king', 'call', 'play', 'ham', 'marry', 'tropically', 'play', 'image', 'murder', 'done', 'vienna', 'gonzago', 'dukes', 'name', 'wife', 'baptista', 'shall', 'see', 'anon', 'knauish', 'peece', 'worke', 'maiestie', 'wee', 'haue', 'free', 'soules', 'touches', 'vs', 'let', 'gall', 'iade', 'winch', 'withers', 'vnrung', 'enter', 'lucianus', 'one', 'lucianus', 'nephew', 'king', 'ophe', 'good', 'chorus', 'lord', 'ham', 'could', 'interpret', 'betweene', 'loue', 'could', 'see', 'puppets', 'dallying', 'ophe', 'keene', 'lord', 'keene', 'ham', 'would', 'cost', 'groaning', 'take', 'edge', 'ophe', 'still', 'better', 'worse', 'ham', 'mistake', 'husbands', 'begin', 'murderer', 'pox', 'leaue', 'thy', 'damnable', 'faces', 'begin', 'come', 'croaking', 'rauen', 'doth', 'bellow', 'reuenge', 'lucian', 'thoughts', 'blacke', 'hands', 'apt', 'drugges', 'fit', 'time', 'agreeing', 'confederate', 'season', 'else', 'creature', 'seeing', 'thou', 'mixture', 'ranke', 'midnight', 'weeds', 'collected', 'hecats', 'ban', 'thrice', 'blasted', 'thrice', 'infected', 'thy', 'naturall', 'magicke', 'dire', 'propertie', 'wholsome', 'life', 'vsurpe', 'immediately', 'powres', 'poyson', 'eares', 'ham', 'poysons', 'garden', 'estate', 'name', 'gonzago', 'story', 'extant', 'writ', 'choyce', 'italian', 'shall', 'see', 'anon', 'murtherer', 'gets', 'loue', 'gonzago', 'wife', 'ophe', 'king', 'rises', 'ham', 'frighted', 'false', 'fire', 'qu', 'fares', 'lord', 'pol', 'giue', 'play', 'king', 'giue', 'light', 'away', 'lights', 'lights', 'lights', 'exeunt', 'manet', 'hamlet', 'horatio', 'ham', 'let', 'strucken', 'deere', 'go', 'weepe', 'hart', 'vngalled', 'play', 'must', 'watch', 'must', 'sleepe', 'runnes', 'world', 'away', 'would', 'sir', 'forrest', 'feathers', 'rest', 'fortunes', 'turne', 'turke', 'two', 'prouinciall', 'roses', 'rac', 'shooes', 'get', 'fellowship', 'crie', 'players', 'sir', 'hor', 'halfe', 'share', 'ham', 'whole', 'one', 'thou', 'dost', 'know', 'oh', 'damon', 'deere', 'realme', 'dismantled', 'ioue', 'himselfe', 'reignes', 'heere', 'verie', 'verie', 'paiocke', 'hora', 'might', 'haue', 'ham', 'oh', 'good', 'horatio', 'ile', 'take', 'ghosts', 'word', 'thousand', 'pound', 'perceiue', 'hora', 'verie', 'well', 'lord', 'ham', 'vpon', 'talke', 'poysoning', 'hora', 'verie', 'well', 'note', 'enter', 'rosincrance', 'guildensterne', 'ham', 'oh', 'ha', 'come', 'musick', 'come', 'recorders', 'king', 'like', 'comedie', 'belike', 'likes', 'perdie', 'come', 'musicke', 'guild', 'good', 'lord', 'vouchsafe', 'word', 'ham', 'sir', 'whole', 'history', 'guild', 'king', 'sir', 'ham', 'sir', 'guild', 'retyrement', 'maruellous', 'ham', 'drinke', 'sir', 'guild', 'lord', 'rather', 'choller', 'ham', 'wisedome', 'shew', 'selfe', 'richer', 'signifie', 'doctor', 'put', 'purgation', 'would', 'perhaps', 'plundge', 'farre', 'choller', 'guild', 'good', 'lord', 'put', 'discourse', 'frame', 'start', 'wildely', 'affayre', 'ham', 'tame', 'sir', 'pronounce', 'guild', 'queene', 'mother', 'great', 'affliction', 'spirit', 'hath', 'sent', 'ham', 'welcome', 'guild', 'nay', 'good', 'lord', 'courtesie', 'right', 'breed', 'shall', 'please', 'make', 'wholsome', 'answer', 'doe', 'mothers', 'pardon', 'returne', 'shall', 'bee', 'end', 'businesse', 'ham', 'sir', 'guild', 'lord', 'ham', 'make', 'wholsome', 'answere', 'wits', 'diseas', 'sir', 'answers', 'make', 'shal', 'command', 'rather', 'say', 'mother', 'therfore', 'matter', 'mother', 'say', 'rosin', 'thus', 'sayes', 'behauior', 'hath', 'stroke', 'amazement', 'admiration', 'ham', 'oh', 'wonderfull', 'sonne', 'astonish', 'mother', 'sequell', 'heeles', 'mothers', 'admiration', 'rosin', 'desires', 'speake', 'closset', 'ere', 'go', 'bed', 'ham', 'shall', 'obey', 'ten', 'times', 'mother', 'haue', 'trade', 'vs', 'rosin', 'lord', 'loue', 'ham', 'still', 'pickers', 'stealers', 'rosin', 'good', 'lord', 'cause', 'distemper', 'freely', 'barre', 'doore', 'owne', 'libertie', 'deny', 'greefes', 'friend', 'ham', 'sir', 'lacke', 'aduancement', 'rosin', 'haue', 'voyce', 'king', 'himselfe', 'succession', 'denmarke', 'ham', 'grasse', 'growes', 'prouerbe', 'something', 'musty', 'enter', 'one', 'recorder', 'recorder', 'let', 'see', 'withdraw', 'go', 'recouer', 'winde', 'mee', 'would', 'driue', 'toyle', 'guild', 'lord', 'dutie', 'bold', 'loue', 'vnmannerly', 'ham', 'well', 'vnderstand', 'play', 'vpon', 'pipe', 'guild', 'lord', 'ham', 'pray', 'guild', 'beleeue', 'ham', 'beseech', 'guild', 'know', 'touch', 'lord', 'ham', 'easie', 'lying', 'gouerne', 'ventiges', 'finger', 'thumbe', 'giue', 'breath', 'mouth', 'discourse', 'excellent', 'musicke', 'looke', 'stoppes', 'guild', 'command', 'vtterance', 'hermony', 'haue', 'skill', 'ham', 'looke', 'vnworthy', 'thing', 'make', 'would', 'play', 'vpon', 'mee', 'would', 'seeme', 'know', 'stops', 'would', 'pluck', 'heart', 'mysterie', 'would', 'sound', 'mee', 'lowest', 'note', 'top', 'compasse', 'much', 'musicke', 'excellent', 'voice', 'little', 'organe', 'yet', 'make', 'thinke', 'easier', 'bee', 'plaid', 'pipe', 'call', 'instrument', 'though', 'fret', 'play', 'vpon', 'god', 'blesse', 'sir', 'enter', 'polonius', 'polon', 'lord', 'queene', 'would', 'speak', 'presently', 'ham', 'see', 'clowd', 'almost', 'shape', 'like', 'camell', 'polon', 'masse', 'like', 'camell', 'indeed', 'ham', 'thinkes', 'like', 'weazell', 'polon', 'back', 'like', 'weazell', 'ham', 'like', 'whale', 'polon', 'verie', 'like', 'whale', 'ham', 'come', 'mother', 'foole', 'top', 'bent', 'come', 'polon', 'say', 'enter', 'ham', 'easily', 'said', 'leaue', 'friends', 'verie', 'witching', 'time', 'night', 'churchyards', 'yawne', 'hell', 'selfe', 'breaths', 'contagion', 'world', 'could', 'drink', 'hot', 'blood', 'bitter', 'businesse', 'day', 'would', 'quake', 'looke', 'soft', 'mother', 'oh', 'heart', 'loose', 'thy', 'nature', 'let', 'euer', 'soule', 'nero', 'enter', 'firme', 'bosome', 'let', 'cruell', 'vnnaturall', 'speake', 'daggers', 'vse', 'none', 'tongue', 'soule', 'hypocrites', 'words', 'someuer', 'shent', 'giue', 'seales', 'neuer', 'soule', 'consent', 'enter', 'king', 'rosincrance', 'guildensterne', 'king', 'like', 'stands', 'safe', 'vs', 'let', 'madnesse', 'range', 'therefore', 'prepare', 'commission', 'forthwith', 'dispatch', 'england', 'shall', 'along', 'termes', 'estate', 'may', 'endure', 'hazard', 'dangerous', 'doth', 'hourely', 'grow', 'lunacies', 'guild', 'selues', 'prouide', 'holie', 'religious', 'feare', 'keepe', 'many', 'many', 'bodies', 'safe', 'liue', 'feede', 'vpon', 'maiestie', 'rosin', 'single', 'peculiar', 'life', 'bound', 'strength', 'armour', 'minde', 'keepe', 'selfe', 'noyance', 'much', 'spirit', 'vpon', 'whose', 'spirit', 'depends', 'rests', 'liues', 'many', 'cease', 'maiestie', 'dies', 'alone', 'like', 'gulfe', 'doth', 'draw', 'neere', 'massie', 'wheele', 'fixt', 'somnet', 'highest', 'mount', 'whose', 'huge', 'spoakes', 'ten', 'thousand', 'lesser', 'things', 'mortiz', 'adioyn', 'falles', 'small', 'annexment', 'pettie', 'consequence', 'attends', 'boystrous', 'ruine', 'neuer', 'alone', 'king', 'sighe', 'generall', 'grone', 'king', 'arme', 'pray', 'speedie', 'voyage', 'fetters', 'put', 'vpon', 'feare', 'goes', 'haste', 'exeunt', 'gent', 'enter', 'polonius', 'pol', 'lord', 'going', 'mothers', 'closset', 'behinde', 'arras', 'ile', 'conuey', 'selfe', 'heare', 'processe', 'ile', 'warrant', 'tax', 'home', 'said', 'wisely', 'said', 'meete', 'audience', 'mother', 'since', 'nature', 'makes', 'partiall', 'speech', 'vantage', 'fare', 'well', 'liege', 'ile', 'call', 'vpon', 'ere', 'go', 'bed', 'tell', 'know', 'king', 'thankes', 'deere', 'lord', 'oh', 'offence', 'ranke', 'smels', 'heauen', 'hath', 'primall', 'eldest', 'curse', 'vpo', 'brothers', 'murther', 'pray', 'though', 'inclination', 'sharpe', 'stronger', 'guilt', 'defeats', 'strong', 'intent', 'like', 'man', 'double', 'businesse', 'bound', 'stand', 'pause', 'shall', 'first', 'begin', 'neglect', 'cursed', 'hand', 'thicker', 'selfe', 'brothers', 'blood', 'raine', 'enough', 'sweet', 'heauens', 'wash', 'white', 'snow', 'whereto', 'serues', 'mercy', 'confront', 'visage', 'offence', 'prayer', 'force', 'ere', 'come', 'fall', 'pardon', 'downe', 'ile', 'looke', 'vp', 'fault', 'past', 'oh', 'forme', 'prayer', 'serue', 'turne', 'forgiue', 'foule', 'murther', 'since', 'still', 'possest', 'effects', 'murther', 'crowne', 'mine', 'owne', 'ambition', 'queene', 'may', 'one', 'pardon', 'retaine', 'th', 'offence', 'corrupted', 'currants', 'world', 'offences', 'gilded', 'hand', 'may', 'shoue', 'iustice', 'oft', 'seene', 'wicked', 'prize', 'selfe', 'buyes', 'law', 'aboue', 'shuffling', 'action', 'lyes', 'true', 'nature', 'selues', 'euen', 'teeth', 'forehead', 'faults', 'giue', 'euidence', 'rests', 'try', 'repentance', 'yet', 'one', 'repent', 'oh', 'wretched', 'state', 'oh', 'bosome', 'blacke', 'death', 'oh', 'limed', 'soule', 'strugling', 'free', 'art', 'ingag', 'helpe', 'angels', 'make', 'assay', 'bow', 'stubborne', 'knees', 'heart', 'strings', 'steele', 'soft', 'sinewes', 'babe', 'may', 'well', 'enter', 'hamlet', 'ham', 'might', 'pat', 'praying', 'ile', 'goes', 'heauen', 'reueng', 'would', 'scann', 'villaine', 'killes', 'father', 'foule', 'sonne', 'villaine', 'send', 'heauen', 'oh', 'hyre', 'sallery', 'reuenge', 'tooke', 'father', 'grossely', 'full', 'bread', 'crimes', 'broad', 'blowne', 'fresh', 'may', 'audit', 'stands', 'knowes', 'saue', 'heauen', 'circumstance', 'course', 'thought', 'heauie', 'reueng', 'take', 'purging', 'soule', 'fit', 'season', 'passage', 'vp', 'sword', 'know', 'thou', 'horrid', 'hent', 'drunke', 'asleepe', 'rage', 'th', 'incestuous', 'pleasure', 'bed', 'gaming', 'swearing', 'acte', 'ha', 'rellish', 'saluation', 'trip', 'heeles', 'may', 'kicke', 'heauen', 'soule', 'may', 'damn', 'blacke', 'hell', 'whereto', 'goes', 'mother', 'stayes', 'physicke', 'prolongs', 'thy', 'sickly', 'dayes', 'enter', 'king', 'words', 'flye', 'vp', 'thoughts', 'remain', 'words', 'without', 'thoughts', 'neuer', 'heauen', 'go', 'enter', 'enter', 'queene', 'polonius', 'pol', 'come', 'straight', 'looke', 'lay', 'home', 'tell', 'prankes', 'haue', 'broad', 'beare', 'grace', 'hath', 'screen', 'stoode', 'betweene', 'much', 'heate', 'ile', 'silence', 'heere', 'pray', 'round', 'ham', 'within', 'mother', 'mother', 'mother', 'qu', 'ile', 'warrant', 'feare', 'withdraw', 'heare', 'coming', 'enter', 'hamlet', 'ham', 'mother', 'matter', 'qu', 'hamlet', 'thou', 'hast', 'thy', 'father', 'much', 'offended', 'ham', 'mother', 'haue', 'father', 'much', 'offended', 'qu', 'come', 'come', 'answer', 'idle', 'tongue', 'ham', 'go', 'go', 'question', 'idle', 'tongue', 'qu', 'hamlet', 'ham', 'whats', 'matter', 'qu', 'haue', 'forgot', 'ham', 'rood', 'queene', 'husbands', 'brothers', 'wife', 'would', 'mother', 'qu', 'nay', 'ile', 'set', 'speake', 'ham', 'come', 'come', 'sit', 'downe', 'shall', 'boudge', 'go', 'till', 'set', 'vp', 'glasse', 'may', 'see', 'inmost', 'part', 'qu', 'wilt', 'thou', 'thou', 'wilt', 'murther', 'helpe', 'helpe', 'hoa', 'pol', 'hoa', 'helpe', 'helpe', 'helpe', 'ham', 'rat', 'dead', 'ducate', 'dead', 'pol', 'oh', 'slaine', 'killes', 'polonius', 'qu', 'oh', 'hast', 'thou', 'done', 'ham', 'nay', 'know', 'king', 'qu', 'oh', 'rash', 'bloody', 'deed', 'ham', 'bloody', 'deed', 'almost', 'bad', 'good', 'mother', 'kill', 'king', 'marrie', 'brother', 'qu', 'kill', 'king', 'ham', 'lady', 'word', 'thou', 'wretched', 'rash', 'intruding', 'foole', 'farewell', 'tooke', 'thee', 'thy', 'betters', 'take', 'thy', 'fortune', 'thou', 'busie', 'danger', 'leaue', 'wringing', 'hands', 'peace', 'sit', 'downe', 'let', 'wring', 'heart', 'shall', 'made', 'penetrable', 'stuffe', 'damned', 'custome', 'haue', 'braz', 'proofe', 'bulwarke', 'sense', 'qu', 'haue', 'done', 'thou', 'wag', 'thy', 'tong', 'noise', 'rude', 'ham', 'act', 'blurres', 'grace', 'blush', 'modestie', 'cals', 'vertue', 'hypocrite', 'takes', 'rose', 'faire', 'forehead', 'innocent', 'loue', 'makes', 'blister', 'makes', 'marriage', 'vowes', 'false', 'dicers', 'oathes', 'oh', 'deed', 'body', 'contraction', 'pluckes', 'soule', 'sweete', 'religion', 'makes', 'rapsidie', 'words', 'heauens', 'face', 'doth', 'glow', 'yea', 'solidity', 'compound', 'masse', 'tristfull', 'visage', 'doome', 'act', 'qu', 'aye', 'act', 'roares', 'lowd', 'thunders', 'index', 'ham', 'looke', 'heere', 'vpon', 'picture', 'counterfet', 'presentment', 'two', 'brothers', 'see', 'grace', 'seated', 'brow', 'hyperions', 'curles', 'front', 'ioue', 'himselfe', 'eye', 'like', 'mars', 'threaten', 'command', 'station', 'like', 'herald', 'mercurie', 'new', 'lighted', 'hill', 'combination', 'forme', 'indeed', 'euery', 'god', 'seeme', 'set', 'seale', 'giue', 'world', 'assurance', 'man', 'husband', 'looke', 'followes', 'heere', 'husband', 'like', 'mildew', 'eare', 'blasting', 'wholsom', 'breath', 'haue', 'eyes', 'could', 'faire', 'mountaine', 'leaue', 'feed', 'batten', 'moore', 'ha', 'haue', 'eyes', 'call', 'loue', 'age', 'blood', 'tame', 'humble', 'waites', 'vpon', 'iudgement', 'iudgement', 'would', 'step', 'diuell', 'thus', 'hath', 'cousend', 'shame', 'thy', 'blush', 'rebellious', 'hell', 'thou', 'canst', 'mutine', 'matrons', 'bones', 'flaming', 'youth', 'let', 'vertue', 'waxe', 'melt', 'owne', 'fire', 'proclaime', 'shame', 'compulsiue', 'ardure', 'giues', 'charge', 'since', 'frost', 'selfe', 'actiuely', 'doth', 'burne', 'reason', 'panders', 'qu', 'hamlet', 'speake', 'thou', 'mine', 'eyes', 'soule', 'see', 'blacke', 'grained', 'spots', 'leaue', 'tinct', 'ham', 'nay', 'liue', 'ranke', 'sweat', 'enseamed', 'bed', 'stew', 'corruption', 'honying', 'making', 'loue', 'ouer', 'nasty', 'stye', 'qu', 'oh', 'speake', 'words', 'like', 'daggers', 'enter', 'mine', 'eares', 'sweet', 'hamlet', 'ham', 'murderer', 'villaine', 'slaue', 'twentieth', 'part', 'tythe', 'precedent', 'lord', 'vice', 'kings', 'cutpurse', 'empire', 'rule', 'shelfe', 'precious', 'diadem', 'stole', 'put', 'pocket', 'qu', 'enter', 'ghost', 'ham', 'king', 'shreds', 'patches', 'saue', 'houer', 'wings', 'heauenly', 'guards', 'would', 'gracious', 'figure', 'qu', 'alas', 'mad', 'ham', 'come', 'tardy', 'sonne', 'chide', 'time', 'passion', 'lets', 'go', 'th', 'important', 'acting', 'dread', 'command', 'oh', 'say', 'ghost', 'forget', 'visitation', 'whet', 'thy', 'almost', 'blunted', 'purpose', 'looke', 'amazement', 'thy', 'mother', 'sits', 'step', 'betweene', 'fighting', 'soule', 'conceit', 'weakest', 'bodies', 'strongest', 'workes', 'speake', 'hamlet', 'ham', 'lady', 'qu', 'alas', 'bend', 'eye', 'vacancie', 'corporall', 'ayre', 'hold', 'discourse', 'forth', 'eyes', 'spirits', 'wildely', 'peepe', 'sleeping', 'soldiours', 'th', 'alarme', 'bedded', 'haire', 'like', 'life', 'excrements', 'start', 'vp', 'stand', 'end', 'oh', 'gentle', 'sonne', 'vpon', 'heate', 'flame', 'thy', 'distemper', 'sprinkle', 'coole', 'patience', 'whereon', 'looke', 'ham', 'look', 'pale', 'glares', 'forme', 'cause', 'conioyn', 'preaching', 'stones', 'would', 'make', 'capeable', 'looke', 'vpon', 'least', 'pitteous', 'action', 'conuert', 'sterne', 'effects', 'haue', 'want', 'true', 'colour', 'teares', 'perchance', 'blood', 'qu', 'speake', 'ham', 'see', 'nothing', 'qu', 'nothing', 'yet', 'see', 'ham', 'nothing', 'heare', 'qu', 'nothing', 'selues', 'ham', 'look', 'looke', 'steals', 'away', 'father', 'habite', 'liued', 'looke', 'goes', 'euen', 'portall', 'enter', 'qu', 'coynage', 'braine', 'bodilesse', 'creation', 'extasie', 'cunning', 'ham', 'extasie', 'pulse', 'doth', 'temperately', 'keepe', 'time', 'makes', 'healthfull', 'musicke', 'madnesse', 'haue', 'vttered', 'bring', 'test', 'matter', 'madnesse', 'would', 'gamboll', 'mother', 'loue', 'grace', 'lay', 'flattering', 'vnction', 'soule', 'trespasse', 'madnesse', 'speakes', 'skin', 'filme', 'vlcerous', 'place', 'ranke', 'corruption', 'mining', 'within', 'infects', 'vnseene', 'confesse', 'selfe', 'heauen', 'repent', 'past', 'auoyd', 'come', 'spred', 'compost', 'weedes', 'make', 'ranke', 'forgiue', 'vertue', 'fatnesse', 'pursie', 'times', 'vertue', 'selfe', 'vice', 'must', 'pardon', 'begge', 'yea', 'courb', 'woe', 'leaue', 'good', 'qu', 'oh', 'hamlet', 'thou', 'hast', 'cleft', 'heart', 'twaine', 'ham', 'throw', 'away', 'worser', 'part', 'liue', 'purer', 'halfe', 'good', 'night', 'go', 'mine', 'vnkles', 'bed', 'assume', 'vertue', 'haue', 'refraine', 'night', 'shall', 'lend', 'kinde', 'easinesse', 'next', 'abstinence', 'goodnight', 'desirous', 'blest', 'ile', 'blessing', 'begge', 'lord', 'repent', 'heauen', 'hath', 'pleas', 'punish', 'must', 'scourge', 'minister', 'bestow', 'answer', 'well', 'death', 'gaue', 'againe', 'good', 'night', 'must', 'cruell', 'onely', 'kinde', 'thus', 'bad', 'begins', 'worse', 'remaines', 'behinde', 'qu', 'shall', 'ham', 'meanes', 'bid', 'let', 'blunt', 'king', 'tempt', 'againe', 'bed', 'pinch', 'wanton', 'cheeke', 'call', 'mouse', 'let', 'paire', 'reechie', 'kisses', 'padling', 'necke', 'damn', 'fingers', 'make', 'rauell', 'matter', 'essentially', 'madnesse', 'made', 'craft', 'good', 'let', 'know', 'queene', 'faire', 'sober', 'wise', 'would', 'paddocke', 'bat', 'gibbe', 'deere', 'concernings', 'hide', 'would', 'despight', 'sense', 'secrecie', 'vnpegge', 'basket', 'houses', 'top', 'let', 'birds', 'flye', 'like', 'famous', 'ape', 'try', 'conclusions', 'basket', 'creepe', 'breake', 'owne', 'necke', 'downe', 'qu', 'thou', 'assur', 'words', 'made', 'breath', 'breath', 'life', 'haue', 'life', 'breath', 'thou', 'hast', 'saide', 'ham', 'must', 'england', 'know', 'qu', 'alacke', 'forgot', 'concluded', 'ham', 'man', 'shall', 'set', 'packing', 'ile', 'lugge', 'guts', 'neighbor', 'roome', 'mother', 'goodnight', 'indeede', 'counsellor', 'still', 'secret', 'graue', 'life', 'foolish', 'prating', 'knaue', 'come', 'sir', 'draw', 'toward', 'end', 'good', 'night', 'mother', 'exit', 'hamlet', 'tugging', 'polonius', 'enter', 'king', 'king', 'matters', 'sighes', 'profound', 'heaues', 'must', 'translate', 'tis', 'fit', 'vnderstand', 'sonne', 'qu', 'ah', 'good', 'lord', 'haue', 'seene', 'night', 'king', 'gertrude', 'hamlet', 'qu', 'mad', 'seas', 'winde', 'contend', 'mightier', 'lawlesse', 'fit', 'behinde', 'arras', 'hearing', 'something', 'stirre', 'whips', 'rapier', 'cries', 'rat', 'rat', 'brainish', 'apprehension', 'killes', 'vnseene', 'good', 'old', 'man', 'king', 'oh', 'heauy', 'deed', 'bin', 'vs', 'beene', 'liberty', 'full', 'threats', 'selfe', 'vs', 'euery', 'one', 'alas', 'shall', 'bloody', 'deede', 'answered', 'laide', 'vs', 'whose', 'prouidence', 'haue', 'kept', 'short', 'restrain', 'haunt', 'mad', 'yong', 'man', 'much', 'loue', 'would', 'vnderstand', 'fit', 'like', 'owner', 'foule', 'disease', 'keepe', 'divulging', 'let', 'feede', 'euen', 'pith', 'life', 'gone', 'qu', 'draw', 'apart', 'body', 'hath', 'kild', 'madnesse', 'like', 'oare', 'among', 'minerall', 'mettels', 'base', 'shewes', 'selfe', 'pure', 'weepes', 'done', 'king', 'oh', 'gertrude', 'come', 'away', 'sun', 'sooner', 'shall', 'mountaines', 'touch', 'ship', 'hence', 'vilde', 'deed', 'must', 'maiesty', 'skill', 'countenance', 'excuse', 'enter', 'ros', 'guild', 'ho', 'guildenstern', 'friends', 'go', 'ioyne', 'ayde', 'hamlet', 'madnesse', 'hath', 'polonius', 'slaine', 'mother', 'clossets', 'hath', 'drag', 'go', 'seeke', 'speake', 'faire', 'bring', 'body', 'chappell', 'pray', 'hast', 'exit', 'gent', 'come', 'gertrude', 'call', 'vp', 'wisest', 'friends', 'let', 'know', 'meane', 'vntimely', 'done', 'oh', 'come', 'away', 'soule', 'full', 'discord', 'dismay', 'exeunt', 'enter', 'hamlet', 'ham', 'safely', 'stowed', 'gentlemen', 'within', 'hamlet', 'lord', 'hamlet', 'ham', 'noise', 'cals', 'hamlet', 'oh', 'heere', 'come', 'enter', 'ros', 'guildensterne', 'ro', 'haue', 'done', 'lord', 'dead', 'body', 'ham', 'compounded', 'dust', 'whereto', 'kinne', 'rosin', 'tell', 'vs', 'may', 'take', 'thence', 'beare', 'chappell', 'ham', 'beleeue', 'rosin', 'beleeue', 'ham', 'keepe', 'counsell', 'mine', 'owne', 'besides', 'demanded', 'spundge', 'replication', 'made', 'sonne', 'king', 'rosin', 'take', 'spundge', 'lord', 'ham', 'sir', 'sokes', 'vp', 'kings', 'countenance', 'rewards', 'authorities', 'officers', 'king', 'best', 'seruice', 'end', 'keepes', 'like', 'ape', 'corner', 'iaw', 'first', 'mouth', 'last', 'swallowed', 'needes', 'haue', 'glean', 'squeezing', 'spundge', 'shall', 'dry', 'againe', 'rosin', 'vnderstand', 'lord', 'ham', 'glad', 'knauish', 'speech', 'sleepes', 'foolish', 'eare', 'rosin', 'lord', 'must', 'tell', 'vs', 'body', 'go', 'vs', 'king', 'ham', 'body', 'king', 'king', 'body', 'king', 'guild', 'thing', 'lord', 'ham', 'nothing', 'bring', 'hide', 'fox', 'exeunt', 'enter', 'king', 'king', 'haue', 'sent', 'seeke', 'find', 'bodie', 'dangerous', 'man', 'goes', 'loose', 'yet', 'must', 'put', 'strong', 'law', 'hee', 'loued', 'distracted', 'multitude', 'like', 'iudgement', 'eyes', 'th', 'offenders', 'scourge', 'neerer', 'offence', 'beare', 'smooth', 'euen', 'sodaine', 'sending', 'away', 'must', 'seeme', 'deliberate', 'pause', 'diseases', 'desperate', 'growne', 'desperate', 'appliance', 'releeued', 'enter', 'rosincrane', 'hath', 'befalne', 'rosin', 'dead', 'body', 'bestow', 'lord', 'get', 'king', 'rosin', 'without', 'lord', 'guarded', 'know', 'pleasure', 'king', 'bring', 'vs', 'rosin', 'hoa', 'guildensterne', 'bring', 'lord', 'enter', 'hamlet', 'guildensterne', 'king', 'hamlet', 'polonius', 'ham', 'supper', 'king', 'supper', 'ham', 'eats', 'eaten', 'certaine', 'conuocation', 'wormes', 'worm', 'onely', 'emperor', 'diet', 'fat', 'creatures', 'else', 'fat', 'vs', 'fat', 'selfe', 'magots', 'fat', 'king', 'leane', 'begger', 'variable', 'seruice', 'dishes', 'one', 'table', 'end', 'king', 'dost', 'thou', 'meane', 'ham', 'nothing', 'shew', 'king', 'may', 'go', 'progresse', 'guts', 'begger', 'king', 'polonius', 'ham', 'heauen', 'send', 'thither', 'see', 'messenger', 'finde', 'seeke', 'place', 'selfe', 'indeed', 'finde', 'moneth', 'shall', 'nose', 'go', 'vp', 'staires', 'lobby', 'king', 'go', 'seeke', 'ham', 'stay', 'till', 'ye', 'come', 'hamlet', 'deed', 'thine', 'thine', 'especial', 'safety', 'tender', 'deerely', 'greeue', 'thou', 'hast', 'done', 'must', 'send', 'thee', 'hence', 'fierie', 'quicknesse', 'therefore', 'prepare', 'thy', 'selfe', 'barke', 'readie', 'winde', 'helpe', 'th', 'associates', 'tend', 'euery', 'thing', 'bent', 'england', 'ham', 'england', 'king', 'hamlet', 'ham', 'good', 'king', 'thou', 'purposes', 'ham', 'see', 'cherube', 'see', 'come', 'england', 'farewell', 'deere', 'mother', 'king', 'thy', 'louing', 'father', 'hamlet', 'hamlet', 'mother', 'father', 'mother', 'man', 'wife', 'man', 'wife', 'one', 'flesh', 'mother', 'come', 'england', 'exit', 'king', 'follow', 'foote', 'tempt', 'speed', 'aboord', 'delay', 'ile', 'haue', 'hence', 'night', 'away', 'euery', 'thing', 'seal', 'done', 'else', 'leanes', 'th', 'affaire', 'pray', 'make', 'hast', 'england', 'loue', 'thou', 'holdst', 'ought', 'great', 'power', 'thereof', 'may', 'giue', 'thee', 'sense', 'since', 'yet', 'thy', 'cicatrice', 'lookes', 'raw', 'red', 'danish', 'sword', 'thy', 'free', 'awe', 'payes', 'homage', 'vs', 'thou', 'maist', 'coldly', 'set', 'soueraigne', 'processe', 'imports', 'full', 'letters', 'coniuring', 'effect', 'present', 'death', 'hamlet', 'england', 'like', 'hecticke', 'blood', 'rages', 'thou', 'must', 'cure', 'till', 'know', 'done', 'ere', 'happes', 'ioyes', 'ne', 'begun', 'exit', 'enter', 'fortinbras', 'armie', 'go', 'captaine', 'greet', 'danish', 'king', 'tell', 'license', 'fortinbras', 'claimes', 'conueyance', 'promis', 'march', 'ouer', 'kingdome', 'know', 'rendeuous', 'maiesty', 'would', 'ought', 'vs', 'shall', 'expresse', 'dutie', 'eye', 'let', 'know', 'cap', 'lord', 'go', 'safely', 'enter', 'enter', 'queene', 'horatio', 'qu', 'speake', 'hor', 'importunate', 'indeed', 'distract', 'moode', 'needs', 'pittied', 'qu', 'would', 'haue', 'hor', 'speakes', 'much', 'father', 'saies', 'heares', 'trickes', 'world', 'hems', 'beats', 'heart', 'spurnes', 'enuiously', 'strawes', 'speakes', 'things', 'doubt', 'carry', 'halfe', 'sense', 'speech', 'nothing', 'yet', 'vnshaped', 'vse', 'doth', 'moue', 'hearers', 'collection', 'ayme', 'botch', 'words', 'vp', 'fit', 'owne', 'thoughts', 'winkes', 'nods', 'gestures', 'yeeld', 'indeed', 'would', 'make', 'one', 'thinke', 'would', 'thought', 'though', 'nothing', 'sure', 'yet', 'much', 'vnhappily', 'qu', 'good', 'spoken', 'may', 'strew', 'dangerous', 'coniectures', 'ill', 'breeding', 'minds', 'let', 'come', 'sicke', 'soule', 'sinnes', 'true', 'nature', 'toy', 'seemes', 'prologue', 'great', 'amisse', 'full', 'artlesse', 'iealousie', 'guilt', 'spill', 'selfe', 'fearing', 'spilt', 'enter', 'ophelia', 'distracted', 'ophe', 'beauteous', 'maiesty', 'denmark', 'qu', 'ophelia', 'ophe', 'true', 'loue', 'know', 'another', 'one', 'cockle', 'hat', 'staffe', 'sandal', 'shoone', 'qu', 'alas', 'sweet', 'lady', 'imports', 'song', 'ophe', 'say', 'nay', 'pray', 'marke', 'dead', 'gone', 'lady', 'dead', 'gone', 'head', 'turfe', 'heeles', 'stone', 'enter', 'king', 'qu', 'nay', 'ophelia', 'ophe', 'pray', 'marke', 'white', 'shrow', 'mountaine', 'snow', 'qu', 'alas', 'looke', 'heere', 'lord', 'ophe', 'larded', 'sweet', 'flowers', 'bewept', 'graue', 'go', 'showres', 'king', 'ye', 'pretty', 'lady', 'ophe', 'well', 'god', 'dil', 'say', 'owle', 'bakers', 'daughter', 'lord', 'wee', 'know', 'know', 'may', 'god', 'table', 'king', 'conceit', 'vpon', 'father', 'ophe', 'pray', 'let', 'haue', 'words', 'aske', 'meanes', 'say', 'morrow', 'aint', 'valentines', 'day', 'morning', 'betime', 'maid', 'window', 'valentine', 'vp', 'rose', 'clothes', 'dupt', 'chamber', 'dore', 'let', 'maid', 'maid', 'neuer', 'departed', 'king', 'pretty', 'ophelia', 'ophe', 'indeed', 'la', 'without', 'oath', 'ile', 'make', 'end', 'ont', 'gis', 'aint', 'charity', 'alacke', 'fie', 'shame', 'yong', 'men', 'wil', 'come', 'cocke', 'blame', 'quoth', 'tumbled', 'promis', 'wed', 'would', 'ha', 'done', 'yonder', 'sunne', 'thou', 'hadst', 'come', 'bed', 'king', 'long', 'hath', 'bin', 'thus', 'ophe', 'hope', 'well', 'must', 'bee', 'patient', 'choose', 'weepe', 'thinke', 'lay', 'cold', 'ground', 'brother', 'shall', 'knowe', 'thanke', 'good', 'counsell', 'come', 'coach', 'goodnight', 'ladies', 'goodnight', 'sweet', 'ladies', 'goodnight', 'goodnight', 'enter', 'king', 'follow', 'close', 'giue', 'good', 'watch', 'pray', 'oh', 'poyson', 'deepe', 'greefe', 'springs', 'fathers', 'death', 'oh', 'gertrude', 'gertrude', 'sorrowes', 'comes', 'come', 'single', 'spies', 'battalians', 'first', 'father', 'slaine', 'next', 'sonne', 'gone', 'violent', 'author', 'owne', 'iust', 'remoue', 'people', 'muddied', 'thicke', 'vnwholsome', 'thoughts', 'whispers', 'good', 'polonius', 'death', 'haue', 'done', 'greenly', 'hugger', 'mugger', 'interre', 'poore', 'ophelia', 'diuided', 'selfe', 'faire', 'iudgement', 'without', 'pictures', 'meere', 'beasts', 'last', 'much', 'containing', 'brother', 'secret', 'come', 'france', 'keepes', 'wonder', 'keepes', 'himselfe', 'clouds', 'wants', 'buzzers', 'infect', 'eare', 'pestilent', 'speeches', 'fathers', 'death', 'necessitie', 'matter', 'beggard', 'nothing', 'sticke', 'persons', 'arraigne', 'eare', 'eare', 'deere', 'gertrude', 'like', 'murdering', 'peece', 'many', 'places', 'giues', 'superfluous', 'death', 'noise', 'within', 'enter', 'messenger', 'qu', 'alacke', 'noyse', 'king', 'switzers', 'let', 'guard', 'doore', 'matter', 'mes', 'saue', 'selfe', 'lord', 'ocean', 'list', 'eates', 'flats', 'impittious', 'haste', 'young', 'laertes', 'riotous', 'head', 'officers', 'rabble', 'call', 'lord', 'world', 'begin', 'antiquity', 'forgot', 'custome', 'knowne', 'ratifiers', 'props', 'euery', 'word', 'cry', 'choose', 'laertes', 'shall', 'king', 'caps', 'hands', 'tongues', 'applaud', 'clouds', 'laertes', 'shall', 'king', 'laertes', 'king', 'qu', 'cheerefully', 'false', 'traile', 'cry', 'oh', 'counter', 'false', 'danish', 'dogges', 'noise', 'within', 'enter', 'laertes', 'king', 'doores', 'broke', 'laer', 'king', 'sirs', 'stand', 'without', 'let', 'come', 'laer', 'pray', 'giue', 'leaue', 'al', 'laer', 'thanke', 'keepe', 'doore', 'oh', 'thou', 'vilde', 'king', 'giue', 'father', 'qu', 'calmely', 'good', 'laertes', 'laer', 'drop', 'blood', 'calmes', 'proclaimes', 'bastard', 'cries', 'cuckold', 'father', 'brands', 'harlot', 'euen', 'heere', 'betweene', 'chaste', 'vnsmirched', 'brow', 'true', 'mother', 'king', 'cause', 'laertes', 'thy', 'rebellion', 'lookes', 'let', 'go', 'gertrude', 'feare', 'person', 'diuinity', 'doth', 'hedge', 'king', 'treason', 'peepe', 'would', 'acts', 'little', 'tell', 'laertes', 'thou', 'art', 'thus', 'incenst', 'let', 'go', 'gertrude', 'speake', 'man', 'laer', 'father', 'king', 'dead', 'qu', 'king', 'let', 'demand', 'fill', 'laer', 'came', 'dead', 'ile', 'iuggel', 'hell', 'allegeance', 'vowes', 'blackest', 'diuell', 'conscience', 'grace', 'profoundest', 'pit', 'dare', 'damnation', 'point', 'stand', 'worlds', 'giue', 'negligence', 'let', 'come', 'comes', 'onely', 'ile', 'throughly', 'father', 'king', 'shall', 'stay', 'laer', 'world', 'meanes', 'ile', 'husband', 'well', 'shall', 'go', 'farre', 'little', 'king', 'good', 'laertes', 'desire', 'know', 'certaintie', 'deere', 'fathers', 'death', 'writ', 'reuenge', 'draw', 'friend', 'foe', 'winner', 'looser', 'laer', 'none', 'enemies', 'king', 'know', 'la', 'good', 'friends', 'thus', 'wide', 'ile', 'ope', 'armes', 'like', 'kinde', 'politician', 'repast', 'blood', 'king', 'speake', 'like', 'good', 'childe', 'true', 'gentleman', 'guiltlesse', 'fathers', 'death', 'sensible', 'greefe', 'shall', 'leuell', 'iudgement', 'pierce', 'day', 'eye', 'noise', 'within', 'let', 'come', 'enter', 'ophelia', 'laer', 'noise', 'oh', 'heate', 'drie', 'vp', 'braines', 'teares', 'seuen', 'times', 'salt', 'burne', 'sence', 'vertue', 'mine', 'eye', 'heauen', 'thy', 'madnesse', 'shall', 'payed', 'waight', 'till', 'scale', 'turnes', 'beame', 'oh', 'rose', 'may', 'deere', 'maid', 'kinde', 'sister', 'sweet', 'ophelia', 'oh', 'heauens', 'possible', 'yong', 'maids', 'wits', 'mortall', 'old', 'mans', 'life', 'nature', 'fine', 'loue', 'fine', 'sends', 'precious', 'instance', 'selfe', 'thing', 'loues', 'ophe', 'bore', 'bare', 'fac', 'beer', 'hey', 'non', 'nony', 'nony', 'hey', 'nony', 'graue', 'raines', 'many', 'teare', 'fare', 'well', 'doue', 'laer', 'thou', 'thy', 'wits', 'perswade', 'reuenge', 'could', 'moue', 'thus', 'ophe', 'must', 'sing', 'downe', 'call', 'oh', 'wheele', 'becomes', 'false', 'steward', 'stole', 'masters', 'daughter', 'laer', 'nothings', 'matter', 'ophe', 'rosemary', 'remembraunce', 'pray', 'loue', 'remember', 'paconcies', 'thoughts', 'laer', 'document', 'madnesse', 'thoughts', 'remembrance', 'fitted', 'ophe', 'fennell', 'columbines', 'rew', 'heere', 'wee', 'may', 'call', 'sundaies', 'oh', 'must', 'weare', 'rew', 'difference', 'daysie', 'would', 'giue', 'violets', 'wither', 'father', 'dyed', 'say', 'made', 'good', 'end', 'bonny', 'sweet', 'robin', 'ioy', 'laer', 'thought', 'affliction', 'passion', 'hell', 'selfe', 'turnes', 'fauour', 'prettinesse', 'ophe', 'come', 'againe', 'come', 'againe', 'dead', 'go', 'thy', 'neuer', 'wil', 'come', 'againe', 'beard', 'white', 'snow', 'flaxen', 'pole', 'gone', 'gone', 'cast', 'away', 'mone', 'gramercy', 'soule', 'christian', 'soules', 'pray', 'god', 'god', 'buy', 'ye', 'exeunt', 'ophelia', 'laer', 'see', 'gods', 'king', 'laertes', 'must', 'common', 'greefe', 'deny', 'right', 'go', 'apart', 'make', 'choice', 'wisest', 'friends', 'shall', 'heare', 'iudge', 'direct', 'colaterall', 'hand', 'finde', 'vs', 'touch', 'kingdome', 'giue', 'crowne', 'life', 'call', 'satisfaction', 'content', 'lend', 'patience', 'vs', 'shall', 'ioyntly', 'labour', 'soule', 'giue', 'due', 'content', 'laer', 'let', 'meanes', 'death', 'obscure', 'buriall', 'trophee', 'sword', 'hatchment', 'bones', 'noble', 'rite', 'formall', 'ostentation', 'cry', 'heard', 'heauen', 'earth', 'must', 'call', 'question', 'king', 'shall', 'th', 'offence', 'let', 'great', 'axe', 'fall', 'pray', 'go', 'exeunt', 'enter', 'horatio', 'attendant', 'hora', 'would', 'speake', 'ser', 'saylors', 'sir', 'say', 'haue', 'letters', 'hor', 'let', 'come', 'know', 'part', 'world', 'greeted', 'lord', 'hamlet', 'enter', 'saylor', 'say', 'god', 'blesse', 'sir', 'hor', 'let', 'blesse', 'thee', 'say', 'hee', 'shall', 'sir', 'please', 'letter', 'sir', 'comes', 'th', 'ambassadours', 'bound', 'england', 'name', 'horatio', 'let', 'know', 'reads', 'letter', 'horatio', 'thou', 'shalt', 'haue', 'ouerlook', 'giue', 'fellowes', 'meanes', 'king', 'haue', 'letters', 'ere', 'two', 'dayes', 'old', 'sea', 'pyrate', 'warlicke', 'appointment', 'gaue', 'vs', 'chace', 'finding', 'selues', 'slow', 'saile', 'put', 'compelled', 'valour', 'grapple', 'boorded', 'instant', 'got', 'cleare', 'shippe', 'alone', 'became', 'prisoner', 'haue', 'dealt', 'mee', 'like', 'theeues', 'mercy', 'knew', 'doe', 'good', 'turne', 'let', 'king', 'haue', 'letters', 'haue', 'sent', 'repaire', 'thou', 'much', 'hast', 'thou', 'wouldest', 'flye', 'death', 'haue', 'words', 'speake', 'eare', 'make', 'thee', 'dumbe', 'yet', 'much', 'light', 'bore', 'matter', 'good', 'fellowes', 'bring', 'thee', 'rosincrance', 'guildensterne', 'hold', 'course', 'england', 'haue', 'much', 'tell', 'thee', 'farewell', 'thou', 'knowest', 'thine', 'hamlet', 'come', 'giue', 'way', 'letters', 'speedier', 'may', 'direct', 'brought', 'enter', 'enter', 'king', 'laertes', 'king', 'must', 'conscience', 'acquittance', 'seal', 'must', 'put', 'heart', 'friend', 'sith', 'haue', 'heard', 'knowing', 'eare', 'hath', 'noble', 'father', 'slaine', 'pursued', 'life', 'laer', 'well', 'appeares', 'tell', 'proceeded', 'feates', 'crimefull', 'capitall', 'nature', 'safety', 'wisedome', 'things', 'else', 'mainly', 'stirr', 'vp', 'king', 'two', 'speciall', 'reasons', 'may', 'perhaps', 'seeme', 'much', 'vnsinnowed', 'yet', 'strong', 'queen', 'mother', 'liues', 'almost', 'lookes', 'selfe', 'vertue', 'plague', 'either', 'coniunctiue', 'life', 'soule', 'starre', 'moues', 'sphere', 'could', 'motiue', 'publike', 'count', 'might', 'go', 'great', 'loue', 'generall', 'gender', 'beare', 'dipping', 'faults', 'affection', 'would', 'like', 'spring', 'turneth', 'wood', 'stone', 'conuert', 'gyues', 'graces', 'arrowes', 'slightly', 'timbred', 'loud', 'winde', 'would', 'haue', 'reuerted', 'bow', 'againe', 'arm', 'laer', 'haue', 'noble', 'father', 'lost', 'sister', 'driuen', 'desperate', 'tearmes', 'praises', 'may', 'go', 'backe', 'againe', 'stood', 'challenger', 'mount', 'age', 'perfections', 'reuenge', 'come', 'king', 'breake', 'sleepes', 'must', 'thinke', 'made', 'stuffe', 'flat', 'dull', 'let', 'beard', 'shooke', 'danger', 'thinke', 'pastime', 'shortly', 'shall', 'heare', 'lou', 'father', 'loue', 'selfe', 'hope', 'teach', 'enter', 'messenger', 'newes', 'mes', 'letters', 'lord', 'hamlet', 'maiesty', 'queene', 'king', 'hamlet', 'brought', 'mes', 'saylors', 'lord', 'say', 'saw', 'giuen', 'claudio', 'receiu', 'king', 'laertes', 'shall', 'heare', 'leaue', 'exit', 'messenger', 'high', 'mighty', 'shall', 'know', 'set', 'naked', 'kingdome', 'morrow', 'shall', 'begge', 'leaue', 'see', 'kingly', 'eyes', 'shall', 'first', 'asking', 'pardon', 'thereunto', 'recount', 'th', 'occasions', 'sodaine', 'strange', 'returne', 'hamlet', 'meane', 'rest', 'come', 'backe', 'abuse', 'thing', 'laer', 'know', 'hand', 'kin', 'hamlets', 'character', 'naked', 'postscript', 'sayes', 'alone', 'aduise', 'laer', 'lost', 'lord', 'let', 'come', 'warmes', 'sicknesse', 'heart', 'shall', 'liue', 'tell', 'teeth', 'thus', 'diddest', 'thou', 'kin', 'laertes', 'otherwise', 'rul', 'laer', 'peace', 'kin', 'thine', 'owne', 'peace', 'return', 'checking', 'voyage', 'meanes', 'vndertake', 'worke', 'exployt', 'ripe', 'deuice', 'vnder', 'shall', 'choose', 'fall', 'death', 'winde', 'blame', 'shall', 'breath', 'euen', 'mother', 'shall', 'vncharge', 'practice', 'call', 'accident', 'two', 'monthes', 'hence', 'gentleman', 'normandy', 'seene', 'selfe', 'seru', 'french', 'ran', 'well', 'horsebacke', 'gallant', 'witchcraft', 'grew', 'seat', 'wondrous', 'brought', 'horse', 'beene', 'braue', 'beast', 'farre', 'past', 'thought', 'forgery', 'shapes', 'trickes', 'come', 'short', 'laer', 'norman', 'kin', 'norman', 'laer', 'vpon', 'life', 'lamound', 'kin', 'laer', 'know', 'well', 'brooch', 'indeed', 'iemme', 'nation', 'kin', 'hee', 'mad', 'confession', 'gaue', 'masterly', 'report', 'art', 'exercise', 'defence', 'rapier', 'especiall', 'cryed', 'sight', 'indeed', 'one', 'could', 'match', 'sir', 'report', 'hamlet', 'envenom', 'enuy', 'could', 'nothing', 'doe', 'wish', 'begge', 'sodaine', 'comming', 'ore', 'play', 'laer', 'lord', 'kin', 'laertes', 'father', 'deare', 'like', 'painting', 'sorrow', 'face', 'without', 'heart', 'laer', 'aske', 'kin', 'thinke', 'loue', 'father', 'know', 'loue', 'begun', 'time', 'see', 'passages', 'proofe', 'time', 'qualifies', 'sparke', 'fire', 'hamlet', 'comes', 'backe', 'would', 'vndertake', 'show', 'selfe', 'fathers', 'sonne', 'indeed', 'words', 'laer', 'cut', 'throat', 'church', 'kin', 'place', 'indeed', 'murder', 'sancturize', 'reuenge', 'haue', 'bounds', 'good', 'laertes', 'doe', 'keepe', 'close', 'within', 'chamber', 'hamlet', 'return', 'shall', 'know', 'come', 'home', 'put', 'shall', 'praise', 'excellence', 'set', 'double', 'varnish', 'fame', 'frenchman', 'gaue', 'bring', 'fine', 'together', 'wager', 'heads', 'remisse', 'generous', 'free', 'contriuing', 'peruse', 'foiles', 'ease', 'little', 'shuffling', 'may', 'choose', 'sword', 'vnbaited', 'passe', 'practice', 'requit', 'father', 'laer', 'purpose', 'ile', 'annoint', 'sword', 'bought', 'vnction', 'mountebanke', 'mortall', 'dipt', 'knife', 'drawes', 'blood', 'cataplasme', 'rare', 'collected', 'simples', 'haue', 'vertue', 'vnder', 'moone', 'saue', 'thing', 'death', 'scratcht', 'withall', 'ile', 'touch', 'point', 'contagion', 'gall', 'slightly', 'may', 'death', 'kin', 'let', 'thinke', 'weigh', 'conuenience', 'time', 'meanes', 'may', 'fit', 'vs', 'shape', 'faile', 'drift', 'looke', 'bad', 'performance', 'better', 'assaid', 'therefore', 'proiect', 'haue', 'backe', 'second', 'might', 'hold', 'blast', 'proofe', 'soft', 'let', 'see', 'make', 'solemne', 'wager', 'commings', 'motion', 'hot', 'dry', 'make', 'bowts', 'violent', 'end', 'cals', 'drinke', 'ile', 'haue', 'prepar', 'challice', 'nonce', 'whereon', 'sipping', 'chance', 'escape', 'venom', 'stuck', 'purpose', 'may', 'hold', 'sweet', 'queene', 'enter', 'queene', 'queen', 'one', 'woe', 'doth', 'tread', 'vpon', 'anothers', 'heele', 'fast', 'follow', 'sister', 'drown', 'laertes', 'laer', 'drown', 'queen', 'willow', 'growes', 'aslant', 'brooke', 'shewes', 'hore', 'leaues', 'glassie', 'streame', 'fantasticke', 'garlands', 'come', 'nettles', 'daysies', 'long', 'purples', 'liberall', 'shepheards', 'giue', 'grosser', 'name', 'cold', 'maids', 'doe', 'dead', 'mens', 'fingers', 'call', 'pendant', 'boughes', 'coronet', 'weeds', 'clambring', 'hang', 'enuious', 'sliuer', 'broke', 'downe', 'weedy', 'trophies', 'selfe', 'fell', 'weeping', 'brooke', 'cloathes', 'spred', 'wide', 'bore', 'vp', 'time', 'chaunted', 'snatches', 'old', 'tunes', 'one', 'incapable', 'owne', 'distresse', 'like', 'creature', 'natiue', 'indued', 'vnto', 'element', 'long', 'could', 'till', 'garments', 'heauy', 'drinke', 'pul', 'poore', 'wretch', 'melodious', 'buy', 'muddy', 'death', 'laer', 'alas', 'drown', 'queen', 'drown', 'laer', 'much', 'water', 'hast', 'thou', 'poore', 'ophelia', 'therefore', 'forbid', 'teares', 'yet', 'tricke', 'nature', 'custome', 'holds', 'let', 'shame', 'say', 'gone', 'woman', 'adue', 'lord', 'haue', 'speech', 'fire', 'faine', 'would', 'blaze', 'folly', 'doubts', 'enter', 'kin', 'let', 'follow', 'gertrude', 'much', 'doe', 'calme', 'rage', 'feare', 'giue', 'start', 'againe', 'therefore', 'let', 'follow', 'exeunt', 'enter', 'two', 'clownes', 'clown', 'bee', 'buried', 'christian', 'buriall', 'wilfully', 'seekes', 'owne', 'saluation', 'tell', 'thee', 'therefore', 'make', 'graue', 'straight', 'crowner', 'hath', 'sate', 'finds', 'christian', 'buriall', 'clo', 'vnlesse', 'drowned', 'selfe', 'owne', 'defence', 'found', 'clo', 'must', 'se', 'offendendo', 'bee', 'else', 'heere', 'lies', 'point', 'drowne', 'selfe', 'wittingly', 'argues', 'act', 'act', 'hath', 'three', 'branches', 'act', 'doe', 'performe', 'argall', 'drown', 'selfe', 'wittingly', 'nay', 'heare', 'goodman', 'deluer', 'clown', 'giue', 'leaue', 'heere', 'lies', 'water', 'good', 'heere', 'stands', 'man', 'good', 'man', 'goe', 'water', 'drowne', 'himselfe', 'nill', 'goes', 'marke', 'water', 'come', 'drowne', 'hee', 'drownes', 'himselfe', 'argall', 'hee', 'guilty', 'owne', 'death', 'shortens', 'owne', 'life', 'law', 'clo', 'marry', 'crowners', 'quest', 'law', 'ha', 'truth', 'beene', 'gentlewoman', 'shee', 'haue', 'beene', 'buried', 'christian', 'buriall', 'clo', 'thou', 'pitty', 'great', 'folke', 'haue', 'countenance', 'world', 'drowne', 'hang', 'themselues', 'euen', 'christian', 'come', 'spade', 'ancient', 'gentlemen', 'gardiners', 'ditchers', 'hold', 'vp', 'adams', 'profession', 'gentleman', 'clo', 'first', 'euer', 'bore', 'armes', 'none', 'clo', 'heathen', 'doth', 'thou', 'vnderstand', 'scripture', 'scripture', 'sayes', 'adam', 'dig', 'could', 'hee', 'digge', 'without', 'armes', 'ile', 'put', 'another', 'question', 'thee', 'thou', 'answerest', 'purpose', 'confesse', 'thy', 'go', 'clo', 'builds', 'stronger', 'either', 'mason', 'shipwright', 'carpenter', 'gallowes', 'maker', 'frame', 'outliues', 'thousand', 'tenants', 'clo', 'like', 'thy', 'wit', 'well', 'good', 'faith', 'gallowes', 'well', 'well', 'well', 'doe', 'ill', 'thou', 'dost', 'ill', 'say', 'gallowes', 'built', 'stronger', 'church', 'argall', 'gallowes', 'may', 'doe', 'well', 'thee', 'againe', 'come', 'builds', 'stronger', 'mason', 'shipwright', 'carpenter', 'clo', 'tell', 'vnyoake', 'marry', 'tell', 'clo', 'masse', 'tell', 'enter', 'hamlet', 'horatio', 'farre', 'clo', 'cudgell', 'thy', 'braines', 'dull', 'asse', 'mend', 'pace', 'beating', 'question', 'next', 'say', 'houses', 'makes', 'lasts', 'till', 'doomesday', 'go', 'get', 'thee', 'yaughan', 'fetch', 'stoupe', 'liquor', 'sings', 'youth', 'loue', 'loue', 'thought', 'sweete', 'contract', 'time', 'behoue', 'thought', 'nothing', 'meete', 'ham', 'ha', 'fellow', 'feeling', 'businesse', 'sings', 'hor', 'custome', 'hath', 'made', 'property', 'easinesse', 'ham', 'hand', 'little', 'imployment', 'hath', 'daintier', 'sense', 'clowne', 'sings', 'age', 'stealing', 'steps', 'hath', 'caught', 'clutch', 'hath', 'shipped', 'intill', 'land', 'neuer', 'beene', 'ham', 'scull', 'tongue', 'could', 'sing', 'knaue', 'iowles', 'th', 'grownd', 'caines', 'first', 'murther', 'might', 'pate', 'polititian', 'asse', 'offices', 'one', 'could', 'circumuent', 'god', 'might', 'hor', 'might', 'lord', 'ham', 'courtier', 'could', 'say', 'good', 'morrow', 'sweet', 'lord', 'dost', 'thou', 'good', 'lord', 'might', 'lord', 'one', 'prais', 'lord', 'ones', 'horse', 'meant', 'begge', 'might', 'hor', 'lord', 'ham', 'lady', 'wormes', 'chaplesse', 'knockt', 'mazard', 'sextons', 'spade', 'heere', 'fine', 'reuolution', 'wee', 'tricke', 'bones', 'cost', 'breeding', 'play', 'loggets', 'mine', 'ake', 'thinke', 'clowne', 'sings', 'pickhaxe', 'spade', 'spade', 'pit', 'clay', 'made', 'guest', 'meete', 'ham', 'another', 'might', 'bee', 'scull', 'lawyer', 'quiddits', 'quillets', 'cases', 'tenures', 'tricks', 'doe', 'suffer', 'rude', 'knaue', 'knocke', 'sconce', 'dirty', 'shouell', 'tell', 'action', 'battery', 'hum', 'fellow', 'might', 'time', 'great', 'buyer', 'land', 'statutes', 'recognizances', 'fines', 'double', 'vouchers', 'recoueries', 'fine', 'fines', 'recouery', 'recoueries', 'haue', 'fine', 'pate', 'full', 'fine', 'dirt', 'vouchers', 'vouch', 'purchases', 'double', 'ones', 'length', 'breadth', 'paire', 'indentures', 'conueyances', 'lands', 'hardly', 'lye', 'boxe', 'must', 'inheritor', 'himselfe', 'haue', 'ha', 'hor', 'iot', 'lord', 'ham', 'parchment', 'made', 'hor', 'lord', 'ham', 'sheepe', 'calues', 'seek', 'assurance', 'speake', 'fellow', 'whose', 'sir', 'clo', 'mine', 'sir', 'pit', 'clay', 'made', 'guest', 'meete', 'ham', 'thinke', 'thine', 'indeed', 'thou', 'liest', 'clo', 'lye', 'sir', 'therefore', 'part', 'doe', 'lye', 'yet', 'mine', 'ham', 'thou', 'dost', 'lye', 'say', 'thine', 'dead', 'quicke', 'therefore', 'thou', 'lyest', 'clo', 'quicke', 'lye', 'sir', 'away', 'againe', 'ham', 'man', 'dost', 'thou', 'digge', 'clo', 'man', 'sir', 'ham', 'woman', 'clo', 'none', 'neither', 'ham', 'buried', 'clo', 'one', 'woman', 'sir', 'rest', 'soule', 'shee', 'dead', 'ham', 'absolute', 'knaue', 'wee', 'must', 'speake', 'carde', 'equiuocation', 'vndoe', 'vs', 'lord', 'horatio', 'three', 'yeares', 'haue', 'taken', 'note', 'age', 'growne', 'picked', 'toe', 'pesant', 'comes', 'neere', 'heeles', 'courtier', 'hee', 'galls', 'kibe', 'long', 'hast', 'thou', 'clo', 'dayes', 'yeare', 'came', 'day', 'last', 'king', 'hamlet', 'fortinbras', 'ham', 'long', 'since', 'clo', 'tell', 'euery', 'foole', 'tell', 'day', 'young', 'hamlet', 'borne', 'hee', 'mad', 'sent', 'england', 'ham', 'marry', 'sent', 'england', 'clo', 'mad', 'hee', 'shall', 'recouer', 'wits', 'great', 'matter', 'ham', 'clo', 'seene', 'men', 'mad', 'ham', 'came', 'mad', 'clo', 'strangely', 'say', 'ham', 'strangely', 'clo', 'faith', 'loosing', 'wits', 'ham', 'vpon', 'ground', 'clo', 'heere', 'denmarke', 'haue', 'bin', 'sixeteene', 'heere', 'man', 'boy', 'thirty', 'yeares', 'ham', 'long', 'man', 'lie', 'earth', 'ere', 'rot', 'clo', 'ifaith', 'rotten', 'die', 'haue', 'many', 'pocky', 'coarses', 'adaies', 'scarce', 'hold', 'laying', 'last', 'eight', 'yeare', 'nine', 'yeare', 'tanner', 'last', 'nine', 'yeare', 'ham', 'another', 'clo', 'sir', 'hide', 'tan', 'trade', 'keepe', 'water', 'great', 'water', 'sore', 'decayer', 'horson', 'dead', 'body', 'heres', 'scull', 'scul', 'laine', 'earth', 'three', 'twenty', 'years', 'ham', 'whose', 'clo', 'whoreson', 'mad', 'fellowes', 'whose', 'doe', 'thinke', 'ham', 'nay', 'know', 'clo', 'pestilence', 'mad', 'rogue', 'pour', 'flaggon', 'renish', 'head', 'scull', 'sir', 'scull', 'sir', 'yoricks', 'scull', 'kings', 'iester', 'ham', 'clo', 'ham', 'let', 'see', 'alas', 'poore', 'yorick', 'knew', 'horatio', 'fellow', 'infinite', 'iest', 'excellent', 'fancy', 'hath', 'borne', 'backe', 'thousand', 'times', 'abhorred', 'imagination', 'gorge', 'rises', 'heere', 'hung', 'lipps', 'haue', 'kist', 'know', 'oft', 'iibes', 'gambals', 'songs', 'flashes', 'merriment', 'wont', 'set', 'table', 'rore', 'one', 'mock', 'ieering', 'quite', 'chopfalne', 'get', 'ladies', 'chamber', 'tell', 'let', 'paint', 'inch', 'thicke', 'fauour', 'must', 'come', 'make', 'laugh', 'prythee', 'horatio', 'tell', 'one', 'thing', 'hor', 'lord', 'ham', 'dost', 'thou', 'thinke', 'alexander', 'lookt', 'fashion', 'earth', 'hor', 'ham', 'smelt', 'puh', 'hor', 'lord', 'ham', 'base', 'vses', 'may', 'returne', 'horatio', 'may', 'imagination', 'trace', 'noble', 'dust', 'alexander', 'till', 'find', 'stopping', 'bunghole', 'hor', 'consider', 'curiously', 'consider', 'ham', 'faith', 'iot', 'follow', 'thether', 'modestie', 'enough', 'likeliehood', 'lead', 'thus', 'alexander', 'died', 'alexander', 'buried', 'alexander', 'returneth', 'dust', 'dust', 'earth', 'earth', 'make', 'lome', 'lome', 'whereto', 'conuerted', 'might', 'stopp', 'imperiall', 'caesar', 'dead', 'turn', 'clay', 'might', 'stop', 'hole', 'keepe', 'winde', 'away', 'oh', 'earth', 'kept', 'world', 'awe', 'patch', 'wall', 'expell', 'winters', 'flaw', 'soft', 'soft', 'aside', 'heere', 'comes', 'king', 'enter', 'king', 'queene', 'laertes', 'coffin', 'lords', 'attendant', 'queene', 'courtiers', 'follow', 'maimed', 'rites', 'doth', 'betoken', 'coarse', 'follow', 'disperate', 'hand', 'fore', 'owne', 'life', 'estate', 'couch', 'mark', 'laer', 'cerimony', 'else', 'ham', 'laertes', 'noble', 'youth', 'marke', 'laer', 'cerimony', 'else', 'priest', 'obsequies', 'haue', 'bin', 'farre', 'inlarg', 'haue', 'warrantie', 'death', 'doubtfull', 'great', 'command', 'order', 'ground', 'vnsanctified', 'haue', 'lodg', 'till', 'last', 'trumpet', 'charitable', 'praier', 'shardes', 'flints', 'peebles', 'throwne', 'yet', 'heere', 'allowed', 'virgin', 'rites', 'maiden', 'strewments', 'bringing', 'home', 'bell', 'buriall', 'laer', 'must', 'done', 'priest', 'done', 'prophane', 'seruice', 'dead', 'sing', 'sage', 'requiem', 'rest', 'soules', 'laer', 'lay', 'earth', 'faire', 'vnpolluted', 'flesh', 'may', 'violets', 'spring', 'tell', 'thee', 'churlish', 'priest', 'ministring', 'angell', 'shall', 'sister', 'thou', 'liest', 'howling', 'ham', 'faire', 'ophelia', 'queene', 'sweets', 'sweet', 'farewell', 'hop', 'thou', 'haue', 'bin', 'hamlets', 'wife', 'thought', 'thy', 'haue', 'deckt', 'sweet', 'maid', 'strew', 'thy', 'graue', 'laer', 'oh', 'terrible', 'woer', 'fall', 'ten', 'times', 'trebble', 'cursed', 'head', 'whose', 'wicked', 'deed', 'thy', 'ingenious', 'sence', 'depriu', 'thee', 'hold', 'earth', 'till', 'haue', 'caught', 'mine', 'armes', 'leaps', 'graue', 'pile', 'dust', 'vpon', 'quicke', 'dead', 'till', 'flat', 'mountaine', 'haue', 'made', 'top', 'old', 'pelion', 'skyish', 'head', 'blew', 'olympus', 'ham', 'whose', 'griefes', 'beares', 'emphasis', 'whose', 'phrase', 'sorrow', 'coniure', 'wandring', 'starres', 'makes', 'stand', 'like', 'hearers', 'hamlet', 'dane', 'laer', 'deuill', 'take', 'thy', 'soule', 'ham', 'thou', 'well', 'prythee', 'take', 'thy', 'fingers', 'throat', 'sir', 'though', 'spleenatiue', 'rash', 'yet', 'haue', 'something', 'dangerous', 'let', 'thy', 'wisenesse', 'feare', 'away', 'thy', 'hand', 'king', 'pluck', 'asunder', 'qu', 'hamlet', 'hamlet', 'good', 'lord', 'quiet', 'ham', 'fight', 'vppon', 'theme', 'vntill', 'eielids', 'longer', 'wag', 'qu', 'oh', 'sonne', 'theame', 'ham', 'lou', 'ophelia', 'fortie', 'thousand', 'brothers', 'could', 'quantitie', 'loue', 'make', 'vp', 'summe', 'wilt', 'thou', 'king', 'oh', 'mad', 'laertes', 'qu', 'loue', 'god', 'forbeare', 'ham', 'come', 'show', 'doe', 'weepe', 'fight', 'teare', 'thy', 'selfe', 'drinke', 'vp', 'esile', 'eate', 'crocodile', 'ile', 'dost', 'thou', 'come', 'heere', 'whine', 'outface', 'leaping', 'graue', 'buried', 'quicke', 'thou', 'prate', 'mountaines', 'let', 'throw', 'millions', 'akers', 'vs', 'till', 'ground', 'sindging', 'pate', 'burning', 'zone', 'make', 'ossa', 'like', 'wart', 'nay', 'mouth', 'ile', 'rant', 'well', 'thou', 'kin', 'meere', 'madnesse', 'thus', 'awhile', 'fit', 'worke', 'anon', 'patient', 'female', 'doue', 'golden', 'cuplet', 'disclos', 'silence', 'sit', 'drooping', 'ham', 'heare', 'sir', 'reason', 'vse', 'thus', 'lou', 'euer', 'matter', 'let', 'hercules', 'himselfe', 'doe', 'may', 'cat', 'mew', 'dogge', 'haue', 'day', 'enter', 'kin', 'pray', 'good', 'horatio', 'wait', 'vpon', 'strengthen', 'patience', 'last', 'nights', 'speech', 'put', 'matter', 'present', 'push', 'good', 'gertrude', 'set', 'watch', 'ouer', 'sonne', 'graue', 'shall', 'haue', 'liuing', 'monument', 'houre', 'quiet', 'shortly', 'shall', 'see', 'till', 'patience', 'proceeding', 'exeunt', 'enter', 'hamlet', 'horatio', 'ham', 'much', 'sir', 'let', 'see', 'doe', 'remember', 'circumstance', 'hor', 'remember', 'lord', 'ham', 'sir', 'heart', 'kinde', 'fighting', 'would', 'let', 'sleepe', 'thought', 'lay', 'worse', 'mutines', 'bilboes', 'rashly', 'praise', 'rashnesse', 'let', 'vs', 'know', 'indiscretion', 'sometimes', 'serues', 'vs', 'well', 'deare', 'plots', 'paule', 'teach', 'vs', 'diuinity', 'shapes', 'ends', 'hor', 'certaine', 'ham', 'vp', 'cabin', 'scarft', 'darke', 'grop', 'finde', 'desire', 'finger', 'packet', 'fine', 'withdrew', 'mine', 'owne', 'roome', 'againe', 'making', 'bold', 'feares', 'forgetting', 'manners', 'vnseale', 'grand', 'commission', 'found', 'horatio', 'oh', 'royall', 'knauery', 'exact', 'command', 'larded', 'many', 'seuerall', 'sorts', 'reason', 'importing', 'denmarks', 'health', 'englands', 'hoo', 'bugges', 'goblins', 'life', 'superuize', 'leasure', 'bated', 'stay', 'grinding', 'axe', 'head', 'struck', 'hor', 'ist', 'possible', 'ham', 'commission', 'read', 'leysure', 'wilt', 'thou', 'heare', 'proceed', 'hor', 'beseech', 'ham', 'thus', 'benetted', 'round', 'villaines', 'ere', 'could', 'make', 'prologue', 'braines', 'begun', 'play', 'sate', 'downe', 'deuis', 'new', 'commission', 'wrote', 'faire', 'hold', 'statists', 'doe', 'basenesse', 'write', 'faire', 'laboured', 'much', 'forget', 'learning', 'sir', 'yeomans', 'seriuce', 'wilt', 'thou', 'know', 'effects', 'wrote', 'hor', 'good', 'lord', 'ham', 'earnest', 'coniuration', 'king', 'england', 'faithfull', 'tributary', 'loue', 'betweene', 'palme', 'flourish', 'peace', 'still', 'wheaten', 'garland', 'weare', 'stand', 'comma', 'amities', 'many', 'like', 'assis', 'great', 'charge', 'view', 'know', 'contents', 'without', 'debatement', 'lesse', 'bearers', 'put', 'sodaine', 'death', 'shriuing', 'time', 'allowed', 'hor', 'seal', 'ham', 'euen', 'heauen', 'ordinate', 'fathers', 'signet', 'purse', 'modell', 'danish', 'seale', 'folded', 'writ', 'vp', 'forme', 'subscrib', 'th', 'impression', 'safely', 'changeling', 'neuer', 'knowne', 'next', 'day', 'sea', 'fight', 'sement', 'thou', 'already', 'hor', 'guildensterne', 'rosincrance', 'go', 'ham', 'man', 'make', 'loue', 'imployment', 'neere', 'conscience', 'debate', 'doth', 'owne', 'insinuation', 'grow', 'dangerous', 'baser', 'nature', 'comes', 'betweene', 'passe', 'fell', 'incensed', 'points', 'mighty', 'opposites', 'hor', 'king', 'ham', 'thinkst', 'thee', 'stand', 'vpon', 'hath', 'kil', 'king', 'whor', 'mother', 'popt', 'betweene', 'th', 'election', 'hopes', 'throwne', 'angle', 'proper', 'life', 'coozenage', 'perfect', 'conscience', 'quit', 'arme', 'let', 'canker', 'nature', 'come', 'euill', 'hor', 'must', 'shortly', 'knowne', 'england', 'issue', 'businesse', 'ham', 'short', 'interim', 'mine', 'mans', 'life', 'say', 'one', 'sorry', 'good', 'horatio', 'laertes', 'forgot', 'selfe', 'image', 'cause', 'see', 'portraiture', 'ile', 'count', 'fauours', 'sure', 'brauery', 'griefe', 'put', 'towring', 'passion', 'hor', 'peace', 'comes', 'heere', 'enter', 'young', 'osricke', 'osr', 'lordship', 'right', 'welcome', 'back', 'denmarke', 'ham', 'humbly', 'thank', 'sir', 'dost', 'know', 'waterflie', 'hor', 'good', 'lord', 'ham', 'thy', 'state', 'gracious', 'vice', 'know', 'hath', 'much', 'land', 'fertile', 'let', 'beast', 'lord', 'beasts', 'crib', 'shall', 'stand', 'kings', 'messe', 'chowgh', 'saw', 'spacious', 'possession', 'dirt', 'osr', 'sweet', 'lord', 'friendship', 'leysure', 'impart', 'thing', 'maiesty', 'ham', 'receiue', 'diligence', 'spirit', 'put', 'bonet', 'right', 'vse', 'head', 'osr', 'thanke', 'lordship', 'hot', 'ham', 'beleeue', 'mee', 'cold', 'winde', 'northerly', 'osr', 'indifferent', 'cold', 'lord', 'indeed', 'ham', 'mee', 'thinkes', 'soultry', 'hot', 'complexion', 'osr', 'exceedingly', 'lord', 'soultry', 'tell', 'lord', 'maiesty', 'bad', 'signifie', 'ha', 'laid', 'great', 'wager', 'head', 'sir', 'matter', 'ham', 'beseech', 'remember', 'osr', 'nay', 'good', 'faith', 'mine', 'ease', 'good', 'faith', 'sir', 'ignorant', 'excellence', 'laertes', 'weapon', 'ham', 'weapon', 'osr', 'rapier', 'dagger', 'ham', 'two', 'weapons', 'well', 'osr', 'sir', 'king', 'ha', 'wag', 'six', 'barbary', 'horses', 'impon', 'take', 'sixe', 'french', 'rapiers', 'poniards', 'assignes', 'girdle', 'hangers', 'three', 'carriages', 'infaith', 'deare', 'fancy', 'responsiue', 'hilts', 'delicate', 'carriages', 'liberall', 'conceit', 'ham', 'call', 'carriages', 'osr', 'carriages', 'sir', 'hangers', 'ham', 'phrase', 'would', 'bee', 'germaine', 'matter', 'could', 'carry', 'cannon', 'sides', 'would', 'might', 'hangers', 'till', 'sixe', 'barbary', 'horses', 'sixe', 'french', 'swords', 'assignes', 'three', 'liberall', 'conceited', 'carriages', 'french', 'danish', 'impon', 'call', 'osr', 'king', 'sir', 'hath', 'laid', 'dozen', 'passes', 'betweene', 'hee', 'shall', 'exceed', 'three', 'hits', 'hath', 'one', 'twelue', 'mine', 'would', 'come', 'imediate', 'tryall', 'lordship', 'would', 'vouchsafe', 'answere', 'ham', 'answere', 'osr', 'meane', 'lord', 'opposition', 'person', 'tryall', 'ham', 'sir', 'walke', 'heere', 'hall', 'please', 'maiestie', 'breathing', 'time', 'day', 'let', 'foyles', 'bee', 'brought', 'gentleman', 'willing', 'king', 'hold', 'purpose', 'win', 'ile', 'gaine', 'nothing', 'shame', 'odde', 'hits', 'osr', 'shall', 'redeliuer', 'ham', 'effect', 'sir', 'flourish', 'nature', 'osr', 'commend', 'duty', 'lordship', 'ham', 'hee', 'well', 'commend', 'himselfe', 'tongues', 'else', 'tongue', 'hor', 'lapwing', 'runs', 'away', 'shell', 'head', 'ham', 'complie', 'dugge', 'hee', 'thus', 'mine', 'beauty', 'know', 'drossie', 'age', 'dotes', 'got', 'tune', 'time', 'outward', 'habite', 'encounter', 'kinde', 'yesty', 'collection', 'carries', 'fond', 'winnowed', 'opinions', 'doe', 'blow', 'tryalls', 'bubbles', 'hor', 'lose', 'wager', 'lord', 'ham', 'doe', 'thinke', 'since', 'went', 'france', 'haue', 'beene', 'continuall', 'practice', 'shall', 'winne', 'oddes', 'thou', 'wouldest', 'thinke', 'heere', 'heart', 'matter', 'hor', 'nay', 'good', 'lord', 'ham', 'foolery', 'kinde', 'would', 'perhaps', 'trouble', 'woman', 'hor', 'minde', 'dislike', 'thing', 'obey', 'forestall', 'repaire', 'hither', 'say', 'fit', 'ham', 'whit', 'defie', 'augury', 'speciall', 'prouidence', 'fall', 'sparrow', 'come', 'bee', 'come', 'bee', 'yet', 'come', 'readinesse', 'since', 'man', 'ha', 'ought', 'leaues', 'leaue', 'betimes', 'enter', 'king', 'queene', 'laertes', 'lords', 'attendants', 'foyles', 'gauntlets', 'table', 'flagons', 'wine', 'kin', 'come', 'hamlet', 'come', 'take', 'hand', 'ham', 'giue', 'pardon', 'sir', 'done', 'wrong', 'pardo', 'gentleman', 'presence', 'knowes', 'must', 'needs', 'haue', 'heard', 'punisht', 'sore', 'distraction', 'haue', 'done', 'might', 'nature', 'honour', 'exception', 'roughly', 'awake', 'heere', 'proclaime', 'madnesse', 'hamlet', 'wrong', 'laertes', 'neuer', 'hamlet', 'hamlet', 'himselfe', 'tane', 'away', 'himselfe', 'wrong', 'laertes', 'hamlet', 'hamlet', 'denies', 'madnesse', 'hamlet', 'faction', 'wrong', 'madnesse', 'poore', 'hamlets', 'enemy', 'sir', 'audience', 'let', 'disclaiming', 'purpos', 'euill', 'free', 'farre', 'generous', 'thoughts', 'haue', 'shot', 'mine', 'arrow', 'house', 'hurt', 'mother', 'laer', 'satisfied', 'nature', 'whose', 'motiue', 'case', 'stirre', 'reuenge', 'termes', 'honor', 'stand', 'aloofe', 'reconcilement', 'till', 'elder', 'masters', 'knowne', 'honor', 'haue', 'voyce', 'president', 'peace', 'keepe', 'name', 'vngorg', 'till', 'time', 'receiue', 'offer', 'loue', 'like', 'loue', 'wil', 'wrong', 'ham', 'embrace', 'freely', 'brothers', 'wager', 'frankely', 'play', 'giue', 'vs', 'foyles', 'come', 'laer', 'come', 'one', 'ham', 'ile', 'foile', 'laertes', 'mine', 'ignorance', 'skill', 'shall', 'like', 'starre', 'darkest', 'night', 'sticke', 'fiery', 'indeede', 'laer', 'mocke', 'sir', 'ham', 'hand', 'king', 'giue', 'foyles', 'yong', 'osricke', 'cousen', 'hamlet', 'know', 'wager', 'ham', 'verie', 'well', 'lord', 'grace', 'hath', 'laide', 'oddes', 'weaker', 'side', 'king', 'feare', 'haue', 'seene', 'since', 'better', 'haue', 'therefore', 'oddes', 'laer', 'heauy', 'let', 'see', 'another', 'ham', 'likes', 'well', 'foyles', 'haue', 'length', 'prepare', 'play', 'osricke', 'good', 'lord', 'king', 'set', 'stopes', 'wine', 'vpon', 'table', 'hamlet', 'giue', 'first', 'second', 'hit', 'quit', 'answer', 'third', 'exchange', 'let', 'battlements', 'ordinance', 'fire', 'king', 'shal', 'drinke', 'hamlets', 'better', 'breath', 'cup', 'vnion', 'shal', 'throw', 'richer', 'foure', 'successiue', 'kings', 'denmarkes', 'crowne', 'haue', 'worne', 'giue', 'cups', 'let', 'kettle', 'trumpets', 'speake', 'trumpet', 'cannoneer', 'without', 'cannons', 'heauens', 'heauen', 'earth', 'king', 'drinkes', 'hamlet', 'come', 'begin', 'iudges', 'beare', 'wary', 'eye', 'ham', 'come', 'sir', 'laer', 'come', 'sir', 'play', 'ham', 'one', 'laer', 'ham', 'iudgement', 'osr', 'hit', 'palpable', 'hit', 'laer', 'well', 'againe', 'king', 'stay', 'giue', 'drinke', 'hamlet', 'pearle', 'thine', 'thy', 'health', 'giue', 'cup', 'trumpets', 'sound', 'shot', 'goes', 'ham', 'ile', 'play', 'bout', 'first', 'set', 'come', 'another', 'hit', 'say', 'laer', 'touch', 'touch', 'confesse', 'king', 'sonne', 'shall', 'win', 'qu', 'fat', 'scant', 'breath', 'heere', 'napkin', 'rub', 'thy', 'browes', 'queene', 'carowses', 'thy', 'fortune', 'hamlet', 'ham', 'good', 'madam', 'king', 'gertrude', 'drinke', 'qu', 'lord', 'pray', 'pardon', 'king', 'poyson', 'cup', 'late', 'ham', 'dare', 'drinke', 'yet', 'madam', 'qu', 'come', 'let', 'wipe', 'thy', 'face', 'laer', 'lord', 'ile', 'hit', 'king', 'laer', 'yet', 'almost', 'conscience', 'ham', 'come', 'third', 'laertes', 'dally', 'pray', 'passe', 'best', 'violence', 'affear', 'make', 'wanton', 'laer', 'say', 'come', 'play', 'osr', 'nothing', 'neither', 'way', 'laer', 'haue', 'scuffling', 'change', 'rapiers', 'king', 'part', 'ham', 'nay', 'come', 'againe', 'osr', 'looke', 'queene', 'hoa', 'hor', 'bleed', 'sides', 'lord', 'osr', 'laertes', 'laer', 'woodcocke', 'mine', 'sprindge', 'osricke', 'iustly', 'kill', 'mine', 'owne', 'treacherie', 'ham', 'queene', 'king', 'sounds', 'see', 'bleede', 'qu', 'drinke', 'drinke', 'oh', 'deere', 'hamlet', 'drinke', 'drinke', 'ham', 'oh', 'villany', 'let', 'doore', 'lock', 'treacherie', 'seeke', 'laer', 'heere', 'hamlet', 'hamlet', 'thou', 'art', 'slaine', 'medicine', 'world', 'thee', 'good', 'thee', 'halfe', 'houre', 'life', 'treacherous', 'instrument', 'thy', 'hand', 'vnbated', 'envenom', 'foule', 'practise', 'hath', 'turn', 'selfe', 'loe', 'heere', 'lye', 'neuer', 'rise', 'againe', 'thy', 'mothers', 'poyson', 'king', 'king', 'blame', 'ham', 'point', 'envenom', 'venome', 'thy', 'worke', 'hurts', 'king', 'treason', 'treason', 'king', 'yet', 'defend', 'friends', 'hurt', 'ham', 'heere', 'thou', 'incestuous', 'murdrous', 'damned', 'dane', 'drinke', 'potion', 'thy', 'vnion', 'heere', 'follow', 'mother', 'king', 'dyes', 'laer', 'iustly', 'seru', 'poyson', 'himselfe', 'exchange', 'forgiuenesse', 'noble', 'hamlet', 'mine', 'fathers', 'death', 'come', 'vpon', 'thee', 'thine', 'dyes', 'ham', 'heauen', 'make', 'thee', 'free', 'follow', 'thee', 'dead', 'horatio', 'wretched', 'queene', 'adiew', 'looke', 'pale', 'tremble', 'chance', 'mutes', 'audience', 'acte', 'time', 'fell', 'sergeant', 'death', 'strick', 'arrest', 'oh', 'could', 'tell', 'let', 'horatio', 'dead', 'thou', 'report', 'causes', 'right', 'vnsatisfied', 'hor', 'neuer', 'beleeue', 'antike', 'roman', 'dane', 'heere', 'yet', 'liquor', 'left', 'ham', 'man', 'giue', 'cup', 'let', 'go', 'heauen', 'ile', 'oh', 'good', 'horatio', 'wounded', 'name', 'things', 'standing', 'thus', 'vnknowne', 'shall', 'liue', 'behind', 'thou', 'euer', 'hold', 'thy', 'heart', 'absent', 'thee', 'felicitie', 'awhile', 'harsh', 'world', 'draw', 'thy', 'breath', 'paine', 'tell', 'storie', 'march', 'afarre', 'shout', 'within', 'warlike', 'noyse', 'enter', 'osricke', 'osr', 'yong', 'fortinbras', 'conquest', 'come', 'fro', 'poland', 'th', 'ambassadors', 'england', 'giues', 'warlike', 'volly', 'ham', 'dye', 'horatio', 'potent', 'poyson', 'quite', 'spirit', 'liue', 'heare', 'newes', 'england', 'prophesie', 'th', 'election', 'lights', 'fortinbras', 'ha', 'dying', 'voyce', 'tell', 'occurrents', 'lesse', 'haue', 'solicited', 'rest', 'silence', 'dyes', 'hora', 'cracke', 'noble', 'heart', 'goodnight', 'sweet', 'prince', 'flights', 'angels', 'sing', 'thee', 'thy', 'rest', 'drumme', 'come', 'hither', 'enter', 'fortinbras', 'english', 'ambassador', 'drumme', 'colours', 'attendants', 'fortin', 'sight', 'hor', 'ye', 'would', 'see', 'ought', 'woe', 'wonder', 'cease', 'search', 'quarry', 'cries', 'hauocke', 'oh', 'proud', 'death', 'feast', 'toward', 'thine', 'eternall', 'cell', 'thou', 'many', 'princes', 'shoote', 'bloodily', 'hast', 'strooke', 'amb', 'sight', 'dismall', 'affaires', 'england', 'come', 'late', 'eares', 'senselesse', 'giue', 'vs', 'hearing', 'tell', 'fulfill', 'rosincrance', 'guildensterne', 'dead', 'haue', 'thankes', 'hor', 'mouth', 'th', 'abilitie', 'life', 'thanke', 'neuer', 'gaue', 'death', 'since', 'iumpe', 'vpon', 'bloodie', 'question', 'polake', 'warres', 'england', 'heere', 'arriued', 'giue', 'order', 'bodies', 'high', 'stage', 'placed', 'view', 'let', 'speake', 'th', 'yet', 'vnknowing', 'world', 'things', 'came', 'shall', 'heare', 'carnall', 'bloudie', 'vnnaturall', 'acts', 'accidentall', 'iudgements', 'casuall', 'slaughters', 'death', 'put', 'cunning', 'forc', 'cause', 'vpshot', 'purposes', 'mistooke', 'falne', 'inuentors', 'head', 'truly', 'deliuer', 'let', 'vs', 'hast', 'heare', 'call', 'noblest', 'audience', 'sorrow', 'embrace', 'fortune', 'haue', 'rites', 'memory', 'kingdome', 'claime', 'vantage', 'doth', 'inuite', 'hor', 'shall', 'haue', 'alwayes', 'cause', 'speake', 'mouth', 'whose', 'voyce', 'draw', 'let', 'presently', 'perform', 'euen', 'whiles', 'mens', 'mindes', 'wilde', 'lest', 'mischance', 'plots', 'errors', 'happen', 'let', 'foure', 'captaines', 'beare', 'hamlet', 'like', 'soldier', 'stage', 'likely', 'beene', 'put', 'haue', 'prou', 'royally', 'passage', 'souldiours', 'musicke', 'rites', 'warre', 'speake', 'lowdly', 'take', 'vp', 'body', 'sight', 'becomes', 'field', 'heere', 'shewes', 'much', 'amis', 'go', 'bid', 'souldiers', 'shoote', 'exeunt', 'marching', 'peale', 'ordenance', 'shot', 'finis', 'tragedie', 'hamlet', 'prince', 'denmarke']\n",
      "Hamlet top 10 frequency word [('ham', 337), ('lord', 211), ('haue', 175), ('king', 172), ('shall', 107), ('come', 104), ('let', 104), ('thou', 104), ('hamlet', 100), ('good', 98)]\n"
     ]
    }
   ],
   "source": [
    "#read hamlet text and convert to lower character and then tokenize\n",
    "hamlet_text = open(mydrive+'gutenberg/shakespeare-hamlet.txt').read().lower()\n",
    "nltk.download('punkt')\n",
    "hamlet_tokens = nltk.word_tokenize(hamlet_text)\n",
    "#remove stopwords and only keep number and word from hamlet\n",
    "#by using .isalnum() to remove some special charactor term such as \"?\",\".\"\"\n",
    "hamlet_tokens_f = [term for term in hamlet_tokens if term not in stopwords and term.isalnum()]\n",
    "print(hamlet_tokens_f)\n",
    "\n",
    "#print 10 common word in hamlet in table\n",
    "hamlet_freq=nltk.FreqDist(hamlet_tokens_f)\n",
    "print(\"Hamlet top 10 frequency word\",hamlet_freq.most_common(10))"
   ]
  },
  {
   "cell_type": "markdown",
   "metadata": {
    "colab_type": "text",
    "id": "p49B6DFC16FH"
   },
   "source": [
    "**Print the most 10 common word of all file in gutenberg folder**"
   ]
  },
  {
   "cell_type": "code",
   "execution_count": 0,
   "metadata": {
    "colab": {},
    "colab_type": "code",
    "id": "ErJZq8z41srl"
   },
   "outputs": [],
   "source": [
    "# definite a function to display top n frequency word in a text file.\n",
    "def topword(text_file,stopwords,ntop):\n",
    "    import nltk,re\n",
    "    text_removed_punc = re.sub(r'[^\\w]',' ',text_file) # remove all punctuation\n",
    "    tokens = nltk.wordpunct_tokenize(text_removed_punc.lower()) \n",
    "    tokens_f = [term for term in tokens if term not in stopwords and term.isalnum()] # remove stopwords\n",
    "    freq = nltk.FreqDist(tokens_f)\n",
    "    return freq.most_common(ntop)"
   ]
  },
  {
   "cell_type": "code",
   "execution_count": 48,
   "metadata": {
    "colab": {
     "base_uri": "https://localhost:8080/",
     "height": 869
    },
    "colab_type": "code",
    "id": "iWqLTuvA3joQ",
    "outputId": "bb075ddd-7c7a-4747-8605-c03ce5fe9423"
   },
   "outputs": [
    {
     "name": "stdout",
     "output_type": "stream",
     "text": [
      "austen-persuasion.txt\n",
      "[('anne', 497), ('could', 451), ('would', 355), ('captain', 303), ('mrs', 291), ('elliot', 289), ('mr', 256), ('one', 238), ('must', 228), ('wentworth', 218)] \n",
      "\n",
      "austen-emma.txt\n",
      "[('mr', 1153), ('emma', 865), ('could', 837), ('would', 820), ('mrs', 699), ('miss', 599), ('must', 567), ('harriet', 506), ('much', 486), ('said', 484)] \n",
      "\n",
      "edgeworth-parents.txt\n",
      "[('said', 1428), ('would', 511), ('one', 507), ('upon', 477), ('mr', 462), ('good', 457), ('could', 426), ('know', 422), ('little', 414), ('well', 393)] \n",
      "\n",
      "bible-kjv.txt\n",
      "[('shall', 9838), ('unto', 8997), ('lord', 7964), ('thou', 5474), ('thy', 4600), ('god', 4472), ('said', 3999), ('ye', 3983), ('thee', 3827), ('1', 2783)] \n",
      "\n",
      "chesterton-thursday.txt\n",
      "[('syme', 519), ('said', 507), ('man', 276), ('like', 264), ('one', 199), ('could', 151), ('professor', 149), ('would', 120), ('face', 119), ('gregory', 112)] \n",
      "\n",
      "chesterton-brown.txt\n",
      "[('said', 416), ('like', 331), ('man', 308), ('brown', 291), ('one', 283), ('father', 231), ('could', 171), ('know', 151), ('little', 146), ('rather', 143)] \n",
      "\n",
      "blake-poems.txt\n",
      "[('little', 45), ('thee', 42), ('like', 35), ('thou', 35), ('thy', 31), ('love', 29), ('sweet', 28), ('night', 28), ('joy', 25), ('away', 24)] \n",
      "\n",
      "austen-sense.txt\n",
      "[('elinor', 685), ('could', 578), ('marianne', 566), ('mrs', 530), ('would', 515), ('said', 397), ('every', 377), ('one', 331), ('much', 290), ('must', 283)] \n",
      "\n",
      "shakespeare-hamlet.txt\n",
      "[('ham', 337), ('lord', 211), ('haue', 178), ('king', 172), ('thou', 107), ('shall', 107), ('come', 104), ('let', 104), ('hamlet', 100), ('good', 98)] \n",
      "\n",
      "shakespeare-macbeth.txt\n",
      "[('macb', 137), ('haue', 122), ('thou', 90), ('enter', 81), ('shall', 68), ('macbeth', 62), ('vpon', 62), ('thee', 61), ('macd', 58), ('vs', 57)] \n",
      "\n",
      "whitman-leaves.txt\n",
      "[('see', 432), ('one', 355), ('old', 278), ('love', 275), ('life', 267), ('day', 265), ('shall', 263), ('yet', 262), ('thee', 261), ('long', 253)] \n",
      "\n",
      "milton-paradise.txt\n",
      "[('thou', 432), ('heaven', 419), ('thy', 414), ('thee', 358), ('thus', 318), ('shall', 283), ('god', 260), ('yet', 228), ('earth', 217), ('though', 217)] \n",
      "\n",
      "melville-moby_dick.txt\n",
      "[('whale', 1226), ('one', 921), ('like', 647), ('upon', 566), ('man', 527), ('ship', 518), ('ahab', 511), ('ye', 472), ('sea', 455), ('old', 450)] \n",
      "\n",
      "burgess-busterbrown.txt\n",
      "[('buster', 229), ('little', 207), ('bear', 152), ('joe', 112), ('one', 102), ('brown', 102), ('farmer', 100), ('boy', 95), ('green', 87), ('see', 74)] \n",
      "\n",
      "carroll-alice.txt\n",
      "[('said', 462), ('alice', 398), ('little', 128), ('one', 104), ('know', 88), ('like', 85), ('would', 83), ('went', 83), ('could', 77), ('queen', 75)] \n",
      "\n",
      "bryant-stories.txt\n",
      "[('little', 597), ('said', 453), ('came', 191), ('one', 183), ('could', 158), ('king', 141), ('went', 122), ('would', 112), ('great', 110), ('day', 107)] \n",
      "\n"
     ]
    }
   ],
   "source": [
    "# for every file in gutenberg folder, print 10 top word\n",
    "import os\n",
    "#list all file in directory gutenberg in your google drive\n",
    "gurenberg_path = mydrive+\"gutenberg/\"\n",
    "for filename in os.listdir(gurenberg_path):\n",
    "    fileExtension = filename.split(\".\")[-1]\n",
    "    if fileExtension == \"txt\": # only process txt file\n",
    "        text = open(gurenberg_path+filename).read()\n",
    "        print(filename)\n",
    "        print(topword(text,stopwords,ntop=10),'\\n') # \\n mean insert a newline in the text at this point."
   ]
  },
  {
   "cell_type": "code",
   "execution_count": 0,
   "metadata": {
    "colab": {},
    "colab_type": "code",
    "id": "thdd2Go9bLLh"
   },
   "outputs": [],
   "source": [
    "# write the top 10 words to text file\n",
    "freq_text = open(mydrive+'freq_result.txt',\"w\")# make a text file to write result\n",
    "for filename in os.listdir(gurenberg_path):\n",
    "    fileExtension = filename.split(\".\")[-1]\n",
    "    if fileExtension == \"txt\": # only process txt file\n",
    "        text = open(gurenberg_path+filename).read()\n",
    "        top10word = topword(text,stopwords,ntop=10)\n",
    "        freq_text.write(filename)\n",
    "        freq_text.write(str(top10word))# write to text file\n",
    "        freq_text.write('\\n\\n') # insert new line\n",
    "freq_text.close() # close text file"
   ]
  }
 ],
 "metadata": {
  "colab": {
   "collapsed_sections": [],
   "name": "week3_text_to_numerical_vector.ipynb",
   "provenance": []
  },
  "kernelspec": {
   "display_name": "Python 3",
   "language": "python",
   "name": "python3"
  },
  "language_info": {
   "codemirror_mode": {
    "name": "ipython",
    "version": 3
   },
   "file_extension": ".py",
   "mimetype": "text/x-python",
   "name": "python",
   "nbconvert_exporter": "python",
   "pygments_lexer": "ipython3",
   "version": "3.7.3"
  }
 },
 "nbformat": 4,
 "nbformat_minor": 1
}
