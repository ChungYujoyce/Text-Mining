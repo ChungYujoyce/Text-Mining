{
 "cells": [
  {
   "cell_type": "markdown",
   "metadata": {},
   "source": [
    "### Assignment 5 classification"
   ]
  },
  {
   "cell_type": "code",
   "execution_count": 18,
   "metadata": {},
   "outputs": [],
   "source": [
    "import pandas as pd\n",
    "from sklearn.metrics import accuracy_score\n",
    "from sklearn.model_selection import train_test_split\n",
    "from sklearn.tree import DecisionTreeClassifier\n",
    "from sklearn.ensemble import RandomForestClassifier\n",
    "\n",
    "# visualize func\n",
    "from sklearn.tree import export_graphviz\n",
    "from sklearn.externals.six import StringIO\n",
    "from IPython.display import Image  \n",
    "import pydotplus\n",
    "from sklearn import metrics\n",
    "\n",
    "import matplotlib.pyplot as plt\n",
    "from pandas import DataFrame\n",
    "import numpy as np\n",
    "import sys\n",
    "if sys.version_info[0] < 3: \n",
    "    from StringIO import StringIO\n",
    "else:\n",
    "    from io import StringIO\n",
    "\n",
    "def visualize_tree(tree, name):\n",
    "    \"\"\"StringIO(): creates an object (empty in this case) to receive a string buffer (the tree will be created first as a string before as an image) in DOT (graph description language) format.\"\"\"\n",
    "    dot_data = StringIO()\n",
    "    \"\"\"export_graphviz(): exports the tree in DOT format, generating a representation of the decision tree, which is written into the ‘out_file’.\"\"\"\n",
    "    export_graphviz(tree, out_file = dot_data)\n",
    "    \"\"\"graph_from_dot_data(): will use the DOT object to create the graph.\"\"\"\n",
    "    graph = pydotplus.graph_from_dot_data(dot_data.getvalue())\n",
    "    graph.write_png(\"./\"+ name +\".png\")\n",
    "    Image(graph.create_png())\n"
   ]
  },
  {
   "cell_type": "code",
   "execution_count": 19,
   "metadata": {},
   "outputs": [
    {
     "data": {
      "text/html": [
       "<div>\n",
       "<style scoped>\n",
       "    .dataframe tbody tr th:only-of-type {\n",
       "        vertical-align: middle;\n",
       "    }\n",
       "\n",
       "    .dataframe tbody tr th {\n",
       "        vertical-align: top;\n",
       "    }\n",
       "\n",
       "    .dataframe thead th {\n",
       "        text-align: right;\n",
       "    }\n",
       "</style>\n",
       "<table border=\"1\" class=\"dataframe\">\n",
       "  <thead>\n",
       "    <tr style=\"text-align: right;\">\n",
       "      <th></th>\n",
       "      <th>pregnant</th>\n",
       "      <th>glucose</th>\n",
       "      <th>bp</th>\n",
       "      <th>skin</th>\n",
       "      <th>insulin</th>\n",
       "      <th>bmi</th>\n",
       "      <th>pedigree</th>\n",
       "      <th>age</th>\n",
       "      <th>label</th>\n",
       "    </tr>\n",
       "  </thead>\n",
       "  <tbody>\n",
       "    <tr>\n",
       "      <th>0</th>\n",
       "      <td>6</td>\n",
       "      <td>148</td>\n",
       "      <td>72</td>\n",
       "      <td>35</td>\n",
       "      <td>0</td>\n",
       "      <td>33.6</td>\n",
       "      <td>0.627</td>\n",
       "      <td>50</td>\n",
       "      <td>1</td>\n",
       "    </tr>\n",
       "    <tr>\n",
       "      <th>1</th>\n",
       "      <td>1</td>\n",
       "      <td>85</td>\n",
       "      <td>66</td>\n",
       "      <td>29</td>\n",
       "      <td>0</td>\n",
       "      <td>26.6</td>\n",
       "      <td>0.351</td>\n",
       "      <td>31</td>\n",
       "      <td>0</td>\n",
       "    </tr>\n",
       "    <tr>\n",
       "      <th>2</th>\n",
       "      <td>8</td>\n",
       "      <td>183</td>\n",
       "      <td>64</td>\n",
       "      <td>0</td>\n",
       "      <td>0</td>\n",
       "      <td>23.3</td>\n",
       "      <td>0.672</td>\n",
       "      <td>32</td>\n",
       "      <td>1</td>\n",
       "    </tr>\n",
       "    <tr>\n",
       "      <th>3</th>\n",
       "      <td>1</td>\n",
       "      <td>89</td>\n",
       "      <td>66</td>\n",
       "      <td>23</td>\n",
       "      <td>94</td>\n",
       "      <td>28.1</td>\n",
       "      <td>0.167</td>\n",
       "      <td>21</td>\n",
       "      <td>0</td>\n",
       "    </tr>\n",
       "    <tr>\n",
       "      <th>4</th>\n",
       "      <td>0</td>\n",
       "      <td>137</td>\n",
       "      <td>40</td>\n",
       "      <td>35</td>\n",
       "      <td>168</td>\n",
       "      <td>43.1</td>\n",
       "      <td>2.288</td>\n",
       "      <td>33</td>\n",
       "      <td>1</td>\n",
       "    </tr>\n",
       "  </tbody>\n",
       "</table>\n",
       "</div>"
      ],
      "text/plain": [
       "   pregnant  glucose  bp  skin  insulin   bmi  pedigree  age  label\n",
       "0         6      148  72    35        0  33.6     0.627   50      1\n",
       "1         1       85  66    29        0  26.6     0.351   31      0\n",
       "2         8      183  64     0        0  23.3     0.672   32      1\n",
       "3         1       89  66    23       94  28.1     0.167   21      0\n",
       "4         0      137  40    35      168  43.1     2.288   33      1"
      ]
     },
     "execution_count": 19,
     "metadata": {},
     "output_type": "execute_result"
    }
   ],
   "source": [
    "col_names = ['pregnant', 'glucose', 'bp', 'skin', 'insulin', 'bmi', 'pedigree', 'age', 'label']\n",
    "# load dataset\n",
    "data = pd.read_csv(\"./data/diabetes.csv\", header=None, names=col_names)\n",
    "data.head()"
   ]
  },
  {
   "cell_type": "code",
   "execution_count": 20,
   "metadata": {},
   "outputs": [
    {
     "name": "stdout",
     "output_type": "stream",
     "text": [
      "Dicision tree Accuracy: 0.683982683982684\n"
     ]
    }
   ],
   "source": [
    "feature_cols = ['pregnant', 'insulin', 'bmi', 'age','glucose','bp','pedigree']\n",
    "X = data[feature_cols] # Features\n",
    "\n",
    "y = data.label # Target variable\n",
    "X_train, X_test, y_train, y_test = train_test_split(X, y, test_size=0.3, random_state=1)\n",
    "tree1 = DecisionTreeClassifier()\n",
    "tree1 = tree1.fit(X_train,y_train)\n",
    "pred1 = tree1.predict(X_test)\n",
    "print(\"Dicision tree Accuracy:\",metrics.accuracy_score(y_test, pred1))\n",
    "visualize_tree(tree1, \"diabetes\")"
   ]
  },
  {
   "cell_type": "code",
   "execution_count": 21,
   "metadata": {},
   "outputs": [
    {
     "name": "stdout",
     "output_type": "stream",
     "text": [
      "Dicision tree, Criterion = gini Accuracy: 0.7272727272727273\n",
      "              precision    recall  f1-score   support\n",
      "\n",
      "           0       0.86      0.75      0.80       167\n",
      "           1       0.51      0.67      0.58        64\n",
      "\n",
      "   micro avg       0.73      0.73      0.73       231\n",
      "   macro avg       0.68      0.71      0.69       231\n",
      "weighted avg       0.76      0.73      0.74       231\n",
      "\n"
     ]
    }
   ],
   "source": [
    "tree2 = DecisionTreeClassifier(criterion='gini', max_depth = 7)\n",
    "tree2.fit(X_train, y_train)\n",
    "pred2 = tree2.predict(X_test)\n",
    "print('Dicision tree, Criterion = gini Accuracy:', accuracy_score(y_test, pred2))\n",
    "visualize_tree(tree2, \"gini\")\n",
    "print(metrics.classification_report(pred2, y_test))"
   ]
  },
  {
   "cell_type": "code",
   "execution_count": 22,
   "metadata": {},
   "outputs": [
    {
     "name": "stdout",
     "output_type": "stream",
     "text": [
      "Dicision tree, Criterion = entropy Accuracy: 0.7532467532467533\n",
      "              precision    recall  f1-score   support\n",
      "\n",
      "           0       0.90      0.76      0.82       173\n",
      "           1       0.51      0.74      0.60        58\n",
      "\n",
      "   micro avg       0.75      0.75      0.75       231\n",
      "   macro avg       0.70      0.75      0.71       231\n",
      "weighted avg       0.80      0.75      0.77       231\n",
      "\n"
     ]
    }
   ],
   "source": [
    "tree3 = DecisionTreeClassifier(criterion='entropy', max_depth = 7, splitter='random')\n",
    "tree3.fit(X_train, y_train)\n",
    "pred3 = tree3.predict(X_test)\n",
    "print('Dicision tree, Criterion = entropy Accuracy:', accuracy_score(y_test, pred3))\n",
    "visualize_tree(tree3, \"entropy\")\n",
    "print(metrics.classification_report(pred3, y_test))"
   ]
  },
  {
   "cell_type": "code",
   "execution_count": 23,
   "metadata": {
    "scrolled": true
   },
   "outputs": [
    {
     "name": "stdout",
     "output_type": "stream",
     "text": [
      "Random Forest Accuracy: 0.7835497835497836\n",
      "              precision    recall  f1-score   support\n",
      "\n",
      "           0       0.87      0.80      0.84       158\n",
      "           1       0.64      0.74      0.68        73\n",
      "\n",
      "   micro avg       0.78      0.78      0.78       231\n",
      "   macro avg       0.75      0.77      0.76       231\n",
      "weighted avg       0.80      0.78      0.79       231\n",
      "\n"
     ]
    },
    {
     "name": "stderr",
     "output_type": "stream",
     "text": [
      "C:\\Users\\USER\\Anaconda3\\lib\\site-packages\\sklearn\\ensemble\\forest.py:246: FutureWarning: The default value of n_estimators will change from 10 in version 0.20 to 100 in 0.22.\n",
      "  \"10 in version 0.20 to 100 in 0.22.\", FutureWarning)\n"
     ]
    }
   ],
   "source": [
    "Rtree = RandomForestClassifier(criterion = 'entropy', max_depth=4, random_state=0)\n",
    "Rtree.fit(X_train, y_train)\n",
    "Rpred = Rtree.predict(X_test)\n",
    "print('Random Forest Accuracy:', accuracy_score(y_test, Rpred))\n",
    "print(metrics.classification_report(Rpred, y_test))"
   ]
  },
  {
   "cell_type": "code",
   "execution_count": 33,
   "metadata": {},
   "outputs": [
    {
     "name": "stdout",
     "output_type": "stream",
     "text": [
      "[0, 0, 0, 0, 0, 0, 0, 0, 0, 0, 0, 0, 1, 1, 0, 1, 1, 0, 0, 0, 1, 1, 1, 1, 0, 0, 0, 1, 0, 1, 1, 0, 0, 1, 0, 1, 0, 0, 0, 0, 0, 0, 0, 1, 0, 0, 1, 1, 0, 1, 0, 0, 1, 0, 1, 0, 1, 0, 0, 0, 0, 0, 1, 0, 1, 0, 1, 1, 0, 1, 1, 0, 0, 0, 1, 1, 1, 0, 0, 1, 1, 0, 1, 1, 0, 0, 1, 0, 0, 0, 0, 0, 0, 0, 1, 0, 0, 0, 1, 0, 0, 0, 1, 0, 0, 0, 1, 0, 1, 0, 1, 0, 0, 0, 1, 0, 0, 1, 0, 1, 0, 1, 1, 0, 0, 0, 0, 1, 0, 0, 1, 0, 1, 0, 0, 0, 0, 0, 1, 0, 1, 0, 0, 1, 1, 1, 0, 0, 1, 0, 0, 1, 0, 0, 1, 1, 0, 0, 0, 0, 1, 1, 0, 0, 1, 0, 1, 1, 0, 0, 1, 1, 0, 0, 1, 0, 1, 0, 0, 0, 1, 0, 0, 1, 0, 0, 0, 0, 1, 0, 0, 0, 0, 0, 1, 0, 0, 0, 1, 1, 1, 0, 0, 0, 1, 1, 0, 0, 0, 1, 0, 0, 1, 1, 0, 1, 1, 0, 0, 1, 0, 0, 0, 1, 1, 0, 0, 0, 0, 1, 1] [0, 1, 0, 0, 0, 0, 0, 0, 0, 0, 0, 1, 0, 1, 0, 0, 0, 1, 0, 0, 1, 0, 1, 0, 0, 1, 0, 1, 0, 0, 0, 1, 0, 1, 1, 0, 0, 1, 0, 1, 0, 0, 0, 0, 0, 0, 0, 1, 0, 0, 0, 1, 1, 0, 1, 0, 1, 0, 0, 0, 0, 0, 0, 0, 1, 0, 0, 0, 1, 1, 1, 1, 0, 0, 1, 0, 1, 0, 0, 1, 1, 0, 1, 0, 0, 1, 0, 1, 1, 0, 0, 0, 0, 0, 1, 0, 1, 0, 1, 0, 0, 1, 1, 1, 0, 0, 0, 1, 1, 0, 1, 0, 0, 0, 0, 0, 0, 0, 0, 0, 0, 1, 0, 0, 0, 0, 0, 0, 0, 0, 1, 0, 0, 1, 0, 0, 0, 1, 0, 0, 0, 0, 0, 1, 0, 0, 0, 0, 0, 0, 1, 0, 1, 0, 1, 0, 1, 0, 0, 0, 1, 0, 0, 0, 1, 0, 1, 1, 1, 1, 1, 1, 0, 0, 1, 0, 0, 0, 0, 0, 1, 1, 0, 0, 0, 0, 0, 1, 0, 0, 0, 0, 0, 0, 1, 0, 1, 0, 0, 1, 1, 0, 1, 0, 0, 1, 0, 0, 0, 1, 0, 0, 0, 1, 1, 1, 0, 0, 0, 0, 0, 0, 0, 0, 0, 0, 0, 0, 0, 1, 0]\n"
     ]
    }
   ],
   "source": [
    "from sklearn.metrics import confusion_matrix\n",
    "\n",
    "# confusion matrix need type list as input \n",
    "y_test_list = y_test.tolist() \n",
    "pred_list1 = pred1.tolist() \n",
    "pred_list2 = pred2.tolist() \n",
    "pred_list3 = pred3.tolist() \n",
    "pred_listR = Rpred.tolist() "
   ]
  },
  {
   "cell_type": "code",
   "execution_count": 69,
   "metadata": {
    "scrolled": true
   },
   "outputs": [
    {
     "name": "stdout",
     "output_type": "stream",
     "text": [
      "Original decision tree:\n",
      "TP: 42 TN: 116 FP: 30 FN: 43\n",
      "Gini decision tree:\n",
      "TP: 43 TN: 125 FP: 21 FN: 42\n",
      "Entropy decision tree:\n",
      "TP: 43 TN: 131 FP: 15 FN: 42\n",
      "Random forest:\n",
      "TP: 54 TN: 127 FP: 19 FN: 31\n"
     ]
    }
   ],
   "source": [
    "tn1, fp1, fn1, tp1 = confusion_matrix(y_test_list, pred_list1).ravel() # binary case\n",
    "print(\"Original decision tree:\")\n",
    "print(\"TP:\", tp1, \"TN:\",tn1, \"FP:\",fp1,\"FN:\" ,fn1)\n",
    "\n",
    "tn2, fp2, fn2, tp2 = confusion_matrix(y_test_list, pred_list2).ravel()\n",
    "print(\"Gini decision tree:\")\n",
    "print(\"TP:\", tp2, \"TN:\",tn2, \"FP:\",fp2,\"FN:\" ,fn2)\n",
    "\n",
    "tn3, fp3, fn3, tp3 = confusion_matrix(y_test_list, pred_list3).ravel()\n",
    "print(\"Entropy decision tree:\")\n",
    "print(\"TP:\", tp3, \"TN:\",tn3, \"FP:\",fp3,\"FN:\" ,fn3)\n",
    "\n",
    "tnr, fpr, fnr, tpr = confusion_matrix(y_test_list, pred_listR).ravel()\n",
    "print(\"Random forest:\")\n",
    "print(\"TP:\", tpr, \"TN:\",tnr, \"FP:\",fpr,\"FN:\" ,fnr)"
   ]
  },
  {
   "cell_type": "code",
   "execution_count": null,
   "metadata": {},
   "outputs": [],
   "source": [
    "from sklearn.metrics import roc_curve, auc"
   ]
  },
  {
   "cell_type": "code",
   "execution_count": 180,
   "metadata": {
    "collapsed": true
   },
   "outputs": [
    {
     "data": {
      "image/png": "[encoded data removed]",
      "text/plain": [
       "<Figure size 1080x720 with 4 Axes>"
      ]
     },
     "metadata": {
      "needs_background": "light"
     },
     "output_type": "display_data"
    }
   ],
   "source": [
    "import seaborn  as sns\n",
    "import matplotlib.pyplot as plt\n",
    "\n",
    "f,(ax1,ax2,ax3,ax4) = plt.subplots(1,4, figsize = (15,10))\n",
    "#ax1.get_shared_y_axes().join(ax2,ax3)\n",
    "g1 = sns.heatmap(confusion_matrix(y_test_list, pred_list1).T, square=True, annot=True, fmt='d', cbar=False,ax=ax1)\n",
    "g1.set_ylabel('predicted label')\n",
    "g1.set_xlabel('true label')\n",
    "g1.set_yticks([])\n",
    "g2 = sns.heatmap(confusion_matrix(y_test_list, pred_list2).T, square=True, annot=True, fmt='d', cbar=False,ax=ax2)\n",
    "g2.set_ylabel('predicted label')\n",
    "g2.set_xlabel('true label')\n",
    "g2.set_yticks([])\n",
    "g3 = sns.heatmap(confusion_matrix(y_test_list, pred_list3).T, square=True, annot=True, fmt='d', cbar=False,ax=ax3)\n",
    "g3.set_ylabel('predicted label')\n",
    "g3.set_xlabel('true label')\n",
    "g3.set_yticks([])\n",
    "g4 = sns.heatmap(confusion_matrix(y_test_list, pred_listR).T, square=True, annot=True, fmt='d', cbar=False,ax=ax4)\n",
    "g4.set_ylabel('predicted label')\n",
    "g4.set_xlabel('true label')\n",
    "g4.set_yticks([])\n",
    "\n",
    "plt.show()"
   ]
  },
  {
   "cell_type": "code",
   "execution_count": null,
   "metadata": {},
   "outputs": [],
   "source": []
  },
  {
   "cell_type": "code",
   "execution_count": null,
   "metadata": {},
   "outputs": [],
   "source": []
  },
  {
   "cell_type": "code",
   "execution_count": null,
   "metadata": {},
   "outputs": [],
   "source": []
  },
  {
   "cell_type": "code",
   "execution_count": null,
   "metadata": {},
   "outputs": [],
   "source": []
  },
  {
   "cell_type": "code",
   "execution_count": null,
   "metadata": {},
   "outputs": [],
   "source": []
  },
  {
   "cell_type": "markdown",
   "metadata": {},
   "source": []
  }
 ],
 "metadata": {
  "kernelspec": {
   "display_name": "Python 3",
   "language": "python",
   "name": "python3"
  },
  "language_info": {
   "codemirror_mode": {
    "name": "ipython",
    "version": 3
   },
   "file_extension": ".py",
   "mimetype": "text/x-python",
   "name": "python",
   "nbconvert_exporter": "python",
   "pygments_lexer": "ipython3",
   "version": "3.7.3"
  }
 },
 "nbformat": 4,
 "nbformat_minor": 2
}
