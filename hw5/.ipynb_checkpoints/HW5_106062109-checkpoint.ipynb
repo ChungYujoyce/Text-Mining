{
 "cells": [
  {
   "cell_type": "markdown",
   "metadata": {},
   "source": [
    "### Assignment 5 classification"
   ]
  },
  {
   "cell_type": "markdown",
   "metadata": {},
   "source": [
    "Use dataset https://www.kaggle.com/uciml/pima-indians-diabetes-database\n",
    "\n",
    "Description: \n",
    "\n",
    "Pregnancies: Number of times pregnant <br>\n",
    "Glucose: Plasma glucose concentration a 2 hours in an oral glucose tolerance test<br>\n",
    "BloodPressure: Diastolic blood pressure (mm Hg)<br>\n",
    "SkinThickness: Triceps skin fold thickness (mm)<br>\n",
    "Insulin: 2-Hour serum insulin (mu U/ml)<br>\n",
    "BMI: Body mass index (weight in kg/(height in m)^2)<br>\n",
    "DiabetesPedigreeFunction: Diabetes pedigree function<br>\n",
    "Age: Age (years)<br>\n",
    "Outcome: Class variable (0 or 1) 268 of 768 are 1, the others are 0"
   ]
  },
  {
   "cell_type": "code",
   "execution_count": 16,
   "metadata": {},
   "outputs": [],
   "source": [
    "import pandas as pd\n",
    "import warnings\n",
    "warnings.simplefilter(action='ignore', category=FutureWarning)\n",
    "from sklearn.metrics import accuracy_score\n",
    "from sklearn.model_selection import train_test_split\n",
    "from sklearn.tree import DecisionTreeClassifier\n",
    "from sklearn.ensemble import RandomForestClassifier\n",
    "\n",
    "# visualize func\n",
    "from sklearn.tree import export_graphviz\n",
    "from sklearn.externals.six import StringIO\n",
    "from IPython.display import Image  \n",
    "import pydotplus\n",
    "from sklearn import metrics\n",
    "\n",
    "import matplotlib.pyplot as plt\n",
    "from pandas import DataFrame\n",
    "import numpy as np\n",
    "import sys\n",
    "if sys.version_info[0] < 3: \n",
    "    from StringIO import StringIO\n",
    "else:\n",
    "    from io import StringIO\n",
    "\n",
    "def visualize_tree(tree, name):\n",
    "    \"\"\"StringIO(): creates an object (empty in this case) to receive a string buffer (the tree will be created first as a string before as an image) in DOT (graph description language) format.\"\"\"\n",
    "    dot_data = StringIO()\n",
    "    \"\"\"export_graphviz(): exports the tree in DOT format, generating a representation of the decision tree, which is written into the ‘out_file’.\"\"\"\n",
    "    export_graphviz(tree, out_file = dot_data)\n",
    "    \"\"\"graph_from_dot_data(): will use the DOT object to create the graph.\"\"\"\n",
    "    graph = pydotplus.graph_from_dot_data(dot_data.getvalue())\n",
    "    graph.write_png(\"./\"+ name +\".png\")\n",
    "    Image(graph.create_png())\n"
   ]
  },
  {
   "cell_type": "code",
   "execution_count": 17,
   "metadata": {},
   "outputs": [
    {
     "data": {
      "text/html": [
       "<div>\n",
       "<style scoped>\n",
       "    .dataframe tbody tr th:only-of-type {\n",
       "        vertical-align: middle;\n",
       "    }\n",
       "\n",
       "    .dataframe tbody tr th {\n",
       "        vertical-align: top;\n",
       "    }\n",
       "\n",
       "    .dataframe thead th {\n",
       "        text-align: right;\n",
       "    }\n",
       "</style>\n",
       "<table border=\"1\" class=\"dataframe\">\n",
       "  <thead>\n",
       "    <tr style=\"text-align: right;\">\n",
       "      <th></th>\n",
       "      <th>pregnant</th>\n",
       "      <th>glucose</th>\n",
       "      <th>bp</th>\n",
       "      <th>skin</th>\n",
       "      <th>insulin</th>\n",
       "      <th>bmi</th>\n",
       "      <th>pedigree</th>\n",
       "      <th>age</th>\n",
       "      <th>label</th>\n",
       "    </tr>\n",
       "  </thead>\n",
       "  <tbody>\n",
       "    <tr>\n",
       "      <th>0</th>\n",
       "      <td>6</td>\n",
       "      <td>148</td>\n",
       "      <td>72</td>\n",
       "      <td>35</td>\n",
       "      <td>0</td>\n",
       "      <td>33.6</td>\n",
       "      <td>0.627</td>\n",
       "      <td>50</td>\n",
       "      <td>1</td>\n",
       "    </tr>\n",
       "    <tr>\n",
       "      <th>1</th>\n",
       "      <td>1</td>\n",
       "      <td>85</td>\n",
       "      <td>66</td>\n",
       "      <td>29</td>\n",
       "      <td>0</td>\n",
       "      <td>26.6</td>\n",
       "      <td>0.351</td>\n",
       "      <td>31</td>\n",
       "      <td>0</td>\n",
       "    </tr>\n",
       "    <tr>\n",
       "      <th>2</th>\n",
       "      <td>8</td>\n",
       "      <td>183</td>\n",
       "      <td>64</td>\n",
       "      <td>0</td>\n",
       "      <td>0</td>\n",
       "      <td>23.3</td>\n",
       "      <td>0.672</td>\n",
       "      <td>32</td>\n",
       "      <td>1</td>\n",
       "    </tr>\n",
       "    <tr>\n",
       "      <th>3</th>\n",
       "      <td>1</td>\n",
       "      <td>89</td>\n",
       "      <td>66</td>\n",
       "      <td>23</td>\n",
       "      <td>94</td>\n",
       "      <td>28.1</td>\n",
       "      <td>0.167</td>\n",
       "      <td>21</td>\n",
       "      <td>0</td>\n",
       "    </tr>\n",
       "    <tr>\n",
       "      <th>4</th>\n",
       "      <td>0</td>\n",
       "      <td>137</td>\n",
       "      <td>40</td>\n",
       "      <td>35</td>\n",
       "      <td>168</td>\n",
       "      <td>43.1</td>\n",
       "      <td>2.288</td>\n",
       "      <td>33</td>\n",
       "      <td>1</td>\n",
       "    </tr>\n",
       "  </tbody>\n",
       "</table>\n",
       "</div>"
      ],
      "text/plain": [
       "   pregnant  glucose  bp  skin  insulin   bmi  pedigree  age  label\n",
       "0         6      148  72    35        0  33.6     0.627   50      1\n",
       "1         1       85  66    29        0  26.6     0.351   31      0\n",
       "2         8      183  64     0        0  23.3     0.672   32      1\n",
       "3         1       89  66    23       94  28.1     0.167   21      0\n",
       "4         0      137  40    35      168  43.1     2.288   33      1"
      ]
     },
     "execution_count": 17,
     "metadata": {},
     "output_type": "execute_result"
    }
   ],
   "source": [
    "col_names = ['pregnant', 'glucose', 'bp', 'skin', 'insulin', 'bmi', 'pedigree', 'age', 'label']\n",
    "# load dataset\n",
    "data = pd.read_csv(\"./data/diabetes.csv\", header=0, names=col_names)\n",
    "data.head()"
   ]
  },
  {
   "cell_type": "markdown",
   "metadata": {},
   "source": [
    "### Decision tree classification"
   ]
  },
  {
   "cell_type": "code",
   "execution_count": 18,
   "metadata": {},
   "outputs": [
    {
     "name": "stdout",
     "output_type": "stream",
     "text": [
      "Dicision tree Accuracy: 0.6796536796536796\n"
     ]
    }
   ],
   "source": [
    "feature_cols = ['pregnant', 'insulin', 'bmi', 'age','glucose','bp','pedigree']\n",
    "X = data[feature_cols] # Features\n",
    "y = data.label # Target variable\n",
    "X_train, X_test, y_train, y_test = train_test_split(X, y, test_size=0.3, random_state=1)\n",
    "\n",
    "tree = []\n",
    "pred = []\n",
    "\n",
    "tree1 = DecisionTreeClassifier()\n",
    "tree1 = tree1.fit(X_train,y_train)\n",
    "pred1 = tree1.predict(X_test)\n",
    "print(\"Dicision tree Accuracy:\",metrics.accuracy_score(y_test, pred1))\n",
    "visualize_tree(tree1, \"original\")"
   ]
  },
  {
   "cell_type": "code",
   "execution_count": 19,
   "metadata": {},
   "outputs": [
    {
     "name": "stdout",
     "output_type": "stream",
     "text": [
      "Dicision tree, Criterion = gini Accuracy: 0.7186147186147186\n",
      "              precision    recall  f1-score   support\n",
      "\n",
      "           0       0.84      0.75      0.79       165\n",
      "           1       0.51      0.65      0.57        66\n",
      "\n",
      "   micro avg       0.72      0.72      0.72       231\n",
      "   macro avg       0.67      0.70      0.68       231\n",
      "weighted avg       0.75      0.72      0.73       231\n",
      "\n"
     ]
    }
   ],
   "source": [
    "tree2 = DecisionTreeClassifier(criterion='gini', max_depth = 7)\n",
    "tree2.fit(X_train, y_train)\n",
    "pred2 = tree2.predict(X_test)\n",
    "print('Dicision tree, Criterion = gini Accuracy:', accuracy_score(y_test, pred2))\n",
    "visualize_tree(tree2, \"gini\")\n",
    "print(metrics.classification_report(pred2, y_test))"
   ]
  },
  {
   "cell_type": "code",
   "execution_count": 20,
   "metadata": {},
   "outputs": [
    {
     "name": "stdout",
     "output_type": "stream",
     "text": [
      "Dicision tree, Criterion = entropy Accuracy: 0.7489177489177489\n",
      "              precision    recall  f1-score   support\n",
      "\n",
      "           0       0.95      0.73      0.83       188\n",
      "           1       0.41      0.81      0.55        43\n",
      "\n",
      "   micro avg       0.75      0.75      0.75       231\n",
      "   macro avg       0.68      0.77      0.69       231\n",
      "weighted avg       0.85      0.75      0.77       231\n",
      "\n"
     ]
    }
   ],
   "source": [
    "tree3 = DecisionTreeClassifier(criterion='entropy', max_depth = 7, splitter='random')\n",
    "tree3.fit(X_train, y_train)\n",
    "pred3 = tree3.predict(X_test)\n",
    "print('Dicision tree, Criterion = entropy Accuracy:', accuracy_score(y_test, pred3))\n",
    "visualize_tree(tree3, \"entropy\")\n",
    "print(metrics.classification_report(pred3, y_test))"
   ]
  },
  {
   "cell_type": "code",
   "execution_count": 21,
   "metadata": {
    "scrolled": true
   },
   "outputs": [
    {
     "name": "stdout",
     "output_type": "stream",
     "text": [
      "Random Forest Accuracy: 0.7835497835497836\n",
      "              precision    recall  f1-score   support\n",
      "\n",
      "           0       0.87      0.80      0.84       158\n",
      "           1       0.64      0.74      0.68        73\n",
      "\n",
      "   micro avg       0.78      0.78      0.78       231\n",
      "   macro avg       0.75      0.77      0.76       231\n",
      "weighted avg       0.80      0.78      0.79       231\n",
      "\n"
     ]
    }
   ],
   "source": [
    "Rtree = RandomForestClassifier(criterion = 'entropy', max_depth=4, random_state=0)\n",
    "Rtree.fit(X_train, y_train)\n",
    "Rpred = Rtree.predict(X_test)\n",
    "print('Random Forest Accuracy:', accuracy_score(y_test, Rpred))\n",
    "print(metrics.classification_report(Rpred, y_test))"
   ]
  },
  {
   "cell_type": "code",
   "execution_count": 22,
   "metadata": {},
   "outputs": [],
   "source": [
    "from sklearn.metrics import confusion_matrix\n",
    "\n",
    "# confusion matrix need type list as input \n",
    "y_test_list = y_test.tolist() \n",
    "\n",
    "pred_list = []\n",
    "pred_list.append(pred1.tolist())\n",
    "pred_list.append(pred2.tolist())\n",
    "pred_list.append(pred3.tolist())\n",
    "pred_list.append(Rpred.tolist())"
   ]
  },
  {
   "cell_type": "markdown",
   "metadata": {},
   "source": [
    "### Consufion Matrix"
   ]
  },
  {
   "cell_type": "code",
   "execution_count": 23,
   "metadata": {
    "scrolled": true
   },
   "outputs": [
    {
     "name": "stdout",
     "output_type": "stream",
     "text": [
      "Original decision tree:\n",
      "TP: 42 TN: 115 FP: 31 FN: 43\n",
      "Gini decision tree:\n",
      "TP: 43 TN: 123 FP: 23 FN: 42\n",
      "Entropy decision tree:\n",
      "TP: 35 TN: 138 FP: 8 FN: 50\n",
      "Random forest:\n",
      "TP: 54 TN: 127 FP: 19 FN: 31\n"
     ]
    }
   ],
   "source": [
    "for i in range(4):\n",
    "    tn, fp, fn, tp = confusion_matrix(y_test_list, pred_list[i]).ravel() # binary case\n",
    "    if(i==0): print(\"Original decision tree:\")\n",
    "    elif(i==1): print(\"Gini decision tree:\")\n",
    "    elif(i==2): print(\"Entropy decision tree:\")\n",
    "    else: print(\"Random forest:\")\n",
    "    print(\"TP:\", tp, \"TN:\",tn, \"FP:\",fp,\"FN:\" ,fn)"
   ]
  },
  {
   "cell_type": "code",
   "execution_count": 24,
   "metadata": {
    "scrolled": false
   },
   "outputs": [
    {
     "data": {
      "image/png": "[encoded data removed]",
      "text/plain": [
       "<Figure size 1080x720 with 4 Axes>"
      ]
     },
     "metadata": {
      "needs_background": "light"
     },
     "output_type": "display_data"
    }
   ],
   "source": [
    "import seaborn  as sns\n",
    "import matplotlib.pyplot as plt\n",
    "\n",
    "ax = []\n",
    "f, ax = plt.subplots(1,4, figsize = (15,10))\n",
    "\n",
    "for i in range(4):\n",
    "    g1 = sns.heatmap(confusion_matrix(y_test_list, pred_list[i]).T, square=True, annot=True, fmt='d', cbar=False,ax=ax[i])\n",
    "    g1.set_ylabel('predicted label')\n",
    "    g1.set_xlabel('true label')\n",
    "    g1.set_yticks([])\n",
    "\n",
    "plt.show()"
   ]
  },
  {
   "cell_type": "markdown",
   "metadata": {},
   "source": [
    "###  Present the results of the classification"
   ]
  },
  {
   "cell_type": "code",
   "execution_count": 25,
   "metadata": {},
   "outputs": [],
   "source": [
    "import numpy as np\n",
    "import matplotlib.pyplot as plt\n",
    "from itertools import cycle\n",
    "\n",
    "from sklearn import svm, datasets\n",
    "from sklearn.metrics import roc_curve, auc\n",
    "from sklearn.model_selection import train_test_split\n",
    "from sklearn.preprocessing import label_binarize\n",
    "from sklearn.multiclass import OneVsRestClassifier\n",
    "from scipy import interp\n",
    "from sklearn.metrics import roc_auc_score, average_precision_score\n",
    "from sklearn.preprocessing import OneHotEncoder"
   ]
  },
  {
   "cell_type": "code",
   "execution_count": 36,
   "metadata": {},
   "outputs": [],
   "source": [
    "# split data into 2 part by class (pos/neg)\n",
    "neg = data[data['label'] == 0]\n",
    "pos = data[data['label'] == 1]\n",
    "\n",
    "def show_info_in_diff_classes(data,Class, X_train, X_test, y_train, y_test, y_score, tree):\n",
    "    \n",
    "    tree = tree.fit(X_train, y_train)\n",
    "    pred = tree.predict(X_test)\n",
    "    pred_list = pred.tolist()\n",
    "    y_test_list = y_test.tolist() \n",
    "    tn, fp, fn, tp = confusion_matrix(y_test_list, pred_list).ravel() # binary case\n",
    "    y_test = pd.DataFrame(y_test)\n",
    "    # need to transform y_test label into one hot encoding\n",
    "    onehotencoder = OneHotEncoder(categorical_features = [0])\n",
    "    ohe_data = onehotencoder.fit_transform(y_test).toarray() \n",
    "    ohe_data = np.array(ohe_data)\n",
    "    \n",
    "    roc_area = roc_auc_score(ohe_data, y_score)\n",
    "    prc_area = average_precision_score(ohe_data, y_score)\n",
    "    \n",
    "    d = {'samples': len(data), 'classes': Class, 'attributes': 8,\n",
    "          'TP':tp, 'TN':tn, 'FP':fp, 'FN':fn, 'ROC area': roc_area, 'PRC area': prc_area}\n",
    "\n",
    "    df = pd.DataFrame(d, index=[0])\n",
    "    return df\n",
    "    "
   ]
  },
  {
   "cell_type": "code",
   "execution_count": 37,
   "metadata": {},
   "outputs": [
    {
     "name": "stdout",
     "output_type": "stream",
     "text": [
      "     Tree type  # samples classes  # attributes  TP   TN  FP  FN  ROC area  PRC area\n",
      "      Original        268     pos             8  42  113  33  43  0.627196  0.577585\n",
      "          Gini        268     pos             8  45  123  23  40  0.684932  0.646590\n",
      "       Entropy        268     pos             8  46  118  28  39  0.765955  0.719416\n",
      " Random Forest        268     pos             8  54  127  19  31  0.847703  0.838684\n",
      "\n",
      "\n",
      "     Tree type  # samples classes  # attributes  TP   TN  FP  FN  ROC area  PRC area\n",
      "      Original        500     neg             8  44  117  29  41  0.634045  0.583172\n",
      "          Gini        500     neg             8  44  125  21  41  0.724456  0.678317\n",
      "       Entropy        500     neg             8  44  132  14  41  0.713054  0.673748\n",
      " Random Forest        500     neg             8  54  127  19  31  0.847703  0.838684\n"
     ]
    }
   ],
   "source": [
    "import warnings\n",
    "warnings.filterwarnings(\"ignore\", category=DeprecationWarning) \n",
    "# process data first\n",
    "X = pos[feature_cols] # Features\n",
    "y = pos.label # Target variable\n",
    "X_train1, X_test1, y_train1, y_test1 = train_test_split(X, y, test_size=0.3, random_state=1)\n",
    "\n",
    "X = neg[feature_cols] # Features\n",
    "y = neg.label # Target variable\n",
    "X_train0, X_test0, y_train0, y_test0 = train_test_split(X, y, test_size=0.3, random_state=1)\n",
    "\n",
    "#pd.DataFrame.from_dict(data)\n",
    "res1 = show_info_in_diff_classes(pos,\"pos\", X_train, X_test, y_train, y_test, tree1.predict_proba(X_test), tree1)\n",
    "res2 = show_info_in_diff_classes(pos,\"pos\", X_train, X_test, y_train, y_test, tree2.predict_proba(X_test), tree2)\n",
    "res3 = show_info_in_diff_classes(pos,\"pos\", X_train, X_test, y_train, y_test, tree3.predict_proba(X_test), tree3)\n",
    "res4 = show_info_in_diff_classes(pos,\"pos\", X_train, X_test, y_train, y_test, Rtree.predict_proba(X_test), Rtree)\n",
    "\n",
    "frames = [res1, res2, res3, res4]\n",
    "result_pos = pd.concat(frames)\n",
    "result_pos.insert(loc=0, column='Tree type', value=['Original','Gini', 'Entropy', 'Random Forest'])\n",
    "print(result_pos.to_string(index=False))\n",
    "print('\\n')    \n",
    "\n",
    "res5 = show_info_in_diff_classes(neg,\"neg\", X_train, X_test, y_train, y_test, tree1.predict_proba(X_test), tree1)\n",
    "res6 = show_info_in_diff_classes(neg,\"neg\", X_train, X_test, y_train, y_test, tree2.predict_proba(X_test), tree2)\n",
    "res7 = show_info_in_diff_classes(neg,\"neg\", X_train, X_test, y_train, y_test, tree3.predict_proba(X_test), tree3)\n",
    "res8 = show_info_in_diff_classes(neg,\"neg\", X_train, X_test, y_train, y_test, Rtree.predict_proba(X_test), Rtree)\n",
    "\n",
    "frames = [res5, res6, res7, res8]\n",
    "result_neg = pd.concat(frames)\n",
    "result_neg.insert(loc=0, column='Tree type', value=['Original','Gini', 'Entropy', 'Random Forest'])\n",
    "print(result_neg.to_string(index=False))"
   ]
  },
  {
   "cell_type": "markdown",
   "metadata": {},
   "source": [
    "### ROC curve "
   ]
  },
  {
   "cell_type": "code",
   "execution_count": null,
   "metadata": {},
   "outputs": [],
   "source": [
    "y_test = pd.DataFrame(y_test)\n",
    "# need to transform y_test label into one hot encoding\n",
    "onehotencoder = OneHotEncoder(categorical_features = [0])\n",
    "ohe_data = onehotencoder.fit_transform(y_test).toarray() \n",
    "ohe_data = np.array(ohe_data)\n",
    "\n",
    "\n",
    "def plot_ROC(y_score, title):\n",
    "\n",
    "    n_classes = 2\n",
    "    fpr = dict()\n",
    "    tpr = dict()\n",
    "    roc_auc = dict()\n",
    "\n",
    "    for i in range(n_classes):\n",
    "        fpr[i], tpr[i], _ = roc_curve(ohe_data[:, i], y_score[:, i])\n",
    "        roc_auc[i] = auc(fpr[i], tpr[i])\n",
    "    fpr[\"micro\"], tpr[\"micro\"], _ = roc_curve(ohe_data.ravel(), y_score.ravel())\n",
    "    roc_auc[\"micro\"] = auc(fpr[\"micro\"], tpr[\"micro\"])\n",
    "    lw = 2\n",
    "    all_fpr = np.unique(np.concatenate([fpr[i] for i in range(n_classes)]))\n",
    "\n",
    "    # Then interpolate all ROC curves at this points\n",
    "    mean_tpr = np.zeros_like(all_fpr)\n",
    "    for i in range(n_classes):\n",
    "        mean_tpr += interp(all_fpr, fpr[i], tpr[i])\n",
    "\n",
    "    # Finally average it and compute AUC\n",
    "    mean_tpr /= n_classes\n",
    "\n",
    "    fpr[\"macro\"] = all_fpr\n",
    "    tpr[\"macro\"] = mean_tpr\n",
    "    roc_auc[\"macro\"] = auc(fpr[\"macro\"], tpr[\"macro\"])\n",
    "\n",
    "    # Plot all ROC curves\n",
    "    plt.figure()\n",
    "    plt.plot(fpr[\"micro\"], tpr[\"micro\"],\n",
    "             label='micro-average ROC curve (area = {0:0.2f})'\n",
    "                   ''.format(roc_auc[\"micro\"]),\n",
    "             color='deeppink', linestyle=':', linewidth=4)\n",
    "\n",
    "    plt.plot(fpr[\"macro\"], tpr[\"macro\"],\n",
    "             label='macro-average ROC curve (area = {0:0.2f})'\n",
    "                   ''.format(roc_auc[\"macro\"]),\n",
    "             color='navy', linestyle=':', linewidth=4)\n",
    "\n",
    "    colors = cycle(['aqua', 'darkorange', 'cornflowerblue'])\n",
    "    for i, color in zip(range(n_classes), colors):\n",
    "        plt.plot(fpr[i], tpr[i], color=color, lw=lw,\n",
    "                 label='ROC curve of class {0} (area = {1:0.2f})'\n",
    "                 ''.format(i, roc_auc[i]))\n",
    "\n",
    "    plt.plot([0, 1], [0, 1], 'k--', lw=lw)\n",
    "    plt.xlim([0.0, 1.0])\n",
    "    plt.ylim([0.0, 1.05])\n",
    "    plt.xlabel('False Positive Rate')\n",
    "    plt.ylabel('True Positive Rate')\n",
    "    plt.title(title)\n",
    "    plt.legend(loc=\"lower right\")\n",
    "    plt.show()\n"
   ]
  },
  {
   "cell_type": "code",
   "execution_count": null,
   "metadata": {
    "scrolled": true
   },
   "outputs": [],
   "source": [
    "plot_ROC(tree1.predict_proba(X_test), \"Original Decision Tree without any parameter changed\")\n",
    "plot_ROC(tree2.predict_proba(X_test), \"Gini Decision Tree\")\n",
    "plot_ROC(tree3.predict_proba(X_test), \"Entropy Decision Tree\")\n",
    "plot_ROC(Rtree.predict_proba(X_test), \"Random Forest\")"
   ]
  },
  {
   "cell_type": "markdown",
   "metadata": {},
   "source": [
    "### Result Analyzation"
   ]
  },
  {
   "cell_type": "markdown",
   "metadata": {},
   "source": []
  }
 ],
 "metadata": {
  "kernelspec": {
   "display_name": "Python 3",
   "language": "python",
   "name": "python3"
  },
  "language_info": {
   "codemirror_mode": {
    "name": "ipython",
    "version": 3
   },
   "file_extension": ".py",
   "mimetype": "text/x-python",
   "name": "python",
   "nbconvert_exporter": "python",
   "pygments_lexer": "ipython3",
   "version": "3.7.3"
  }
 },
 "nbformat": 4,
 "nbformat_minor": 2
}
